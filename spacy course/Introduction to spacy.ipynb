{
 "cells": [
  {
   "cell_type": "code",
   "execution_count": 2,
   "id": "95eaad08-e1f7-4cb1-a73b-36aee68177a5",
   "metadata": {},
   "outputs": [
    {
     "name": "stdout",
     "output_type": "stream",
     "text": [
      "Hello\n",
      "World\n",
      "!\n"
     ]
    }
   ],
   "source": [
    "# import spacy\n",
    "import spacy\n",
    "\n",
    "\n",
    "# Create blank English NLP object\n",
    "nlp = spacy.blank(\"en\")\n",
    "\n",
    "# Created by processing a string of text with the nlp object\n",
    "doc = nlp(\"Hello World!\")\n",
    "\n",
    "# Iterate over tokens in a doc\n",
    "for token in doc:\n",
    "    print(token.text)"
   ]
  },
  {
   "cell_type": "code",
   "execution_count": 3,
   "id": "6da13842-bf78-47d2-8485-a764bcfd9ad7",
   "metadata": {},
   "outputs": [
    {
     "name": "stdout",
     "output_type": "stream",
     "text": [
      "Jayesh\n"
     ]
    }
   ],
   "source": [
    "doc = nlp(\"Hello Jayesh\")\n",
    "\n",
    "token = doc[1]\n",
    "\n",
    "print(token.text)"
   ]
  },
  {
   "cell_type": "code",
   "execution_count": 13,
   "id": "d3e92ccd-66fb-456c-8902-b739a527a94d",
   "metadata": {},
   "outputs": [
    {
     "name": "stdout",
     "output_type": "stream",
     "text": [
      "Jayesh.How are\n"
     ]
    }
   ],
   "source": [
    "doc = nlp(\"Hello Jayesh.How are you?\")\n",
    "\n",
    "token = doc[1:5]\n",
    "print(token.text)"
   ]
  },
  {
   "cell_type": "markdown",
   "id": "a65c0764-93e3-4083-bc78-b0c46c7b323c",
   "metadata": {},
   "source": [
    "## Lexical Attributes"
   ]
  },
  {
   "cell_type": "code",
   "execution_count": 12,
   "id": "82d53223-4425-4202-a774-a55f838be493",
   "metadata": {},
   "outputs": [
    {
     "name": "stdout",
     "output_type": "stream",
     "text": [
      "index:- [0, 1, 2, 3, 4, 5, 6] \n",
      "\n",
      "Text:- ['i', 'will', 'reach', 'at', '10', 'pm', '.'] \n",
      "\n",
      "is_alpha:- [True, True, True, True, False, True, False] \n",
      "\n",
      "is_punct:- [False, False, False, False, False, False, True] \n",
      "\n",
      "like_num:- [False, False, False, False, True, False, False]\n"
     ]
    }
   ],
   "source": [
    "doc = nlp(\"i will reach at 10 pm.\")\n",
    "\n",
    "print(\"index:-\",[token.i for token in doc],'\\n')\n",
    "\n",
    "print('Text:-',[token.text for token in doc],'\\n')\n",
    "\n",
    "print(\"is_alpha:-\",[token.is_alpha for token in doc],'\\n')\n",
    "\n",
    "print(\"is_punct:-\",[token.is_punct for token in doc],'\\n')\n",
    "\n",
    "print('like_num:-',[token.like_num for token in doc])"
   ]
  },
  {
   "cell_type": "markdown",
   "id": "f84a7bbb-e6f6-429b-bf19-7ba9285b489d",
   "metadata": {},
   "source": [
    "## Lexical Attributes\n",
    "In this example, you’ll use spaCy’s Doc and Token objects, and lexical attributes to find percentages in a text. You’ll be looking for two subsequent tokens: a number and a percent sign.\n",
    "\n",
    " Use the like_num token attribute to check whether a token in the doc resembles a number.\n",
    "Get the token following the current token in the document. The index of the next token in the doc is token.i + 1.\n",
    "Check whether the next token’s text attribute is a percent sign ”%“.\n",
    "text"
   ]
  },
  {
   "cell_type": "code",
   "execution_count": 14,
   "id": "45caa1a6-e441-46b7-a5b9-a9af69833662",
   "metadata": {},
   "outputs": [
    {
     "name": "stdout",
     "output_type": "stream",
     "text": [
      "Percentage found: 60\n",
      "Percentage found: 4\n"
     ]
    }
   ],
   "source": [
    "\n",
    "import spacy\n",
    "\n",
    "nlp = spacy.blank(\"en\")\n",
    "\n",
    "# Process the text\n",
    "doc = nlp(\n",
    "    \"In 1990, more than 60% of people in East Asia were in extreme poverty. \"\n",
    "    \"Now less than 4% are.\"\n",
    ")\n",
    "\n",
    "# Iterate over the tokens in the doc\n",
    "for token in doc:\n",
    "    # Check if the token resembles a number\n",
    "    if token.like_num:\n",
    "        # Get the next token in the document\n",
    "        next_token = doc[token.i + 1]\n",
    "        # Check if the next token's text equals \"%\"\n",
    "        if next_token.text == \"%\":\n",
    "            print(\"Percentage found:\", token.text)"
   ]
  },
  {
   "cell_type": "code",
   "execution_count": null,
   "id": "6d0cf774-52fa-455f-8d2a-4ed13b389675",
   "metadata": {},
   "outputs": [],
   "source": []
  }
 ],
 "metadata": {
  "kernelspec": {
   "display_name": "Python 3 (ipykernel)",
   "language": "python",
   "name": "python3"
  },
  "language_info": {
   "codemirror_mode": {
    "name": "ipython",
    "version": 3
   },
   "file_extension": ".py",
   "mimetype": "text/x-python",
   "name": "python",
   "nbconvert_exporter": "python",
   "pygments_lexer": "ipython3",
   "version": "3.9.16"
  }
 },
 "nbformat": 4,
 "nbformat_minor": 5
}

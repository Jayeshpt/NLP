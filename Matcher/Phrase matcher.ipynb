{
 "cells": [
  {
   "cell_type": "code",
   "execution_count": 15,
   "id": "37cbc177-3a93-4828-b29a-c87fbea2165d",
   "metadata": {},
   "outputs": [
    {
     "name": "stdout",
     "output_type": "stream",
     "text": [
      "Angela Merkel \n",
      "match_id 3766102292120407359 \n",
      "start 2 \n",
      "end 4 \n",
      "\n",
      "Barack Obama \n",
      "match_id 3766102292120407359 \n",
      "start 7 \n",
      "end 9 \n",
      "\n",
      "Washington, D.C. \n",
      "match_id 3766102292120407359 \n",
      "start 19 \n",
      "end 22 \n",
      "\n"
     ]
    }
   ],
   "source": [
    "import spacy\n",
    "from spacy.matcher import PhraseMatcher\n",
    "\n",
    "nlp = spacy.load(\"en_core_web_sm\")\n",
    "matcher = PhraseMatcher(nlp.vocab)\n",
    "terms = [\"Barack Obama\",\"Angela Merkel\",\"Washington, D.C.\"]\n",
    "patterns = [nlp.make_doc(text) for text in terms]\n",
    "matcher.add(\"TerminologyList\",patterns)\n",
    "#\"TerminologyList\": This is the name or label given to the pattern set being added.\n",
    "# It serves as an identifier for the set of patterns. You can choose any descriptive label you prefer.\n",
    "\n",
    "doc = nlp(\"German Chancellor Angela Merkel and US President Barack Obama \"\n",
    "          \"converse in the Oval Office inside the White House in Washington, D.C.\")\n",
    "matches = matcher(doc)\n",
    "for match_id ,start,end in matches:\n",
    "        span = doc[start:end]\n",
    "        print(span.text,\"\\nmatch_id\",match_id,\"\\nstart\",start,'\\nend',end,'\\n')\n"
   ]
  },
  {
   "cell_type": "code",
   "execution_count": 18,
   "id": "ab2940e7-a047-4b15-b891-ef8ac5230290",
   "metadata": {},
   "outputs": [
    {
     "name": "stdout",
     "output_type": "stream",
     "text": [
      "\n",
      "Matched based on lowercase token text: angela merkel\n",
      "\n",
      "Matched based on lowercase token text: barack Obama\n"
     ]
    }
   ],
   "source": [
    "from spacy.lang.en import English\n",
    "from spacy.matcher import PhraseMatcher\n",
    "\n",
    "nlp = English()\n",
    "matcher = PhraseMatcher(nlp.vocab,attr=\"LOWER\")\n",
    "patterns = [nlp.make_doc(name) for name in [\"Angela Merkel\",\"Barack Obama\"]]\n",
    "matcher.add(\"Names\",patterns)\n",
    "\n",
    "doc= nlp(\"angela merkel and us president barack Obama\")\n",
    "for match_id , start , end in matcher(doc):\n",
    "        print(\"\\nMatched based on lowercase token text:\",doc[start:end])"
   ]
  },
  {
   "cell_type": "code",
   "execution_count": 19,
   "id": "7ec5f3cf-1ba0-4240-a743-616daddfbf3a",
   "metadata": {},
   "outputs": [
    {
     "name": "stdout",
     "output_type": "stream",
     "text": [
      "Matched based on token shape: 192.168.1.1\n",
      "Matched based on token shape: 192.168.2.1\n"
     ]
    }
   ],
   "source": [
    "from spacy.lang.en import English\n",
    "from spacy.matcher import PhraseMatcher\n",
    "\n",
    "nlp = English()\n",
    "matcher = PhraseMatcher(nlp.vocab, attr=\"SHAPE\")\n",
    "matcher.add(\"IP\", [nlp(\"127.0.0.1\"), nlp(\"127.127.0.0\")])\n",
    "\n",
    "doc = nlp(\"Often the router will have an IP address such as 192.168.1.1 or 192.168.2.1.\")\n",
    "for match_id, start, end in matcher(doc):\n",
    "    print(\"Matched based on token shape:\", doc[start:end])"
   ]
  },
  {
   "cell_type": "code",
   "execution_count": null,
   "id": "f9189b85-2be8-4d86-acbd-7cc9cbcf8303",
   "metadata": {},
   "outputs": [],
   "source": []
  },
  {
   "cell_type": "code",
   "execution_count": null,
   "id": "ccbda446-bc1f-494d-b037-e89037ba9a51",
   "metadata": {},
   "outputs": [],
   "source": []
  }
 ],
 "metadata": {
  "kernelspec": {
   "display_name": "Python 3 (ipykernel)",
   "language": "python",
   "name": "python3"
  },
  "language_info": {
   "codemirror_mode": {
    "name": "ipython",
    "version": 3
   },
   "file_extension": ".py",
   "mimetype": "text/x-python",
   "name": "python",
   "nbconvert_exporter": "python",
   "pygments_lexer": "ipython3",
   "version": "3.9.16"
  }
 },
 "nbformat": 4,
 "nbformat_minor": 5
}

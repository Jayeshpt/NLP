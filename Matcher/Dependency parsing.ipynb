{
 "cells": [
  {
   "cell_type": "markdown",
   "id": "bab368f7",
   "metadata": {},
   "source": [
    "# Dependency parsing using spacy"
   ]
  },
  {
   "cell_type": "code",
   "execution_count": 1,
   "id": "62e348dd",
   "metadata": {},
   "outputs": [],
   "source": [
    "# Importing libraries\n",
    "import spacy\n",
    "from spacy import displacy"
   ]
  },
  {
   "cell_type": "code",
   "execution_count": 2,
   "id": "98777495",
   "metadata": {},
   "outputs": [],
   "source": [
    "# Load the language model\n",
    "nlp = spacy.load('en_core_web_sm')\n",
    "\n",
    "sentence = 'Jack flied high within the sea'\n",
    "\n",
    "# doc will return the tokens of this sentences\n",
    "# linguistic features and relationships\n",
    "doc = nlp(sentence)\n"
   ]
  },
  {
   "cell_type": "code",
   "execution_count": 19,
   "id": "d400825c",
   "metadata": {},
   "outputs": [
    {
     "name": "stdout",
     "output_type": "stream",
     "text": [
      "Token           | Relation | Head            | Children            \n",
      "----------------------------------------------------------------------\n",
      "Revenue         | nsubj    | exceeded        | []                  \n",
      "exceeded        | ROOT     | exceeded        | [Revenue, dollars, ,, with, .]\n",
      "twelve          | compound | billion         | []                  \n",
      "billion         | nummod   | dollars         | [twelve]            \n",
      "dollars         | dobj     | exceeded        | [billion]           \n",
      ",               | punct    | exceeded        | []                  \n",
      "with            | prep     | exceeded        | [loss]              \n",
      "a               | det      | loss            | []                  \n",
      "loss            | pobj     | with            | [a, of]             \n",
      "of              | prep     | loss            | [1b]                \n",
      "$               | nmod     | 1b              | []                  \n",
      "1b              | pobj     | of              | [$]                 \n",
      ".               | punct    | exceeded        | []                  \n"
     ]
    }
   ],
   "source": [
    "print (\"{:<15} | {:<8} | {:<15} | {:<20}\".format('Token','Relation','Head', 'Children'))\n",
    "print (\"-\" * 70)\n",
    "for token in doc:\n",
    "    # print the otken, dependecy, head and all dependents of the token\n",
    "    print(\"{:<15} | {:<8} | {:<15} | {:<20}\".format(str(token.text), str(token.dep_), str(token.head), str([child for child in token.children])))"
   ]
  },
  {
   "cell_type": "code",
   "execution_count": 16,
   "id": "3a334168",
   "metadata": {},
   "outputs": [
    {
     "data": {
      "text/html": [
       "<span class=\"tex2jax_ignore\"><svg xmlns=\"http://www.w3.org/2000/svg\" xmlns:xlink=\"http://www.w3.org/1999/xlink\" xml:lang=\"en\" id=\"27c40d33699f4b719a089f50e99fb557-0\" class=\"displacy\" width=\"1370\" height=\"317.0\" direction=\"ltr\" style=\"max-width: none; height: 317.0px; color: #000000; background: #ffffff; font-family: Arial; direction: ltr\">\n",
       "<text class=\"displacy-token\" fill=\"currentColor\" text-anchor=\"middle\" y=\"227.0\">\n",
       "    <tspan class=\"displacy-word\" fill=\"currentColor\" x=\"50\">Revenue</tspan>\n",
       "    <tspan class=\"displacy-tag\" dy=\"2em\" fill=\"currentColor\" x=\"50\">NOUN</tspan>\n",
       "</text>\n",
       "\n",
       "<text class=\"displacy-token\" fill=\"currentColor\" text-anchor=\"middle\" y=\"227.0\">\n",
       "    <tspan class=\"displacy-word\" fill=\"currentColor\" x=\"170\">exceeded</tspan>\n",
       "    <tspan class=\"displacy-tag\" dy=\"2em\" fill=\"currentColor\" x=\"170\">VERB</tspan>\n",
       "</text>\n",
       "\n",
       "<text class=\"displacy-token\" fill=\"currentColor\" text-anchor=\"middle\" y=\"227.0\">\n",
       "    <tspan class=\"displacy-word\" fill=\"currentColor\" x=\"290\">twelve</tspan>\n",
       "    <tspan class=\"displacy-tag\" dy=\"2em\" fill=\"currentColor\" x=\"290\">NUM</tspan>\n",
       "</text>\n",
       "\n",
       "<text class=\"displacy-token\" fill=\"currentColor\" text-anchor=\"middle\" y=\"227.0\">\n",
       "    <tspan class=\"displacy-word\" fill=\"currentColor\" x=\"410\">billion</tspan>\n",
       "    <tspan class=\"displacy-tag\" dy=\"2em\" fill=\"currentColor\" x=\"410\">NUM</tspan>\n",
       "</text>\n",
       "\n",
       "<text class=\"displacy-token\" fill=\"currentColor\" text-anchor=\"middle\" y=\"227.0\">\n",
       "    <tspan class=\"displacy-word\" fill=\"currentColor\" x=\"530\">dollars,</tspan>\n",
       "    <tspan class=\"displacy-tag\" dy=\"2em\" fill=\"currentColor\" x=\"530\">NOUN</tspan>\n",
       "</text>\n",
       "\n",
       "<text class=\"displacy-token\" fill=\"currentColor\" text-anchor=\"middle\" y=\"227.0\">\n",
       "    <tspan class=\"displacy-word\" fill=\"currentColor\" x=\"650\">with</tspan>\n",
       "    <tspan class=\"displacy-tag\" dy=\"2em\" fill=\"currentColor\" x=\"650\">ADP</tspan>\n",
       "</text>\n",
       "\n",
       "<text class=\"displacy-token\" fill=\"currentColor\" text-anchor=\"middle\" y=\"227.0\">\n",
       "    <tspan class=\"displacy-word\" fill=\"currentColor\" x=\"770\">a</tspan>\n",
       "    <tspan class=\"displacy-tag\" dy=\"2em\" fill=\"currentColor\" x=\"770\">DET</tspan>\n",
       "</text>\n",
       "\n",
       "<text class=\"displacy-token\" fill=\"currentColor\" text-anchor=\"middle\" y=\"227.0\">\n",
       "    <tspan class=\"displacy-word\" fill=\"currentColor\" x=\"890\">loss</tspan>\n",
       "    <tspan class=\"displacy-tag\" dy=\"2em\" fill=\"currentColor\" x=\"890\">NOUN</tspan>\n",
       "</text>\n",
       "\n",
       "<text class=\"displacy-token\" fill=\"currentColor\" text-anchor=\"middle\" y=\"227.0\">\n",
       "    <tspan class=\"displacy-word\" fill=\"currentColor\" x=\"1010\">of</tspan>\n",
       "    <tspan class=\"displacy-tag\" dy=\"2em\" fill=\"currentColor\" x=\"1010\">ADP</tspan>\n",
       "</text>\n",
       "\n",
       "<text class=\"displacy-token\" fill=\"currentColor\" text-anchor=\"middle\" y=\"227.0\">\n",
       "    <tspan class=\"displacy-word\" fill=\"currentColor\" x=\"1130\">$</tspan>\n",
       "    <tspan class=\"displacy-tag\" dy=\"2em\" fill=\"currentColor\" x=\"1130\">SYM</tspan>\n",
       "</text>\n",
       "\n",
       "<text class=\"displacy-token\" fill=\"currentColor\" text-anchor=\"middle\" y=\"227.0\">\n",
       "    <tspan class=\"displacy-word\" fill=\"currentColor\" x=\"1250\">1b.</tspan>\n",
       "    <tspan class=\"displacy-tag\" dy=\"2em\" fill=\"currentColor\" x=\"1250\">NUM</tspan>\n",
       "</text>\n",
       "\n",
       "<g class=\"displacy-arrow\">\n",
       "    <path class=\"displacy-arc\" id=\"arrow-27c40d33699f4b719a089f50e99fb557-0-0\" stroke-width=\"2px\" d=\"M70,182.0 C70,122.0 160.0,122.0 160.0,182.0\" fill=\"none\" stroke=\"currentColor\"/>\n",
       "    <text dy=\"1.25em\" style=\"font-size: 0.8em; letter-spacing: 1px\">\n",
       "        <textPath xlink:href=\"#arrow-27c40d33699f4b719a089f50e99fb557-0-0\" class=\"displacy-label\" startOffset=\"50%\" side=\"left\" fill=\"currentColor\" text-anchor=\"middle\">nsubj</textPath>\n",
       "    </text>\n",
       "    <path class=\"displacy-arrowhead\" d=\"M70,184.0 L62,172.0 78,172.0\" fill=\"currentColor\"/>\n",
       "</g>\n",
       "\n",
       "<g class=\"displacy-arrow\">\n",
       "    <path class=\"displacy-arc\" id=\"arrow-27c40d33699f4b719a089f50e99fb557-0-1\" stroke-width=\"2px\" d=\"M310,182.0 C310,122.0 400.0,122.0 400.0,182.0\" fill=\"none\" stroke=\"currentColor\"/>\n",
       "    <text dy=\"1.25em\" style=\"font-size: 0.8em; letter-spacing: 1px\">\n",
       "        <textPath xlink:href=\"#arrow-27c40d33699f4b719a089f50e99fb557-0-1\" class=\"displacy-label\" startOffset=\"50%\" side=\"left\" fill=\"currentColor\" text-anchor=\"middle\">compound</textPath>\n",
       "    </text>\n",
       "    <path class=\"displacy-arrowhead\" d=\"M310,184.0 L302,172.0 318,172.0\" fill=\"currentColor\"/>\n",
       "</g>\n",
       "\n",
       "<g class=\"displacy-arrow\">\n",
       "    <path class=\"displacy-arc\" id=\"arrow-27c40d33699f4b719a089f50e99fb557-0-2\" stroke-width=\"2px\" d=\"M430,182.0 C430,122.0 520.0,122.0 520.0,182.0\" fill=\"none\" stroke=\"currentColor\"/>\n",
       "    <text dy=\"1.25em\" style=\"font-size: 0.8em; letter-spacing: 1px\">\n",
       "        <textPath xlink:href=\"#arrow-27c40d33699f4b719a089f50e99fb557-0-2\" class=\"displacy-label\" startOffset=\"50%\" side=\"left\" fill=\"currentColor\" text-anchor=\"middle\">nummod</textPath>\n",
       "    </text>\n",
       "    <path class=\"displacy-arrowhead\" d=\"M430,184.0 L422,172.0 438,172.0\" fill=\"currentColor\"/>\n",
       "</g>\n",
       "\n",
       "<g class=\"displacy-arrow\">\n",
       "    <path class=\"displacy-arc\" id=\"arrow-27c40d33699f4b719a089f50e99fb557-0-3\" stroke-width=\"2px\" d=\"M190,182.0 C190,62.0 525.0,62.0 525.0,182.0\" fill=\"none\" stroke=\"currentColor\"/>\n",
       "    <text dy=\"1.25em\" style=\"font-size: 0.8em; letter-spacing: 1px\">\n",
       "        <textPath xlink:href=\"#arrow-27c40d33699f4b719a089f50e99fb557-0-3\" class=\"displacy-label\" startOffset=\"50%\" side=\"left\" fill=\"currentColor\" text-anchor=\"middle\">dobj</textPath>\n",
       "    </text>\n",
       "    <path class=\"displacy-arrowhead\" d=\"M525.0,184.0 L533.0,172.0 517.0,172.0\" fill=\"currentColor\"/>\n",
       "</g>\n",
       "\n",
       "<g class=\"displacy-arrow\">\n",
       "    <path class=\"displacy-arc\" id=\"arrow-27c40d33699f4b719a089f50e99fb557-0-4\" stroke-width=\"2px\" d=\"M190,182.0 C190,2.0 650.0,2.0 650.0,182.0\" fill=\"none\" stroke=\"currentColor\"/>\n",
       "    <text dy=\"1.25em\" style=\"font-size: 0.8em; letter-spacing: 1px\">\n",
       "        <textPath xlink:href=\"#arrow-27c40d33699f4b719a089f50e99fb557-0-4\" class=\"displacy-label\" startOffset=\"50%\" side=\"left\" fill=\"currentColor\" text-anchor=\"middle\">prep</textPath>\n",
       "    </text>\n",
       "    <path class=\"displacy-arrowhead\" d=\"M650.0,184.0 L658.0,172.0 642.0,172.0\" fill=\"currentColor\"/>\n",
       "</g>\n",
       "\n",
       "<g class=\"displacy-arrow\">\n",
       "    <path class=\"displacy-arc\" id=\"arrow-27c40d33699f4b719a089f50e99fb557-0-5\" stroke-width=\"2px\" d=\"M790,182.0 C790,122.0 880.0,122.0 880.0,182.0\" fill=\"none\" stroke=\"currentColor\"/>\n",
       "    <text dy=\"1.25em\" style=\"font-size: 0.8em; letter-spacing: 1px\">\n",
       "        <textPath xlink:href=\"#arrow-27c40d33699f4b719a089f50e99fb557-0-5\" class=\"displacy-label\" startOffset=\"50%\" side=\"left\" fill=\"currentColor\" text-anchor=\"middle\">det</textPath>\n",
       "    </text>\n",
       "    <path class=\"displacy-arrowhead\" d=\"M790,184.0 L782,172.0 798,172.0\" fill=\"currentColor\"/>\n",
       "</g>\n",
       "\n",
       "<g class=\"displacy-arrow\">\n",
       "    <path class=\"displacy-arc\" id=\"arrow-27c40d33699f4b719a089f50e99fb557-0-6\" stroke-width=\"2px\" d=\"M670,182.0 C670,62.0 885.0,62.0 885.0,182.0\" fill=\"none\" stroke=\"currentColor\"/>\n",
       "    <text dy=\"1.25em\" style=\"font-size: 0.8em; letter-spacing: 1px\">\n",
       "        <textPath xlink:href=\"#arrow-27c40d33699f4b719a089f50e99fb557-0-6\" class=\"displacy-label\" startOffset=\"50%\" side=\"left\" fill=\"currentColor\" text-anchor=\"middle\">pobj</textPath>\n",
       "    </text>\n",
       "    <path class=\"displacy-arrowhead\" d=\"M885.0,184.0 L893.0,172.0 877.0,172.0\" fill=\"currentColor\"/>\n",
       "</g>\n",
       "\n",
       "<g class=\"displacy-arrow\">\n",
       "    <path class=\"displacy-arc\" id=\"arrow-27c40d33699f4b719a089f50e99fb557-0-7\" stroke-width=\"2px\" d=\"M910,182.0 C910,122.0 1000.0,122.0 1000.0,182.0\" fill=\"none\" stroke=\"currentColor\"/>\n",
       "    <text dy=\"1.25em\" style=\"font-size: 0.8em; letter-spacing: 1px\">\n",
       "        <textPath xlink:href=\"#arrow-27c40d33699f4b719a089f50e99fb557-0-7\" class=\"displacy-label\" startOffset=\"50%\" side=\"left\" fill=\"currentColor\" text-anchor=\"middle\">prep</textPath>\n",
       "    </text>\n",
       "    <path class=\"displacy-arrowhead\" d=\"M1000.0,184.0 L1008.0,172.0 992.0,172.0\" fill=\"currentColor\"/>\n",
       "</g>\n",
       "\n",
       "<g class=\"displacy-arrow\">\n",
       "    <path class=\"displacy-arc\" id=\"arrow-27c40d33699f4b719a089f50e99fb557-0-8\" stroke-width=\"2px\" d=\"M1150,182.0 C1150,122.0 1240.0,122.0 1240.0,182.0\" fill=\"none\" stroke=\"currentColor\"/>\n",
       "    <text dy=\"1.25em\" style=\"font-size: 0.8em; letter-spacing: 1px\">\n",
       "        <textPath xlink:href=\"#arrow-27c40d33699f4b719a089f50e99fb557-0-8\" class=\"displacy-label\" startOffset=\"50%\" side=\"left\" fill=\"currentColor\" text-anchor=\"middle\">nmod</textPath>\n",
       "    </text>\n",
       "    <path class=\"displacy-arrowhead\" d=\"M1150,184.0 L1142,172.0 1158,172.0\" fill=\"currentColor\"/>\n",
       "</g>\n",
       "\n",
       "<g class=\"displacy-arrow\">\n",
       "    <path class=\"displacy-arc\" id=\"arrow-27c40d33699f4b719a089f50e99fb557-0-9\" stroke-width=\"2px\" d=\"M1030,182.0 C1030,62.0 1245.0,62.0 1245.0,182.0\" fill=\"none\" stroke=\"currentColor\"/>\n",
       "    <text dy=\"1.25em\" style=\"font-size: 0.8em; letter-spacing: 1px\">\n",
       "        <textPath xlink:href=\"#arrow-27c40d33699f4b719a089f50e99fb557-0-9\" class=\"displacy-label\" startOffset=\"50%\" side=\"left\" fill=\"currentColor\" text-anchor=\"middle\">pobj</textPath>\n",
       "    </text>\n",
       "    <path class=\"displacy-arrowhead\" d=\"M1245.0,184.0 L1253.0,172.0 1237.0,172.0\" fill=\"currentColor\"/>\n",
       "</g>\n",
       "</svg></span>"
      ],
      "text/plain": [
       "<IPython.core.display.HTML object>"
      ]
     },
     "metadata": {},
     "output_type": "display_data"
    }
   ],
   "source": [
    "displacy.render(doc, style='dep', jupyter=True, options={'distance': 120})"
   ]
  },
  {
   "cell_type": "markdown",
   "id": "0f2cf9bc",
   "metadata": {},
   "source": [
    "#### Noun chunks\n",
    "\n",
    "Noun chunks are base noun phrases"
   ]
  },
  {
   "cell_type": "code",
   "execution_count": 5,
   "id": "f05d19e1",
   "metadata": {},
   "outputs": [
    {
     "name": "stdout",
     "output_type": "stream",
     "text": [
      "Autonomous cars cars nsubj shift\n",
      "insurance liability liability dobj shift\n",
      "manufacturers manufacturers pobj toward\n"
     ]
    }
   ],
   "source": [
    "doc = nlp('Autonomous cars shift insurance liability toward manufacturers')\n",
    "for chunk in doc.noun_chunks:\n",
    "    print(chunk.text, chunk.root.text, chunk.root.dep_, chunk.root.head.text)"
   ]
  },
  {
   "cell_type": "code",
   "execution_count": 6,
   "id": "9a0f284f",
   "metadata": {},
   "outputs": [
    {
     "name": "stdout",
     "output_type": "stream",
     "text": [
      "[shift]\n"
     ]
    }
   ],
   "source": [
    "from spacy.symbols import nsubj, VERB\n",
    "\n",
    "doc = nlp('Autonomous cars shift insurance liability toward manufacturers')\n",
    "\n",
    "# Finding a verb with a subject from below - good\n",
    "\n",
    "# verbs = set()\n",
    "# for possible_subject in doc:\n",
    "#     if possible_subject.dep == nsubj and possible_subject.head.pos == VERB:\n",
    "#         verbs.add(possible_subject.head)\n",
    "\n",
    "verbs = []\n",
    "for possible_verb in doc:\n",
    "    if possible_verb.pos == VERB:\n",
    "        for possible_subject in possible_verb.children:\n",
    "            if possible_subject.dep == nsubj:\n",
    "                verbs.append(possible_verb)\n",
    "                break\n",
    "print(verbs)"
   ]
  },
  {
   "cell_type": "markdown",
   "id": "8071d5bc",
   "metadata": {},
   "source": [
    "#### Iterating around the local tree"
   ]
  },
  {
   "cell_type": "code",
   "execution_count": 7,
   "id": "98e67665",
   "metadata": {},
   "outputs": [
    {
     "name": "stdout",
     "output_type": "stream",
     "text": [
      "['car', 'is']\n",
      "['through', 'for']\n",
      "2\n",
      "2\n"
     ]
    }
   ],
   "source": [
    "doc = nlp('car is flying through the sky for a book')\n",
    "    \n",
    "print([token.text for token in doc[2].lefts])\n",
    "print([token.text for token in doc[2].rights])\n",
    "print(doc[2].n_lefts)\n",
    "print(doc[2].n_rights)\n",
    "\n"
   ]
  },
  {
   "cell_type": "code",
   "execution_count": 8,
   "id": "9252ba34",
   "metadata": {},
   "outputs": [
    {
     "name": "stdout",
     "output_type": "stream",
     "text": [
      "holders\n",
      "----------------------------------------------------------------------\n",
      "['Credit', 'and', 'mortgage', 'account', 'holders']\n",
      "======================================================================\n",
      "True\n",
      "----------------------------------------------------------------------\n",
      "Credit nmod 0 2 ['account', 'holders', 'submit']\n",
      "True\n",
      "----------------------------------------------------------------------\n",
      "and cc 0 0 ['Credit', 'account', 'holders', 'submit']\n",
      "True\n",
      "----------------------------------------------------------------------\n",
      "mortgage conj 0 0 ['Credit', 'account', 'holders', 'submit']\n",
      "True\n",
      "----------------------------------------------------------------------\n",
      "account compound 1 0 ['holders', 'submit']\n",
      "False\n",
      "----------------------------------------------------------------------\n",
      "holders nsubj 1 0 ['submit']\n"
     ]
    }
   ],
   "source": [
    "doc = nlp(\"Credit and mortgage account holders must submit their requests\")\n",
    "\n",
    "root = [token for token in doc if token.head == token][0]\n",
    "subject = list(root.lefts)[0]\n",
    "print(subject)\n",
    "print('-' * 70)\n",
    "\n",
    "print([token.text for token in subject.subtree])\n",
    "print('=' * 70)\n",
    "\n",
    "for descendant in subject.subtree:\n",
    "    print(subject.is_ancestor(descendant))\n",
    "    print('-' * 70)\n",
    "    \n",
    "    assert subject is descendant or subject.is_ancestor(descendant)\n",
    "    print(descendant.text, descendant.dep_, descendant.n_lefts, descendant.n_rights, \n",
    "          [ancestor.text for ancestor in descendant.ancestors])"
   ]
  },
  {
   "cell_type": "code",
   "execution_count": 9,
   "id": "deee9488",
   "metadata": {},
   "outputs": [
    {
     "name": "stdout",
     "output_type": "stream",
     "text": [
      "income ----> million\n",
      "year --> million\n",
      "Revenue ----> dollars\n",
      "loss --> 1b\n"
     ]
    }
   ],
   "source": [
    "# nlp.add_pipe(\"merge_entities\")\n",
    "# nlp.add_pipe(\"merge_noun_chunks\")\n",
    "\n",
    "TEXTS = [\n",
    "    \"Net income was $9.4 million compared to the prior year of $2.7 million.\",\n",
    "    \"Revenue exceeded twelve billion dollars, with a loss of $1b.\",\n",
    "]\n",
    "\n",
    "for doc in nlp.pipe(TEXTS):\n",
    "    for token in doc:\n",
    "#         print(token.text, token.head, token.dep_)\n",
    "#        print(token.ent_type_)\n",
    "        if token.ent_type_ == 'MONEY':\n",
    "            # We have an attribute and direct object, so check for subject\n",
    "            if token.dep_ in ('attr', 'dobj'):\n",
    "                subj = [w for w in token.head.lefts if w.dep_ == 'nsubj']\n",
    "                if subj:\n",
    "                    print(subj[0], \"---->\", token)\n",
    "            elif token.dep_ == \"pobj\" and token.head.dep_ == \"prep\":\n",
    "                print(token.head.head, \"-->\", token)\n"
   ]
  },
  {
   "cell_type": "markdown",
   "id": "81ce57cb",
   "metadata": {
    "heading_collapsed": true
   },
   "source": [
    "# Dependency parsing using nltk"
   ]
  },
  {
   "cell_type": "code",
   "execution_count": 10,
   "id": "a40fc364",
   "metadata": {
    "hidden": true
   },
   "outputs": [],
   "source": [
    "# from nltk.parse.corenlp import CoreNLPDependencyParser"
   ]
  },
  {
   "cell_type": "code",
   "execution_count": 11,
   "id": "9ef61418",
   "metadata": {
    "hidden": true
   },
   "outputs": [],
   "source": [
    "# Path to conrenlp jar unzipped\n",
    "# jar_path = 'stanford-corenlp-4.2.2/stanford-corenlp-4.2.2/stanford-corenlp-4.2.2.jar'\n",
    "\n",
    "# # Path to corenlp model jar\n",
    "# models_jar_path = 'stanford-corenlp-4.2.2-models-english.jar'\n",
    "\n",
    "# sentence = 'Jack flied high within the sea'\n",
    "\n",
    "# # Initialize StanfordDependency Parser from the path\n",
    "# parser = CoreNLPDependencyParser(url='http://localhost:8888/notebooks/Machine%20learning/NLP/Libraries/Dependecy%20parsing/')\n",
    "\n",
    "# result = parser.raw_parse(sentence)\n",
    "\n",
    "# dep = next(result)\n",
    "\n",
    "# print(list(dep.triples()))"
   ]
  },
  {
   "cell_type": "markdown",
   "id": "90819df0",
   "metadata": {},
   "source": [
    "# Dependency Parsing using stanza"
   ]
  },
  {
   "cell_type": "code",
   "execution_count": 21,
   "id": "f3ccd4e9",
   "metadata": {},
   "outputs": [
    {
     "name": "stderr",
     "output_type": "stream",
     "text": [
      "C:\\Users\\jayes\\anaconda3\\envs\\env\\lib\\site-packages\\tqdm\\auto.py:22: TqdmWarning: IProgress not found. Please update jupyter and ipywidgets. See https://ipywidgets.readthedocs.io/en/stable/user_install.html\n",
      "  from .autonotebook import tqdm as notebook_tqdm\n"
     ]
    }
   ],
   "source": [
    "import stanza\n",
    "# stanza.download('en')"
   ]
  },
  {
   "cell_type": "code",
   "execution_count": 20,
   "id": "3ed9cfed-4a66-48d8-871c-19fa7c3c57eb",
   "metadata": {},
   "outputs": [
    {
     "name": "stdout",
     "output_type": "stream",
     "text": [
      "Collecting stanza\n",
      "  Downloading stanza-1.5.0-py3-none-any.whl (802 kB)\n",
      "     -------------------------------------- 802.5/802.5 kB 3.0 MB/s eta 0:00:00\n",
      "Requirement already satisfied: tqdm in c:\\users\\jayes\\anaconda3\\envs\\env\\lib\\site-packages (from stanza) (4.64.1)\n",
      "Requirement already satisfied: emoji in c:\\users\\jayes\\anaconda3\\envs\\env\\lib\\site-packages (from stanza) (2.2.0)\n",
      "Requirement already satisfied: protobuf in c:\\users\\jayes\\anaconda3\\envs\\env\\lib\\site-packages (from stanza) (4.22.1)\n",
      "Requirement already satisfied: requests in c:\\users\\jayes\\anaconda3\\envs\\env\\lib\\site-packages (from stanza) (2.28.2)\n",
      "Collecting torch>=1.3.0\n",
      "  Downloading torch-2.0.1-cp39-cp39-win_amd64.whl (172.4 MB)\n",
      "     -------------------------------------- 172.4/172.4 MB 2.1 MB/s eta 0:00:00\n",
      "Requirement already satisfied: numpy in c:\\users\\jayes\\anaconda3\\envs\\env\\lib\\site-packages (from stanza) (1.23.5)\n",
      "Requirement already satisfied: six in c:\\users\\jayes\\anaconda3\\envs\\env\\lib\\site-packages (from stanza) (1.16.0)\n",
      "Requirement already satisfied: typing-extensions in c:\\users\\jayes\\anaconda3\\envs\\env\\lib\\site-packages (from torch>=1.3.0->stanza) (4.4.0)\n",
      "Requirement already satisfied: jinja2 in c:\\users\\jayes\\anaconda3\\envs\\env\\lib\\site-packages (from torch>=1.3.0->stanza) (3.1.2)\n",
      "Collecting sympy\n",
      "  Downloading sympy-1.12-py3-none-any.whl (5.7 MB)\n",
      "     ---------------------------------------- 5.7/5.7 MB 1.8 MB/s eta 0:00:00\n",
      "Collecting filelock\n",
      "  Downloading filelock-3.12.1-py3-none-any.whl (10 kB)\n",
      "Collecting networkx\n",
      "  Downloading networkx-3.1-py3-none-any.whl (2.1 MB)\n",
      "     ---------------------------------------- 2.1/2.1 MB 1.5 MB/s eta 0:00:00\n",
      "Requirement already satisfied: certifi>=2017.4.17 in c:\\users\\jayes\\anaconda3\\envs\\env\\lib\\site-packages (from requests->stanza) (2022.12.7)\n",
      "Requirement already satisfied: idna<4,>=2.5 in c:\\users\\jayes\\anaconda3\\envs\\env\\lib\\site-packages (from requests->stanza) (3.4)\n",
      "Requirement already satisfied: charset-normalizer<4,>=2 in c:\\users\\jayes\\anaconda3\\envs\\env\\lib\\site-packages (from requests->stanza) (3.0.1)\n",
      "Requirement already satisfied: urllib3<1.27,>=1.21.1 in c:\\users\\jayes\\anaconda3\\envs\\env\\lib\\site-packages (from requests->stanza) (1.26.14)\n",
      "Requirement already satisfied: colorama in c:\\users\\jayes\\anaconda3\\envs\\env\\lib\\site-packages (from tqdm->stanza) (0.4.6)\n",
      "Requirement already satisfied: MarkupSafe>=2.0 in c:\\users\\jayes\\anaconda3\\envs\\env\\lib\\site-packages (from jinja2->torch>=1.3.0->stanza) (2.1.1)\n",
      "Collecting mpmath>=0.19\n",
      "  Downloading mpmath-1.3.0-py3-none-any.whl (536 kB)\n",
      "     ------------------------------------ 536.2/536.2 kB 560.7 kB/s eta 0:00:00\n",
      "Installing collected packages: mpmath, sympy, networkx, filelock, torch, stanza\n",
      "Successfully installed filelock-3.12.1 mpmath-1.3.0 networkx-3.1 stanza-1.5.0 sympy-1.12 torch-2.0.1\n"
     ]
    }
   ],
   "source": [
    "!pip install stanza"
   ]
  },
  {
   "cell_type": "code",
   "execution_count": 22,
   "id": "0ac8a37f",
   "metadata": {},
   "outputs": [
    {
     "name": "stderr",
     "output_type": "stream",
     "text": [
      "2023-06-10 11:20:37 INFO: Checking for updates to resources.json in case models have been updated.  Note: this behavior can be turned off with download_method=None or download_method=DownloadMethod.REUSE_RESOURCES\n",
      "Downloading https://raw.githubusercontent.com/stanfordnlp/stanza-resources/main/resources_1.5.0.json: 216kB [00:00, 19.7MB/s]\n",
      "2023-06-10 11:20:37 WARNING: Can not find mwt: default from official model list. Ignoring it.\n",
      "Downloading https://huggingface.co/stanfordnlp/stanza-en/resolve/v1.5.0/models/tokenize/combined.pt: 100%|█| 647k/647k \n",
      "Downloading https://huggingface.co/stanfordnlp/stanza-en/resolve/v1.5.0/models/pos/combined.pt: 100%|█| 38.5M/38.5M [00\n",
      "Downloading https://huggingface.co/stanfordnlp/stanza-en/resolve/v1.5.0/models/lemma/combined.pt: 100%|█| 4.17M/4.17M [\n",
      "Downloading https://huggingface.co/stanfordnlp/stanza-en/resolve/v1.5.0/models/depparse/combined.pt: 100%|█| 145M/145M \n",
      "Downloading https://huggingface.co/stanfordnlp/stanza-en/resolve/v1.5.0/models/forward_charlm/1billion.pt: 100%|█| 22.7\n",
      "Downloading https://huggingface.co/stanfordnlp/stanza-en/resolve/v1.5.0/models/backward_charlm/1billion.pt: 100%|█| 22.\n",
      "Downloading https://huggingface.co/stanfordnlp/stanza-en/resolve/v1.5.0/models/pretrain/combined.pt: 100%|█| 107M/107M \n",
      "2023-06-10 11:22:35 INFO: Loading these models for language: en (English):\n",
      "========================\n",
      "| Processor | Package  |\n",
      "------------------------\n",
      "| tokenize  | combined |\n",
      "| pos       | combined |\n",
      "| lemma     | combined |\n",
      "| depparse  | combined |\n",
      "========================\n",
      "\n",
      "2023-06-10 11:22:35 INFO: Using device: cpu\n",
      "2023-06-10 11:22:35 INFO: Loading: tokenize\n",
      "2023-06-10 11:22:35 INFO: Loading: pos\n",
      "2023-06-10 11:22:35 INFO: Loading: lemma\n",
      "2023-06-10 11:22:35 INFO: Loading: depparse\n",
      "2023-06-10 11:22:36 INFO: Done loading processors!\n"
     ]
    }
   ],
   "source": [
    "# Initializing the pipeline\n",
    "nlp = stanza.Pipeline('en', processors='tokenize,mwt,pos,lemma,depparse')"
   ]
  },
  {
   "cell_type": "code",
   "execution_count": 23,
   "id": "2edfc43b",
   "metadata": {},
   "outputs": [
    {
     "data": {
      "text/plain": [
       "[[\n",
       "   {\n",
       "     \"id\": 1,\n",
       "     \"text\": \"Jack\",\n",
       "     \"lemma\": \"Jack\",\n",
       "     \"upos\": \"PROPN\",\n",
       "     \"xpos\": \"NNP\",\n",
       "     \"feats\": \"Number=Sing\",\n",
       "     \"head\": 2,\n",
       "     \"deprel\": \"nsubj\",\n",
       "     \"start_char\": 0,\n",
       "     \"end_char\": 4\n",
       "   },\n",
       "   {\n",
       "     \"id\": 2,\n",
       "     \"text\": \"flied\",\n",
       "     \"lemma\": \"fly\",\n",
       "     \"upos\": \"VERB\",\n",
       "     \"xpos\": \"VBD\",\n",
       "     \"feats\": \"Mood=Ind|Number=Sing|Person=3|Tense=Past|VerbForm=Fin\",\n",
       "     \"head\": 0,\n",
       "     \"deprel\": \"root\",\n",
       "     \"start_char\": 5,\n",
       "     \"end_char\": 10\n",
       "   },\n",
       "   {\n",
       "     \"id\": 3,\n",
       "     \"text\": \"high\",\n",
       "     \"lemma\": \"high\",\n",
       "     \"upos\": \"ADV\",\n",
       "     \"xpos\": \"RB\",\n",
       "     \"feats\": \"Degree=Pos\",\n",
       "     \"head\": 2,\n",
       "     \"deprel\": \"advmod\",\n",
       "     \"start_char\": 11,\n",
       "     \"end_char\": 15\n",
       "   },\n",
       "   {\n",
       "     \"id\": 4,\n",
       "     \"text\": \"within\",\n",
       "     \"lemma\": \"within\",\n",
       "     \"upos\": \"ADP\",\n",
       "     \"xpos\": \"IN\",\n",
       "     \"head\": 6,\n",
       "     \"deprel\": \"case\",\n",
       "     \"start_char\": 16,\n",
       "     \"end_char\": 22\n",
       "   },\n",
       "   {\n",
       "     \"id\": 5,\n",
       "     \"text\": \"the\",\n",
       "     \"lemma\": \"the\",\n",
       "     \"upos\": \"DET\",\n",
       "     \"xpos\": \"DT\",\n",
       "     \"feats\": \"Definite=Def|PronType=Art\",\n",
       "     \"head\": 6,\n",
       "     \"deprel\": \"det\",\n",
       "     \"start_char\": 23,\n",
       "     \"end_char\": 26\n",
       "   },\n",
       "   {\n",
       "     \"id\": 6,\n",
       "     \"text\": \"sea\",\n",
       "     \"lemma\": \"sea\",\n",
       "     \"upos\": \"NOUN\",\n",
       "     \"xpos\": \"NN\",\n",
       "     \"feats\": \"Number=Sing\",\n",
       "     \"head\": 2,\n",
       "     \"deprel\": \"obl\",\n",
       "     \"start_char\": 27,\n",
       "     \"end_char\": 30\n",
       "   }\n",
       " ]]"
      ]
     },
     "execution_count": 23,
     "metadata": {},
     "output_type": "execute_result"
    }
   ],
   "source": [
    "# store all the details in doc\n",
    "doc = nlp(sentence)\n",
    "\n",
    "doc.sentences"
   ]
  },
  {
   "cell_type": "code",
   "execution_count": 24,
   "id": "4c7adf9c",
   "metadata": {},
   "outputs": [
    {
     "name": "stdout",
     "output_type": "stream",
     "text": [
      "('Jack', 2, 'nsubj')\n",
      "('flied', 0, 'root')\n",
      "('high', 2, 'advmod')\n",
      "('within', 6, 'case')\n",
      "('the', 6, 'det')\n",
      "('sea', 2, 'obl')\n"
     ]
    }
   ],
   "source": [
    "doc.sentences[0].print_dependencies()"
   ]
  },
  {
   "cell_type": "code",
   "execution_count": 25,
   "id": "a9bbbb6f",
   "metadata": {},
   "outputs": [
    {
     "name": "stdout",
     "output_type": "stream",
     "text": [
      "[{'id': 1, 'text': 'Jack', 'lemma': 'Jack', 'upos': 'PROPN', 'xpos': 'NNP', 'feats': 'Number=Sing', 'head': 2, 'deprel': 'nsubj', 'start_char': 0, 'end_char': 4}, {'id': 2, 'text': 'flied', 'lemma': 'fly', 'upos': 'VERB', 'xpos': 'VBD', 'feats': 'Mood=Ind|Number=Sing|Person=3|Tense=Past|VerbForm=Fin', 'head': 0, 'deprel': 'root', 'start_char': 5, 'end_char': 10}, {'id': 3, 'text': 'high', 'lemma': 'high', 'upos': 'ADV', 'xpos': 'RB', 'feats': 'Degree=Pos', 'head': 2, 'deprel': 'advmod', 'start_char': 11, 'end_char': 15}, {'id': 4, 'text': 'within', 'lemma': 'within', 'upos': 'ADP', 'xpos': 'IN', 'head': 6, 'deprel': 'case', 'start_char': 16, 'end_char': 22}, {'id': 5, 'text': 'the', 'lemma': 'the', 'upos': 'DET', 'xpos': 'DT', 'feats': 'Definite=Def|PronType=Art', 'head': 6, 'deprel': 'det', 'start_char': 23, 'end_char': 26}, {'id': 6, 'text': 'sea', 'lemma': 'sea', 'upos': 'NOUN', 'xpos': 'NN', 'feats': 'Number=Sing', 'head': 2, 'deprel': 'obl', 'start_char': 27, 'end_char': 30}]\n",
      "Jack            | nsubj      | flied           \n",
      "flied           | root       | ROOT            \n",
      "high            | advmod     | flied           \n",
      "within          | case       | sea             \n",
      "the             | det        | sea             \n",
      "sea             | obl        | flied           \n",
      "************************************************************\n"
     ]
    }
   ],
   "source": [
    "sent_dict = doc.sentences[0].to_dict()\n",
    "print(sent_dict)\n",
    "for word in sent_dict:\n",
    "    print (\"{:<15} | {:<10} | {:<15} \"\n",
    "         .format(str(word['text']), str(word['deprel']), str(sent_dict[word['head']-1]['text'] if word['head'] > 0 else 'ROOT')))\n",
    "\n",
    "print('*' * 60)\n",
    "\n",
    "\n",
    "\n",
    "    "
   ]
  },
  {
   "cell_type": "code",
   "execution_count": null,
   "id": "3754f1b3",
   "metadata": {},
   "outputs": [],
   "source": [
    "\n"
   ]
  }
 ],
 "metadata": {
  "kernelspec": {
   "display_name": "Python 3 (ipykernel)",
   "language": "python",
   "name": "python3"
  },
  "language_info": {
   "codemirror_mode": {
    "name": "ipython",
    "version": 3
   },
   "file_extension": ".py",
   "mimetype": "text/x-python",
   "name": "python",
   "nbconvert_exporter": "python",
   "pygments_lexer": "ipython3",
   "version": "3.9.16"
  }
 },
 "nbformat": 4,
 "nbformat_minor": 5
}

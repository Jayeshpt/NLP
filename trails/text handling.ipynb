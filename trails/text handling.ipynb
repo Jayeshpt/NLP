{
 "cells": [
  {
   "cell_type": "code",
   "execution_count": 1,
   "id": "4fc446d4-2ad0-42e4-8c1c-b3d31e31239d",
   "metadata": {},
   "outputs": [],
   "source": [
    "text = \"\"\"Wikis are enabled by wiki software, otherwise known as wiki engines. A wiki engine, being a form of a content management system, differs from other web-based systems such as blog software, in that the content is created without any defined owner or leader, and wikis have little inherent structure, allowing structure to emerge according to the needs of the users.\"\"\"\n",
    "\n",
    "\n",
    "with open('newfiledata.txt','w') as file:\n",
    "    file.write(text)"
   ]
  },
  {
   "cell_type": "code",
   "execution_count": 2,
   "id": "6aa0bfa4-a162-476b-9841-ae57380682ed",
   "metadata": {},
   "outputs": [
    {
     "name": "stdout",
     "output_type": "stream",
     "text": [
      "Wikis are enabled by wiki software, otherwise known as wiki engines. A wiki engine, being a form of a content management system, differs from other web-based systems such as blog software, in that the content is created without any defined owner or leader, and wikis have little inherent structure, allowing structure to emerge according to the needs of the users.\n"
     ]
    }
   ],
   "source": [
    "with open('newfiledata.txt','r') as file:\n",
    "    filecontent = file.read()\n",
    "\n",
    "print(filecontent)"
   ]
  },
  {
   "cell_type": "code",
   "execution_count": 12,
   "id": "52e3ced7-1068-44c2-ae04-97c18ca574cd",
   "metadata": {},
   "outputs": [
    {
     "name": "stdout",
     "output_type": "stream",
     "text": [
      "['wikis', 'are', 'enabled', 'by', 'wiki', 'software', 'otherwise', 'known', 'as', 'wiki', 'engines', 'wiki', 'engine', 'being', 'form', 'of', 'content', 'management', 'system', 'differs', 'from', 'other', 'webbased', 'systems', 'such', 'as', 'blog', 'software', 'in', 'that', 'content', 'is', 'created', 'without', 'any', 'defined', 'owner', 'leader', 'wikis', 'have', 'little', 'inherent', 'structure', 'allowing', 'structure', 'to', 'emerge', 'according', 'to', 'needs', 'of', 'users']\n"
     ]
    }
   ],
   "source": [
    "import nltk\n",
    "# from nltk.tokenize import word_tokenize\n",
    "import re\n",
    "\n",
    "text = re.sub(r'[^\\w\\s]', '', filecontent)  # remove punctuation\n",
    "text = text.lower() # lowering all text\n",
    "# stopwords = set(['the', 'a', 'an', 'and', 'or', 'but'])a\n",
    "# token = [word for word in text.split() if word not in stopwords]\n",
    "# Tokenize the text\n",
    "tokens = word_tokenize(token)\n",
    "print(tokens)\n",
    "print(token)\n",
    "\n",
    "\n"
   ]
  },
  {
   "cell_type": "code",
   "execution_count": 4,
   "id": "d9e0a04d-bd88-4cad-8db3-92d36b2962e9",
   "metadata": {},
   "outputs": [],
   "source": [
    "import spacy\n",
    "\n",
    "\n",
    "# nlp=spacy.util.get_package_path('en_core_web_sm')\n",
    "nlp = spacy.load('en_core_web_sm')\n",
    "\n",
    "# Tokenize the text\n",
    "doc = nlp(filecontent)\n",
    "tokens = [token.text for token in doc]"
   ]
  },
  {
   "cell_type": "code",
   "execution_count": 5,
   "id": "bf58f0a6-97b5-4a5b-b57d-6a06efd727cd",
   "metadata": {},
   "outputs": [
    {
     "name": "stdout",
     "output_type": "stream",
     "text": [
      "['Wikis', 'are', 'enabled', 'by', 'wiki', 'software', ',', 'otherwise', 'known', 'as', 'wiki', 'engines', '.', 'A', 'wiki', 'engine', ',', 'being', 'a', 'form', 'of', 'a', 'content', 'management', 'system', ',', 'differs', 'from', 'other', 'web', '-', 'based', 'systems', 'such', 'as', 'blog', 'software', ',', 'in', 'that', 'the', 'content', 'is', 'created', 'without', 'any', 'defined', 'owner', 'or', 'leader', ',', 'and', 'wikis', 'have', 'little', 'inherent', 'structure', ',', 'allowing', 'structure', 'to', 'emerge', 'according', 'to', 'the', 'needs', 'of', 'the', 'users', '.']\n"
     ]
    }
   ],
   "source": [
    "print(tokens)"
   ]
  },
  {
   "cell_type": "code",
   "execution_count": null,
   "id": "f131cfb4-0268-464c-bbff-22891a752fe4",
   "metadata": {},
   "outputs": [],
   "source": []
  }
 ],
 "metadata": {
  "kernelspec": {
   "display_name": "Python 3 (ipykernel)",
   "language": "python",
   "name": "python3"
  },
  "language_info": {
   "codemirror_mode": {
    "name": "ipython",
    "version": 3
   },
   "file_extension": ".py",
   "mimetype": "text/x-python",
   "name": "python",
   "nbconvert_exporter": "python",
   "pygments_lexer": "ipython3",
   "version": "3.9.16"
  }
 },
 "nbformat": 4,
 "nbformat_minor": 5
}

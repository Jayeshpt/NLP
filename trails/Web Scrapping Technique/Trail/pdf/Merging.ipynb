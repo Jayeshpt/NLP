{
 "cells": [
  {
   "cell_type": "code",
   "execution_count": 2,
   "id": "447576ac-d811-4615-97c0-508e29442f51",
   "metadata": {},
   "outputs": [],
   "source": [
    "import PyPDF2 \n",
    "\n",
    "from PyPDF2 import PdfMerger\n",
    "\n",
    "merger = PdfMerger()\n",
    "\n",
    "pdf_files = ['OD125682207235841000.pdf','table.pdf','Food Calories List.pdf']\n",
    "\n",
    "for pdf_file in pdf_files:\n",
    "    merger.append(pdf_file)\n",
    "    \n",
    "merger.write(\"merged_2.pdf\")\n",
    "merger.close()"
   ]
  },
  {
   "cell_type": "code",
   "execution_count": 5,
   "id": "d8ac6597-abd3-4b2f-bcb1-76c7cc8346dc",
   "metadata": {},
   "outputs": [],
   "source": [
    "import PyPDF2\n",
    "\n",
    "from PyPDF2 import PdfReader,PdfWriter\n",
    "# Open the PDF file that needs to be converted\n",
    "pdf_file = open(\"merged_2.pdf\",'rb')\n",
    "\n",
    "# Create a PDF reader object for the file\n",
    "pdf_reader = PdfReader(pdf_file)\n",
    "\n",
    "# Loop through each page of the PDF\n",
    "for page_num in range(len(pdf_reader.pages)):\n",
    "    \n",
    "    # Create a new PDF writer object to write each page as a separate PDF file\n",
    "    pdf_writer = PdfWriter()\n",
    "    \n",
    "    # Get the current page and add it to the writer\n",
    "    page = pdf_reader.pages[page_num]\n",
    "    pdf_writer.add_page(page)\n",
    "    \n",
    "    # Write the current page as a separate PDF file\n",
    "    output_file = open(f'page_{page_num+1}.pdf','wb')\n",
    "    pdf_writer.write(output_file)\n",
    "    output_file.close()\n",
    "    \n",
    "pdf_file.close()"
   ]
  },
  {
   "cell_type": "code",
   "execution_count": null,
   "id": "71f71ccb-63cf-46fb-ad02-642983ec7a51",
   "metadata": {},
   "outputs": [],
   "source": []
  }
 ],
 "metadata": {
  "kernelspec": {
   "display_name": "Python 3 (ipykernel)",
   "language": "python",
   "name": "python3"
  },
  "language_info": {
   "codemirror_mode": {
    "name": "ipython",
    "version": 3
   },
   "file_extension": ".py",
   "mimetype": "text/x-python",
   "name": "python",
   "nbconvert_exporter": "python",
   "pygments_lexer": "ipython3",
   "version": "3.9.16"
  }
 },
 "nbformat": 4,
 "nbformat_minor": 5
}

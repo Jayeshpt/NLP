{
 "cells": [
  {
   "cell_type": "code",
   "execution_count": 1,
   "id": "6ea0697e-8a01-45b0-bbb9-866b46db4e0f",
   "metadata": {},
   "outputs": [
    {
     "name": "stdout",
     "output_type": "stream",
     "text": [
      "NEw thing are comingWikipedia is a multilingual free online encyclopedia written and maintained by a community of volunteer editors, known as Wikipedians, through open collaboration and using a wiki-based editing? system called MediaWiki. Wikipedia is the largest and most-read reference work in history  .you are soo great\n"
     ]
    }
   ],
   "source": [
    "with open ('newfile.txt','r') as file:\n",
    "    data = file.read()\n",
    "    print(data)"
   ]
  },
  {
   "cell_type": "code",
   "execution_count": 6,
   "id": "4a13bae9-2e2f-4031-b69a-97985ff0ee5e",
   "metadata": {
    "scrolled": true,
    "tags": []
   },
   "outputs": [
    {
     "name": "stdout",
     "output_type": "stream",
     "text": [
      "NEw  |  84  |  adjective\n",
      "thing  |  92  |  noun\n",
      "are  |  87  |  auxiliary\n",
      "comingWikipedia  |  93  |  numeral\n",
      "is  |  87  |  auxiliary\n",
      "a  |  90  |  determiner\n",
      "multilingual  |  84  |  adjective\n",
      "free  |  84  |  adjective\n",
      "online  |  84  |  adjective\n",
      "encyclopedia  |  92  |  noun\n",
      "written  |  100  |  verb\n",
      "and  |  89  |  coordinating conjunction\n",
      "maintained  |  100  |  verb\n",
      "by  |  85  |  adposition\n",
      "a  |  90  |  determiner\n",
      "community  |  92  |  noun\n",
      "of  |  85  |  adposition\n",
      "volunteer  |  92  |  noun\n",
      "editors  |  92  |  noun\n",
      ",  |  97  |  punctuation\n",
      "known  |  100  |  verb\n",
      "as  |  85  |  adposition\n",
      "Wikipedians  |  96  |  proper noun\n",
      ",  |  97  |  punctuation\n",
      "through  |  85  |  adposition\n",
      "open  |  84  |  adjective\n",
      "collaboration  |  92  |  noun\n",
      "and  |  89  |  coordinating conjunction\n",
      "using  |  100  |  verb\n",
      "a  |  90  |  determiner\n",
      "wiki  |  92  |  noun\n",
      "-  |  97  |  punctuation\n",
      "based  |  100  |  verb\n",
      "editing  |  92  |  noun\n",
      "?  |  97  |  punctuation\n",
      "system  |  92  |  noun\n",
      "called  |  100  |  verb\n",
      "MediaWiki  |  96  |  proper noun\n",
      ".  |  97  |  punctuation\n",
      "Wikipedia  |  96  |  proper noun\n",
      "is  |  87  |  auxiliary\n",
      "the  |  90  |  determiner\n",
      "largest  |  84  |  adjective\n",
      "and  |  89  |  coordinating conjunction\n",
      "most  |  86  |  adverb\n",
      "-  |  97  |  punctuation\n",
      "read  |  100  |  verb\n",
      "reference  |  92  |  noun\n",
      "work  |  92  |  noun\n",
      "in  |  85  |  adposition\n",
      "history  |  92  |  noun\n",
      "   |  103  |  space\n",
      ".you  |  97  |  punctuation\n",
      "are  |  87  |  auxiliary\n",
      "soo  |  96  |  proper noun\n",
      "great  |  84  |  adjective\n"
     ]
    }
   ],
   "source": [
    "import spacy \n",
    "\n",
    "with open ('newfile.txt','r') as file:\n",
    "    data = file.read()\n",
    "nlp = spacy.load(\"en_core_web_sm\")\n",
    "\n",
    "doc = nlp(data)\n",
    "\n",
    "for token in doc:\n",
    "    print(token,\" | \",token.pos,\" | \",spacy.explain(token.pos_))"
   ]
  },
  {
   "cell_type": "code",
   "execution_count": null,
   "id": "fc0231c2-3bf1-4831-96b5-a6f8bc2c29b9",
   "metadata": {},
   "outputs": [],
   "source": []
  }
 ],
 "metadata": {
  "kernelspec": {
   "display_name": "Python 3 (ipykernel)",
   "language": "python",
   "name": "python3"
  },
  "language_info": {
   "codemirror_mode": {
    "name": "ipython",
    "version": 3
   },
   "file_extension": ".py",
   "mimetype": "text/x-python",
   "name": "python",
   "nbconvert_exporter": "python",
   "pygments_lexer": "ipython3",
   "version": "3.9.16"
  }
 },
 "nbformat": 4,
 "nbformat_minor": 5
}

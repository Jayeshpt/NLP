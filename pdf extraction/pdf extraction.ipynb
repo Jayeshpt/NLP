{
 "cells": [
  {
   "cell_type": "code",
   "execution_count": 1,
   "id": "8a7f9344-b6a2-465f-87f2-c3ae1703ec2f",
   "metadata": {},
   "outputs": [
    {
     "name": "stdout",
     "output_type": "stream",
     "text": [
      "Requirement already satisfied: PyPDF2 in c:\\users\\jayes\\anaconda3\\envs\\env\\lib\\site-packages (3.0.1)\n",
      "Requirement already satisfied: typing_extensions>=3.10.0.0 in c:\\users\\jayes\\anaconda3\\envs\\env\\lib\\site-packages (from PyPDF2) (4.4.0)\n"
     ]
    }
   ],
   "source": [
    "!pip install PyPDF2"
   ]
  },
  {
   "cell_type": "code",
   "execution_count": 2,
   "id": "01ad571a-4497-48cd-9913-430531431fde",
   "metadata": {},
   "outputs": [],
   "source": [
    "import PyPDF2 as pdf"
   ]
  },
  {
   "cell_type": "code",
   "execution_count": 3,
   "id": "9e0cdcd3-4d2d-47a6-bacf-011e05855153",
   "metadata": {},
   "outputs": [
    {
     "data": {
      "text/plain": [
       "'3.0.1'"
      ]
     },
     "execution_count": 3,
     "metadata": {},
     "output_type": "execute_result"
    }
   ],
   "source": [
    "pdf.__version__"
   ]
  },
  {
   "cell_type": "code",
   "execution_count": 4,
   "id": "01186abd-91f3-45cb-8daa-203548258691",
   "metadata": {
    "scrolled": true,
    "tags": []
   },
   "outputs": [
    {
     "data": {
      "text/plain": [
       "['DocumentInformation',\n",
       " 'PageObject',\n",
       " 'PageRange',\n",
       " 'PaperSize',\n",
       " 'PasswordType',\n",
       " 'PdfFileMerger',\n",
       " 'PdfFileReader',\n",
       " 'PdfFileWriter',\n",
       " 'PdfMerger',\n",
       " 'PdfReader',\n",
       " 'PdfWriter',\n",
       " 'Transformation',\n",
       " '__all__',\n",
       " '__builtins__',\n",
       " '__cached__',\n",
       " '__doc__',\n",
       " '__file__',\n",
       " '__loader__',\n",
       " '__name__',\n",
       " '__package__',\n",
       " '__path__',\n",
       " '__spec__',\n",
       " '__version__',\n",
       " '__warningregistry__',\n",
       " '_cmap',\n",
       " '_codecs',\n",
       " '_encryption',\n",
       " '_merger',\n",
       " '_page',\n",
       " '_protocols',\n",
       " '_reader',\n",
       " '_security',\n",
       " '_utils',\n",
       " '_version',\n",
       " '_writer',\n",
       " 'constants',\n",
       " 'errors',\n",
       " 'filters',\n",
       " 'generic',\n",
       " 'pagerange',\n",
       " 'papersizes',\n",
       " 'parse_filename_page_ranges',\n",
       " 'types',\n",
       " 'warnings',\n",
       " 'xmp']"
      ]
     },
     "execution_count": 4,
     "metadata": {},
     "output_type": "execute_result"
    }
   ],
   "source": [
    "dir(pdf)  # methods"
   ]
  },
  {
   "cell_type": "code",
   "execution_count": 5,
   "id": "d76f5779-38aa-44e8-992b-ac9aa9e16976",
   "metadata": {},
   "outputs": [
    {
     "data": {
      "text/plain": [
       "<PyPDF2._reader.PdfReader at 0x22ce4a2c850>"
      ]
     },
     "execution_count": 5,
     "metadata": {},
     "output_type": "execute_result"
    }
   ],
   "source": [
    "from PyPDF2 import PdfReader,PdfWriter\n",
    "\n",
    "# open pdf\n",
    "\n",
    "file = open('ProjectReport .pdf','rb')\n",
    "reader = PdfReader(file)\n",
    "reader"
   ]
  },
  {
   "cell_type": "code",
   "execution_count": 6,
   "id": "5eaa7fa7-e1eb-4b5c-8576-4b6b1d316e36",
   "metadata": {},
   "outputs": [
    {
     "name": "stdout",
     "output_type": "stream",
     "text": [
      "{'/Title': 'ProjectReport ', '/Producer': 'Skia/PDF m110 Google Docs Renderer'}\n"
     ]
    }
   ],
   "source": [
    "# get the title of the PDF document\n",
    "info = reader.metadata\n",
    "\n",
    "print(info)"
   ]
  },
  {
   "cell_type": "code",
   "execution_count": 7,
   "id": "22b266ea-22ef-4f9d-aa09-159f2e808b76",
   "metadata": {},
   "outputs": [
    {
     "data": {
      "text/plain": [
       "'ProjectReport '"
      ]
     },
     "execution_count": 7,
     "metadata": {},
     "output_type": "execute_result"
    }
   ],
   "source": [
    "info.title"
   ]
  },
  {
   "cell_type": "code",
   "execution_count": 8,
   "id": "12a53a63-e398-41ce-8bec-6435967f04af",
   "metadata": {},
   "outputs": [
    {
     "data": {
      "text/plain": [
       "'Skia/PDF m110 Google Docs Renderer'"
      ]
     },
     "execution_count": 8,
     "metadata": {},
     "output_type": "execute_result"
    }
   ],
   "source": [
    "info.producer"
   ]
  },
  {
   "cell_type": "code",
   "execution_count": 9,
   "id": "339e0472-266a-42cd-9352-d2f321468781",
   "metadata": {},
   "outputs": [],
   "source": [
    "info.author"
   ]
  },
  {
   "cell_type": "code",
   "execution_count": 10,
   "id": "d5896b8e-d01b-4168-919b-7a35b1e0e27b",
   "metadata": {},
   "outputs": [
    {
     "data": {
      "text/plain": [
       "69"
      ]
     },
     "execution_count": 10,
     "metadata": {},
     "output_type": "execute_result"
    }
   ],
   "source": [
    "# how to get number of pages\n",
    "\n",
    "len(reader.pages)"
   ]
  },
  {
   "cell_type": "code",
   "execution_count": 11,
   "id": "bde38e72-e481-4676-82bf-44d07f4f3e82",
   "metadata": {},
   "outputs": [
    {
     "data": {
      "text/plain": [
       "'ANNA  UNIVERSITY  : CHENNAI 600 025\\nBONAFIDE CERTIFICATE\\nCertified\\nthat\\nthis\\nproject\\nreport\\nentitled\\n“AUTOMATIC\\nTHREAT\\nDETECTION\\nAND\\nTHEFT\\nTRAPPING\\nTHROUGH\\nVIDEO\\nSURVEILLANCE\\nSYSTEM”\\nis\\nthe\\nbonafide\\nwork\\nof\\n“\\nCHANDRASEKAR\\nC\\nS,\\nJAYESH\\nP\\nT\\n,\\nANSON\\nTHOMAS\\n”\\nwho carried out the project work under my\\nsupervision.\\nSIGNATURE\\nSIGNATURE\\nDr. B .PAULCHAMY, M.E.,Ph.D.,\\nMrs.R.PRIY ADHARSHINI,\\nM.E\\nHEAD OF THE DEPARTMENT,\\nSUPER VISOR,\\nProfessor & Head,\\nAssistant Professor ,\\nDepartment of Electronics and\\nDepartment of\\nElectronics and\\nCommunication Engineering,\\nCommunication\\nEngineering,\\nHindusthan Institute of\\nHindusthan Institute\\nof\\nTechnology,\\nTechnology,\\nCoimbatore -32.\\nCoimbatore- 32.\\nSubmitted for the University Project viva-voice conducted on ....................\\n----------------------------------\\n-------------------------------- \\nINTERNAL EXAMINER\\nEXTERNAL EXAMINER\\n2'"
      ]
     },
     "execution_count": 11,
     "metadata": {},
     "output_type": "execute_result"
    }
   ],
   "source": [
    "# How to extract the text\n",
    "\n",
    "reader.pages[1].extract_text()"
   ]
  },
  {
   "cell_type": "code",
   "execution_count": 12,
   "id": "231191d0-9853-4ff1-91ad-0afe0388de26",
   "metadata": {},
   "outputs": [],
   "source": [
    "# Function to get a meta data\n",
    "\n",
    "def get_pdf_metadata(pdf_path):\n",
    "    with open(pdf_path,\"rb\") as f:\n",
    "        reader = PdfReader(f)\n",
    "        info = reader.metadata\n",
    "    return info"
   ]
  },
  {
   "cell_type": "code",
   "execution_count": 13,
   "id": "771f54ad-3fc8-4c89-af71-192ebe863eec",
   "metadata": {},
   "outputs": [
    {
     "data": {
      "text/plain": [
       "{'/Title': 'ProjectReport ', '/Producer': 'Skia/PDF m110 Google Docs Renderer'}"
      ]
     },
     "execution_count": 13,
     "metadata": {},
     "output_type": "execute_result"
    }
   ],
   "source": [
    "get_pdf_metadata(\"ProjectReport .pdf\")"
   ]
  },
  {
   "cell_type": "code",
   "execution_count": 14,
   "id": "8a703bff-3c24-453d-8d15-c430bebd1e10",
   "metadata": {},
   "outputs": [],
   "source": [
    "# Function to extract text from pdf\n",
    "\n",
    "def get_pdf_data(pdf_path):\n",
    "    with open(pdf_path,\"rb\") as f:\n",
    "        reader = PdfReader(f)\n",
    "        results = []\n",
    "        for i in range(2):\n",
    "            selected_page = reader.pages[i]\n",
    "            text = selected_page.extract_text()\n",
    "            results.append(text)\n",
    "        return ' '.join(results)\n"
   ]
  },
  {
   "cell_type": "code",
   "execution_count": 16,
   "id": "8be542d7-d480-459d-acfe-e4e13bca7843",
   "metadata": {},
   "outputs": [
    {
     "data": {
      "text/plain": [
       "'AUT OMA TIC THREA T DETECTION\\nAND THEFT  TRAPPING THROUGH\\nVIDEO SUR VEILLANCE SYSTEM\\nA PROJECT REPORT\\nSubmitted by\\nCHANDRASEKAR CS\\n(720818106006)\\nJAYESH PT\\n(720818106016)\\nANSON THOMAS\\n(720818106702)\\nIn partial fulfillment for the award of the degree\\nOf\\nBACHELOR OF ENGINEERING\\nIN\\nELECTRONICS AND COMMUNICA TION ENGINEERING\\nHINDUSTHAN INSTITUTE OF TECHNOLOGY\\nANNA UNIVERSITY : CHENNAI 600 025\\n1 ANNA  UNIVERSITY  : CHENNAI 600 025\\nBONAFIDE CERTIFICATE\\nCertified\\nthat\\nthis\\nproject\\nreport\\nentitled\\n“AUTOMATIC\\nTHREAT\\nDETECTION\\nAND\\nTHEFT\\nTRAPPING\\nTHROUGH\\nVIDEO\\nSURVEILLANCE\\nSYSTEM”\\nis\\nthe\\nbonafide\\nwork\\nof\\n“\\nCHANDRASEKAR\\nC\\nS,\\nJAYESH\\nP\\nT\\n,\\nANSON\\nTHOMAS\\n”\\nwho carried out the project work under my\\nsupervision.\\nSIGNATURE\\nSIGNATURE\\nDr. B .PAULCHAMY, M.E.,Ph.D.,\\nMrs.R.PRIY ADHARSHINI,\\nM.E\\nHEAD OF THE DEPARTMENT,\\nSUPER VISOR,\\nProfessor & Head,\\nAssistant Professor ,\\nDepartment of Electronics and\\nDepartment of\\nElectronics and\\nCommunication Engineering,\\nCommunication\\nEngineering,\\nHindusthan Institute of\\nHindusthan Institute\\nof\\nTechnology,\\nTechnology,\\nCoimbatore -32.\\nCoimbatore- 32.\\nSubmitted for the University Project viva-voice conducted on ....................\\n----------------------------------\\n-------------------------------- \\nINTERNAL EXAMINER\\nEXTERNAL EXAMINER\\n2'"
      ]
     },
     "execution_count": 16,
     "metadata": {},
     "output_type": "execute_result"
    }
   ],
   "source": [
    "get_pdf_data(\"ProjectReport .pdf\")"
   ]
  },
  {
   "cell_type": "code",
   "execution_count": null,
   "id": "05dcd6a3-ebe6-4248-8496-ca7bb4552e64",
   "metadata": {},
   "outputs": [],
   "source": [
    "# function to split PDF into multiple PDF pages\n",
    "\n",
    "with open(\"ProjectReport .pdf\",'rb') as f:\n",
    "    pdf=f.read()\n",
    "    "
   ]
  },
  {
   "cell_type": "code",
   "execution_count": null,
   "id": "72c8f97d-c675-4eab-990a-9c6be7bcb582",
   "metadata": {},
   "outputs": [],
   "source": [
    "pdf"
   ]
  },
  {
   "cell_type": "code",
   "execution_count": null,
   "id": "dffe7a7a-6271-49c1-a336-15b1e13eadac",
   "metadata": {},
   "outputs": [],
   "source": []
  }
 ],
 "metadata": {
  "kernelspec": {
   "display_name": "Python 3 (ipykernel)",
   "language": "python",
   "name": "python3"
  },
  "language_info": {
   "codemirror_mode": {
    "name": "ipython",
    "version": 3
   },
   "file_extension": ".py",
   "mimetype": "text/x-python",
   "name": "python",
   "nbconvert_exporter": "python",
   "pygments_lexer": "ipython3",
   "version": "3.9.16"
  }
 },
 "nbformat": 4,
 "nbformat_minor": 5
}

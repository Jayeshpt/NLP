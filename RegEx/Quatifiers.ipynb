{
 "cells": [
  {
   "cell_type": "markdown",
   "id": "0cef85c0-1e76-48be-bdfe-f461a929d3c7",
   "metadata": {
    "tags": []
   },
   "source": [
    "### Quantifiers\n",
    "Quantifiers are the mechanisms to define how a character, metacharacter, or character set can be repeated.\n",
    "\n",
    "Here is the list of 4 basic quantifers:\n",
    "\n",
    "Symbol\tName\tQuantification of previous character\n",
    "* ?\t:- Question Mark\tOptional (0 or 1 repetitions)\n",
    "* (*)\t:- Asterisk\tZero or more times\n",
    "* (+)\t:- Plus Sign\tOne or more times\n",
    "* {n,m} :- Curly Braces\tBetween n and m times\n",
    "\n",
    "\n",
    "Let us go through different examples to understand them one by one.\n",
    "\n",
    "#### Example 1\n",
    "Find all the matches for dog and dogs in the given text."
   ]
  },
  {
   "cell_type": "code",
   "execution_count": 1,
   "id": "a7902887-8e77-4aba-8a11-5407de0f23af",
   "metadata": {},
   "outputs": [],
   "source": [
    "import re\n"
   ]
  },
  {
   "cell_type": "code",
   "execution_count": 2,
   "id": "7e56630c-9b48-4570-9990-f2a0232ed15a",
   "metadata": {},
   "outputs": [],
   "source": [
    "txt = \"\"\"\n",
    "I have 2 dogs. One dog is 1 year old and other one is 2 years old. Both dogs are very cute! \n",
    "\"\"\""
   ]
  },
  {
   "cell_type": "code",
   "execution_count": 3,
   "id": "2979ad8a-6488-4f78-b6a9-13704ecd0424",
   "metadata": {},
   "outputs": [
    {
     "data": {
      "text/plain": [
       "['dogs', 'dog', 'dogs']"
      ]
     },
     "execution_count": 3,
     "metadata": {},
     "output_type": "execute_result"
    }
   ],
   "source": [
    "pattern = re.compile('dogs?')\n",
    "\n",
    "pattern.findall(txt)"
   ]
  },
  {
   "cell_type": "markdown",
   "id": "45762509-f5b4-4c1e-9d31-834d58898c29",
   "metadata": {
    "tags": []
   },
   "source": [
    "#### Example 2\n",
    "Find all filenames starting with file and ending with .txt in the given text.\n",
    "\n"
   ]
  },
  {
   "cell_type": "code",
   "execution_count": 7,
   "id": "539ce2c7-d24b-4cf7-ae72-93da8924b453",
   "metadata": {},
   "outputs": [],
   "source": [
    "txt = \"\"\"\n",
    "file1.txt\n",
    "file_one.txt\n",
    "file.txt\n",
    "fil.txt\n",
    "file.xml\n",
    "file-1.txt\n",
    "file12234324.txt\n",
    "\"\"\""
   ]
  },
  {
   "cell_type": "code",
   "execution_count": 8,
   "id": "29c95d3b-6fb9-47d7-bebe-fbc7f4dd2ff3",
   "metadata": {},
   "outputs": [],
   "source": [
    "pattern = re.compile(\"file\\w*\\.txt\")\n",
    "## \\w* means it will matches all alphanumeric values"
   ]
  },
  {
   "cell_type": "code",
   "execution_count": 9,
   "id": "aa6fd447-4d1d-4e58-bc62-da523aef0cdf",
   "metadata": {},
   "outputs": [
    {
     "data": {
      "text/plain": [
       "['file1.txt', 'file_one.txt', 'file.txt', 'file12234324.txt']"
      ]
     },
     "execution_count": 9,
     "metadata": {},
     "output_type": "execute_result"
    }
   ],
   "source": [
    "pattern.findall(txt)"
   ]
  },
  {
   "cell_type": "markdown",
   "id": "f4e63e0d-6656-418c-b9ec-788fd74b9531",
   "metadata": {
    "tags": []
   },
   "source": [
    "### Example 3\n",
    "Find all filenames starting with file followed by 1 or more digits and ending with .txt in the given text.\n",
    "\n"
   ]
  },
  {
   "cell_type": "code",
   "execution_count": 11,
   "id": "4b8c5748-ebc5-49f1-9043-f50864b3c103",
   "metadata": {},
   "outputs": [],
   "source": [
    "txt = \"\"\"\n",
    "file1.txt\n",
    "file_one.txt\n",
    "file09.txt\n",
    "fil.txt\n",
    "file23.xml\n",
    "file23.txt\n",
    "file.txt\n",
    "\"\"\""
   ]
  },
  {
   "cell_type": "code",
   "execution_count": 12,
   "id": "aed048a5-92b1-4ed1-967f-0101292d113b",
   "metadata": {},
   "outputs": [
    {
     "data": {
      "text/plain": [
       "['file1.txt', 'file09.txt', 'file23.txt']"
      ]
     },
     "execution_count": 12,
     "metadata": {},
     "output_type": "execute_result"
    }
   ],
   "source": [
    "pattern = re.compile('file\\d+\\.txt')\n",
    "\n",
    "pattern.findall(txt)"
   ]
  },
  {
   "cell_type": "markdown",
   "id": "d4e3da2b-e488-494c-a397-50eb8f9a367e",
   "metadata": {
    "tags": []
   },
   "source": [
    "We can use the curly brackets syntax here with these modifications:\n",
    "\n",
    "Syntax\tDescription\n",
    "* {n}  \tThe previous character is repeated exactly n times.\n",
    "* {n,}\tThe previous character is repeated at least n times.\n",
    "* {,n}\tThe previous character is repeated at most n times.\n",
    "* {n,m}\tThe previous character is repeated between n and m times (both inclusive).\n",
    "\n",
    "#### Example 4\n",
    "Find years in the given text."
   ]
  },
  {
   "cell_type": "code",
   "execution_count": 13,
   "id": "913558b5-d7b9-4f0d-8b08-2d3a61ea2b6d",
   "metadata": {},
   "outputs": [],
   "source": [
    "txt = \"\"\"\n",
    "The first season of Indian Premiere League (IPL) was played in 2008. \n",
    "The second season was played in 2009 in South Africa. \n",
    "Last season was played in 2018 and won by Chennai Super Kings (CSK).\n",
    "CSK won the title in 2010 and 2011 as well.\n",
    "Mumbai Indians (MI) has also won the title 3 times in 2013, 2015 and 2017.\n",
    "\"\"\""
   ]
  },
  {
   "cell_type": "code",
   "execution_count": 14,
   "id": "0d063e39-edfe-40c4-9505-77d46ac843f4",
   "metadata": {},
   "outputs": [
    {
     "data": {
      "text/plain": [
       "['2008', '2009', '2018', '2010', '2011', '2013', '2015', '2017']"
      ]
     },
     "execution_count": 14,
     "metadata": {},
     "output_type": "execute_result"
    }
   ],
   "source": [
    "pattern = re.compile(\"\\d{4}\")\n",
    "\n",
    "pattern.findall(txt)"
   ]
  },
  {
   "cell_type": "markdown",
   "id": "8d77c12a-e6fe-4cd0-b0af-52d81d552c9a",
   "metadata": {
    "tags": []
   },
   "source": [
    "### Example 5\n",
    "In the given text, filter out all 4 or more digit numbers."
   ]
  },
  {
   "cell_type": "code",
   "execution_count": 19,
   "id": "f3c87bdf-f735-40eb-8943-f6b25539b756",
   "metadata": {},
   "outputs": [],
   "source": [
    "txt = \"\"\"\n",
    "123143\n",
    "432\n",
    "5657\n",
    "4435\n",
    "54\n",
    "65111\n",
    "\"\"\""
   ]
  },
  {
   "cell_type": "code",
   "execution_count": 20,
   "id": "2c1c05ab-1c00-4e2f-8bd5-bb4e70c80377",
   "metadata": {},
   "outputs": [],
   "source": [
    "pattern = re.compile(\"\\d{4,}\")"
   ]
  },
  {
   "cell_type": "code",
   "execution_count": 21,
   "id": "790fb94d-37d3-4678-b6de-2b2b7bf63168",
   "metadata": {},
   "outputs": [
    {
     "data": {
      "text/plain": [
       "['123143', '5657', '4435', '65111']"
      ]
     },
     "execution_count": 21,
     "metadata": {},
     "output_type": "execute_result"
    }
   ],
   "source": [
    "pattern.findall(txt)"
   ]
  },
  {
   "cell_type": "code",
   "execution_count": 23,
   "id": "72448de0-307f-49d1-91a9-a5efe1723845",
   "metadata": {},
   "outputs": [
    {
     "data": {
      "text/plain": [
       "['',\n",
       " '1231',\n",
       " '43',\n",
       " '',\n",
       " '432',\n",
       " '',\n",
       " '5657',\n",
       " '',\n",
       " '4435',\n",
       " '',\n",
       " '54',\n",
       " '',\n",
       " '6511',\n",
       " '1',\n",
       " '',\n",
       " '']"
      ]
     },
     "execution_count": 23,
     "metadata": {},
     "output_type": "execute_result"
    }
   ],
   "source": [
    "pattern = re.compile(\"\\d{,4}\")\n",
    "pattern.findall(txt)"
   ]
  },
  {
   "cell_type": "markdown",
   "id": "3b5784ab-4d20-4c03-a55f-3352b225ec80",
   "metadata": {
    "tags": []
   },
   "source": [
    "### Example 6\n",
    "Write a pattern to validate telephone numbers.\n",
    "\n",
    "Telephone numbers can be of the form: 555-555-5555, 555 555 5555, 5555555555"
   ]
  },
  {
   "cell_type": "code",
   "execution_count": 26,
   "id": "bb485308-71f2-42e2-b023-155777a07ced",
   "metadata": {},
   "outputs": [],
   "source": [
    "txt = \"\"\"\n",
    "555-555-5555\n",
    "555 555 5555\n",
    "5555555555\n",
    "\"\"\""
   ]
  },
  {
   "cell_type": "code",
   "execution_count": 27,
   "id": "43a578ad-6567-47c7-8b21-0d68226752e5",
   "metadata": {},
   "outputs": [],
   "source": [
    "pattern = re.compile(\"\\d{3}[-\\s]?\\d{3}[-\\s]?\\d{4}\")"
   ]
  },
  {
   "cell_type": "code",
   "execution_count": 28,
   "id": "9f91fa0e-40b3-4d03-a15d-d0bf44765a07",
   "metadata": {},
   "outputs": [
    {
     "data": {
      "text/plain": [
       "['555-555-5555', '555 555 5555', '5555555555']"
      ]
     },
     "execution_count": 28,
     "metadata": {},
     "output_type": "execute_result"
    }
   ],
   "source": [
    "pattern.findall(txt) "
   ]
  },
  {
   "cell_type": "code",
   "execution_count": null,
   "id": "03c8bf05-11cb-4bee-bab2-18c128a75008",
   "metadata": {},
   "outputs": [],
   "source": []
  }
 ],
 "metadata": {
  "kernelspec": {
   "display_name": "Python 3 (ipykernel)",
   "language": "python",
   "name": "python3"
  },
  "language_info": {
   "codemirror_mode": {
    "name": "ipython",
    "version": 3
   },
   "file_extension": ".py",
   "mimetype": "text/x-python",
   "name": "python",
   "nbconvert_exporter": "python",
   "pygments_lexer": "ipython3",
   "version": "3.9.16"
  }
 },
 "nbformat": 4,
 "nbformat_minor": 5
}

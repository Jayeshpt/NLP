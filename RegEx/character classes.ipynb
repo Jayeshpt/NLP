{
 "cells": [
  {
   "cell_type": "markdown",
   "id": "937a9d59-b000-4820-933c-448f84576775",
   "metadata": {},
   "source": [
    "### Character Classes\n",
    "* The character classes (also known as character sets) allow us to define a character that will match if any of the defined characters on the set is present.\n",
    "\n",
    "* To define a character class, we should use the opening square bracket metacharacter [, then any accepted characters, and finally close with a closing square bracket ].\n",
    "\n",
    "### Example 1\n",
    "Consider an example below where we have messed up between license and licence spellings and want to find all occurances of license/licence in the text."
   ]
  },
  {
   "cell_type": "code",
   "execution_count": 29,
   "id": "af5658b1-45ce-46d7-858f-7e0837e51bbf",
   "metadata": {},
   "outputs": [],
   "source": [
    "import re\n",
    "\n",
    "from colorama import Back, Style\n",
    "\n",
    "\n",
    "def highlight_regex_matches(pattern, text, print_output=True):\n",
    "\toutput = text\n",
    "\tlen_inc = 0\n",
    "\tfor match in pattern.finditer(text):\n",
    "\t\tstart, end = match.start() + len_inc, match.end() + len_inc\n",
    "\t\toutput = output[:start] + Back.YELLOW + Style.BRIGHT + output[start:end] + Style.RESET_ALL + output[end:]\n",
    "\t\tlen_inc = len(output) - len(text)  \n",
    "\n",
    "\tif print_output:\n",
    "\t\tprint(output)\n",
    "\telse:\n",
    "\t\treturn output"
   ]
  },
  {
   "cell_type": "code",
   "execution_count": 30,
   "id": "cf2e57f4-a4c8-4fdc-bcd2-6ee9867d5be4",
   "metadata": {},
   "outputs": [],
   "source": [
    "txt = \"\"\"\n",
    "Yesterday, I was driving my car without a driving licence. The traffic police stopped me and asked me for my \n",
    "license. I told them that I forgot my licence at home. \n",
    "\"\"\"\n"
   ]
  },
  {
   "cell_type": "code",
   "execution_count": 4,
   "id": "3421962e-f104-429f-b674-fcccc1538436",
   "metadata": {},
   "outputs": [],
   "source": [
    "pattern = re.compile('licen[cs]e')"
   ]
  },
  {
   "cell_type": "code",
   "execution_count": 5,
   "id": "aa7917f4-c88d-4181-9703-aacc78465d5b",
   "metadata": {},
   "outputs": [
    {
     "data": {
      "text/plain": [
       "['licence', 'license', 'licence']"
      ]
     },
     "execution_count": 5,
     "metadata": {},
     "output_type": "execute_result"
    }
   ],
   "source": [
    "pattern.findall(txt)"
   ]
  },
  {
   "cell_type": "code",
   "execution_count": 6,
   "id": "6fe6bfc0-401e-4f63-8aee-8955c0dbdb50",
   "metadata": {},
   "outputs": [
    {
     "name": "stdout",
     "output_type": "stream",
     "text": [
      "\n",
      "Yesterday, I was driving my car without a driving \u001b[43m\u001b[1mlicence\u001b[0m. The traffic police stopped me and asked me for my \n",
      "\u001b[43m\u001b[1mlicense\u001b[0m. I told them that I forgot my \u001b[43m\u001b[1mlicence\u001b[0m at home. \n",
      "\n"
     ]
    }
   ],
   "source": [
    "highlight_regex_matches(pattern,txt)"
   ]
  },
  {
   "cell_type": "markdown",
   "id": "d2cf1463-465f-4e96-92ba-527cc5ebc03e",
   "metadata": {},
   "source": [
    "### Character Set Range\n",
    "It is possible to also use the range of a character. This is done by leveraging the hyphen symbol (-) between two related characters; for example, to match any lowercase letter we can use [a-z]. Likewise, to match any single digit we can define the character set [0-9].\n",
    "\n",
    "Let us consider an example in which we want to retrieve all the years from the given text."
   ]
  },
  {
   "cell_type": "code",
   "execution_count": 7,
   "id": "f0a321be-9cae-4d9b-9d6a-8454fac8d832",
   "metadata": {},
   "outputs": [],
   "source": [
    "txt = \"\"\"\n",
    "The first season of Indian Premiere League (IPL) was played in 2008. \n",
    "The second season was played in 2009 in South Africa. \n",
    "Last season was played in 2018 and won by Chennai Super Kings (CSK).\n",
    "CSK won the title in 2010 and 2011 as well.\n",
    "Mumbai Indians (MI) has also won the title 3 times in 2013, 2015 and 2017.\n",
    "\"\"\""
   ]
  },
  {
   "cell_type": "code",
   "execution_count": 8,
   "id": "599ef802-93d9-4234-ac90-1829c3d55ac8",
   "metadata": {},
   "outputs": [],
   "source": [
    "pattern = re.compile(\"[1-9][0-9][0-9][0-9]\")"
   ]
  },
  {
   "cell_type": "code",
   "execution_count": 9,
   "id": "c553e6e6-57a2-4671-8a31-578c481f864b",
   "metadata": {},
   "outputs": [
    {
     "data": {
      "text/plain": [
       "['2008', '2009', '2018', '2010', '2011', '2013', '2015', '2017']"
      ]
     },
     "execution_count": 9,
     "metadata": {},
     "output_type": "execute_result"
    }
   ],
   "source": [
    "pattern.findall(txt)"
   ]
  },
  {
   "cell_type": "code",
   "execution_count": 10,
   "id": "a187842d-0783-450c-b9c0-7bd545b4917e",
   "metadata": {},
   "outputs": [
    {
     "name": "stdout",
     "output_type": "stream",
     "text": [
      "\n",
      "The first season of Indian Premiere League (IPL) was played in \u001b[43m\u001b[1m2008\u001b[0m. \n",
      "The second season was played in \u001b[43m\u001b[1m2009\u001b[0m in South Africa. \n",
      "Last season was played in \u001b[43m\u001b[1m2018\u001b[0m and won by Chennai Super Kings (CSK).\n",
      "CSK won the title in \u001b[43m\u001b[1m2010\u001b[0m and \u001b[43m\u001b[1m2011\u001b[0m as well.\n",
      "Mumbai Indians (MI) has also won the title 3 times in \u001b[43m\u001b[1m2013\u001b[0m, \u001b[43m\u001b[1m2015\u001b[0m and \u001b[43m\u001b[1m2017\u001b[0m.\n",
      "\n"
     ]
    }
   ],
   "source": [
    "highlight_regex_matches(pattern,txt)"
   ]
  },
  {
   "cell_type": "markdown",
   "id": "d4fd4069-32a2-41f8-b633-782e319c552b",
   "metadata": {},
   "source": [
    "here is another possibility—the negation of ranges. We can invert the meaning\n",
    "\n",
    "of a character set by placing a caret (^) symbol right after the opening square bracket metacharacter ([).\n",
    "\n",
    "For example, to find all the characters used in a text except vowels, we can use the pattern:"
   ]
  },
  {
   "cell_type": "code",
   "execution_count": 11,
   "id": "5f6f8963-3dd7-4000-a6d2-f1c7e483c7d1",
   "metadata": {},
   "outputs": [],
   "source": [
    "pattern = re.compile('[^aeiou]')"
   ]
  },
  {
   "cell_type": "code",
   "execution_count": 12,
   "id": "878a3a0a-334b-475e-b927-e544635e0b71",
   "metadata": {
    "scrolled": true,
    "tags": []
   },
   "outputs": [
    {
     "data": {
      "text/plain": [
       "['\\n',\n",
       " 'T',\n",
       " 'h',\n",
       " ' ',\n",
       " 'f',\n",
       " 'r',\n",
       " 's',\n",
       " 't',\n",
       " ' ',\n",
       " 's',\n",
       " 's',\n",
       " 'n',\n",
       " ' ',\n",
       " 'f',\n",
       " ' ',\n",
       " 'I',\n",
       " 'n',\n",
       " 'd',\n",
       " 'n',\n",
       " ' ',\n",
       " 'P',\n",
       " 'r',\n",
       " 'm',\n",
       " 'r',\n",
       " ' ',\n",
       " 'L',\n",
       " 'g',\n",
       " ' ',\n",
       " '(',\n",
       " 'I',\n",
       " 'P',\n",
       " 'L',\n",
       " ')',\n",
       " ' ',\n",
       " 'w',\n",
       " 's',\n",
       " ' ',\n",
       " 'p',\n",
       " 'l',\n",
       " 'y',\n",
       " 'd',\n",
       " ' ',\n",
       " 'n',\n",
       " ' ',\n",
       " '2',\n",
       " '0',\n",
       " '0',\n",
       " '8',\n",
       " '.',\n",
       " ' ',\n",
       " '\\n',\n",
       " 'T',\n",
       " 'h',\n",
       " ' ',\n",
       " 's',\n",
       " 'c',\n",
       " 'n',\n",
       " 'd',\n",
       " ' ',\n",
       " 's',\n",
       " 's',\n",
       " 'n',\n",
       " ' ',\n",
       " 'w',\n",
       " 's',\n",
       " ' ',\n",
       " 'p',\n",
       " 'l',\n",
       " 'y',\n",
       " 'd',\n",
       " ' ',\n",
       " 'n',\n",
       " ' ',\n",
       " '2',\n",
       " '0',\n",
       " '0',\n",
       " '9',\n",
       " ' ',\n",
       " 'n',\n",
       " ' ',\n",
       " 'S',\n",
       " 't',\n",
       " 'h',\n",
       " ' ',\n",
       " 'A',\n",
       " 'f',\n",
       " 'r',\n",
       " 'c',\n",
       " '.',\n",
       " ' ',\n",
       " '\\n',\n",
       " 'L',\n",
       " 's',\n",
       " 't',\n",
       " ' ',\n",
       " 's',\n",
       " 's',\n",
       " 'n',\n",
       " ' ',\n",
       " 'w',\n",
       " 's',\n",
       " ' ',\n",
       " 'p',\n",
       " 'l',\n",
       " 'y',\n",
       " 'd',\n",
       " ' ',\n",
       " 'n',\n",
       " ' ',\n",
       " '2',\n",
       " '0',\n",
       " '1',\n",
       " '8',\n",
       " ' ',\n",
       " 'n',\n",
       " 'd',\n",
       " ' ',\n",
       " 'w',\n",
       " 'n',\n",
       " ' ',\n",
       " 'b',\n",
       " 'y',\n",
       " ' ',\n",
       " 'C',\n",
       " 'h',\n",
       " 'n',\n",
       " 'n',\n",
       " ' ',\n",
       " 'S',\n",
       " 'p',\n",
       " 'r',\n",
       " ' ',\n",
       " 'K',\n",
       " 'n',\n",
       " 'g',\n",
       " 's',\n",
       " ' ',\n",
       " '(',\n",
       " 'C',\n",
       " 'S',\n",
       " 'K',\n",
       " ')',\n",
       " '.',\n",
       " '\\n',\n",
       " 'C',\n",
       " 'S',\n",
       " 'K',\n",
       " ' ',\n",
       " 'w',\n",
       " 'n',\n",
       " ' ',\n",
       " 't',\n",
       " 'h',\n",
       " ' ',\n",
       " 't',\n",
       " 't',\n",
       " 'l',\n",
       " ' ',\n",
       " 'n',\n",
       " ' ',\n",
       " '2',\n",
       " '0',\n",
       " '1',\n",
       " '0',\n",
       " ' ',\n",
       " 'n',\n",
       " 'd',\n",
       " ' ',\n",
       " '2',\n",
       " '0',\n",
       " '1',\n",
       " '1',\n",
       " ' ',\n",
       " 's',\n",
       " ' ',\n",
       " 'w',\n",
       " 'l',\n",
       " 'l',\n",
       " '.',\n",
       " '\\n',\n",
       " 'M',\n",
       " 'm',\n",
       " 'b',\n",
       " ' ',\n",
       " 'I',\n",
       " 'n',\n",
       " 'd',\n",
       " 'n',\n",
       " 's',\n",
       " ' ',\n",
       " '(',\n",
       " 'M',\n",
       " 'I',\n",
       " ')',\n",
       " ' ',\n",
       " 'h',\n",
       " 's',\n",
       " ' ',\n",
       " 'l',\n",
       " 's',\n",
       " ' ',\n",
       " 'w',\n",
       " 'n',\n",
       " ' ',\n",
       " 't',\n",
       " 'h',\n",
       " ' ',\n",
       " 't',\n",
       " 't',\n",
       " 'l',\n",
       " ' ',\n",
       " '3',\n",
       " ' ',\n",
       " 't',\n",
       " 'm',\n",
       " 's',\n",
       " ' ',\n",
       " 'n',\n",
       " ' ',\n",
       " '2',\n",
       " '0',\n",
       " '1',\n",
       " '3',\n",
       " ',',\n",
       " ' ',\n",
       " '2',\n",
       " '0',\n",
       " '1',\n",
       " '5',\n",
       " ' ',\n",
       " 'n',\n",
       " 'd',\n",
       " ' ',\n",
       " '2',\n",
       " '0',\n",
       " '1',\n",
       " '7',\n",
       " '.',\n",
       " '\\n']"
      ]
     },
     "execution_count": 12,
     "metadata": {},
     "output_type": "execute_result"
    }
   ],
   "source": [
    "pattern.findall(txt)"
   ]
  },
  {
   "cell_type": "code",
   "execution_count": 13,
   "id": "55602ba2-eabf-46d0-b8c1-0b542c3f0ea1",
   "metadata": {},
   "outputs": [
    {
     "name": "stdout",
     "output_type": "stream",
     "text": [
      "\n",
      "Th frst ssn f Indn Prmr Lg (IPL) ws plyd n 2008. \n",
      "Th scnd ssn ws plyd n 2009 n Sth Afrc. \n",
      "Lst ssn ws plyd n 2018 nd wn by Chnn Spr Kngs (CSK).\n",
      "CSK wn th ttl n 2010 nd 2011 s wll.\n",
      "Mmb Indns (MI) hs ls wn th ttl 3 tms n 2013, 2015 nd 2017.\n",
      "\n"
     ]
    }
   ],
   "source": [
    "print(''.join(pattern.findall(txt)))"
   ]
  },
  {
   "cell_type": "markdown",
   "id": "283491ba-0473-4a64-a1b4-efc4594e20a8",
   "metadata": {},
   "source": [
    "### Predefined Character Classes\n",
    "There exist some predefined character classes which can be used as a shortcut for some frequently used classes."
   ]
  },
  {
   "cell_type": "markdown",
   "id": "ad52ca03-6329-46f7-8de1-5e7a2f7ec521",
   "metadata": {},
   "source": [
    "#### Element\tDescription\n",
    "* .    :-\tThis element matches any character except newline\n",
    "* \\d   :-\tThis matches any decimal digit; this is equivalent to the class [0-9]\n",
    "* \\D   :-\tThis matches any non-digit character; this is equivalent to the class [^0-9]\n",
    "* \\s   :-\tThis matches any whitespace character; this is equivalent to the class [ \\t\\n\\r\\f\\v]\n",
    "* \\S   :-\tThis matches any non-whitespace character; this is equivalent to the class [^ \\t\\n\\r\\f\\v]\n",
    "* \\w   :-\tThis matches any alphanumeric character; this is equivalent to the class [a-zA-Z0-9_]\n",
    "* \\W   :-\tThis matches any non-alphanumeric character; this is equivalent to the class [^a-zA-Z0-9_]"
   ]
  },
  {
   "cell_type": "code",
   "execution_count": 14,
   "id": "198ccdf7-ed10-4cf6-951b-a44f9385287b",
   "metadata": {},
   "outputs": [],
   "source": [
    "pattern = re.compile(\"[1-9]\\d\\d\\d\")"
   ]
  },
  {
   "cell_type": "code",
   "execution_count": 15,
   "id": "213162d9-2987-4ada-81c1-d00ef38cfdc9",
   "metadata": {},
   "outputs": [
    {
     "data": {
      "text/plain": [
       "['2008', '2009', '2018', '2010', '2011', '2013', '2015', '2017']"
      ]
     },
     "execution_count": 15,
     "metadata": {},
     "output_type": "execute_result"
    }
   ],
   "source": [
    "pattern.findall(txt)"
   ]
  },
  {
   "cell_type": "code",
   "execution_count": 24,
   "id": "4944a290-fdec-4113-bcb9-b969028eed8d",
   "metadata": {},
   "outputs": [
    {
     "data": {
      "text/plain": [
       "['(', ')', '.', '.', '(', ')', '.', '.', '(', ')', ',', '.']"
      ]
     },
     "execution_count": 24,
     "metadata": {},
     "output_type": "execute_result"
    }
   ],
   "source": [
    "pattern = re.compile(\"[^\\w\\s]\")\n",
    "pattern.findall(txt)"
   ]
  },
  {
   "cell_type": "markdown",
   "id": "a5936dff-aaf5-402a-b591-7efa28a1ad2b",
   "metadata": {},
   "source": [
    "### Alteration\n",
    "Just like character classes are used to match a single character out of several possible characters, alternation is used to match a single regular expression out of several possible regular expressions.\n",
    "\n",
    "This is accomplished using the pipe symbol |.\n",
    "\n",
    "Consider a scenario where you want to find all occurances of and, or, the in a given text.\n",
    "\n",
    "One way is to write and execute 3 separate regular expressions. Using alteration, it can be done in a single regular expression!"
   ]
  },
  {
   "cell_type": "code",
   "execution_count": 25,
   "id": "8e1fc63e-1db6-46be-a474-e5fccfb4bbe7",
   "metadata": {},
   "outputs": [],
   "source": [
    "txt = \"\"\"\n",
    "the most common conjunctions are and, or and but.\n",
    "\"\"\""
   ]
  },
  {
   "cell_type": "code",
   "execution_count": 26,
   "id": "d04f5de7-ee3d-47be-b70b-a36b8d34bd3c",
   "metadata": {},
   "outputs": [],
   "source": [
    "pattern = re.compile(\"and|or|the\")"
   ]
  },
  {
   "cell_type": "code",
   "execution_count": 27,
   "id": "3828a21b-d60a-4758-942e-195ee2962d60",
   "metadata": {},
   "outputs": [
    {
     "data": {
      "text/plain": [
       "['the', 'and', 'or', 'and']"
      ]
     },
     "execution_count": 27,
     "metadata": {},
     "output_type": "execute_result"
    }
   ],
   "source": [
    "pattern.findall(txt)"
   ]
  },
  {
   "cell_type": "code",
   "execution_count": 32,
   "id": "c901da05-9d11-4b6a-afb3-98355200555e",
   "metadata": {},
   "outputs": [
    {
     "name": "stdout",
     "output_type": "stream",
     "text": [
      "\n",
      "Yesterday, I was driving my car without a driving licence. The traffic police stopped me \u001b[43m\u001b[1mand\u001b[0m asked me f\u001b[43m\u001b[1mor\u001b[0m my \n",
      "license. I told \u001b[43m\u001b[1mthe\u001b[0mm that I f\u001b[43m\u001b[1mor\u001b[0mgot my licence at home. \n",
      "\n"
     ]
    }
   ],
   "source": [
    "highlight_regex_matches(pattern,txt)"
   ]
  },
  {
   "cell_type": "markdown",
   "id": "0db843f8-03c8-4c11-bb46-72c6f066d0f2",
   "metadata": {},
   "source": [
    "Consider one more example now in which we want to search the substrings What is and Who is.\n",
    "\n"
   ]
  },
  {
   "cell_type": "code",
   "execution_count": 35,
   "id": "a9e531e2-bd26-4c5d-a43f-96b4461716ad",
   "metadata": {},
   "outputs": [],
   "source": [
    "txt = \"\"\"\n",
    "what is your name?\n",
    "who is that guy?\n",
    "\"\"\""
   ]
  },
  {
   "cell_type": "code",
   "execution_count": 36,
   "id": "611e2710-45e7-48fd-be53-3858ef6084a4",
   "metadata": {},
   "outputs": [
    {
     "data": {
      "text/plain": [
       "['what is', 'who is']"
      ]
     },
     "execution_count": 36,
     "metadata": {},
     "output_type": "execute_result"
    }
   ],
   "source": [
    "pattern = re.compile('what is|who is')\n",
    "\n",
    "pattern.findall(txt)"
   ]
  },
  {
   "cell_type": "code",
   "execution_count": 37,
   "id": "b03a441d-e1b2-422a-a836-6d0fae1926f6",
   "metadata": {},
   "outputs": [
    {
     "name": "stdout",
     "output_type": "stream",
     "text": [
      "\n",
      "\u001b[43m\u001b[1mwhat is\u001b[0m your name?\n",
      "\u001b[43m\u001b[1mwho is\u001b[0m that guy?\n",
      "\n"
     ]
    }
   ],
   "source": [
    "highlight_regex_matches(pattern,txt)"
   ]
  },
  {
   "cell_type": "markdown",
   "id": "3de8069a-002c-4760-b082-915cd6511c48",
   "metadata": {},
   "source": [
    "What|Who is regex pattern actually matches substrings What and Who is.\n",
    "\n",
    "To get the desired result, we need to wrap the optional regular expressions using paranthesis."
   ]
  },
  {
   "cell_type": "code",
   "execution_count": 42,
   "id": "9a64daff-e98f-4654-9ec4-9c7b2c1d8fbe",
   "metadata": {},
   "outputs": [],
   "source": [
    "pattern = re.compile(\"(what|who) is\")"
   ]
  },
  {
   "cell_type": "code",
   "execution_count": 43,
   "id": "c0ff0cc8-2254-4f16-a254-357fda50f2f1",
   "metadata": {},
   "outputs": [
    {
     "data": {
      "text/plain": [
       "['what', 'who']"
      ]
     },
     "execution_count": 43,
     "metadata": {},
     "output_type": "execute_result"
    }
   ],
   "source": [
    "pattern.findall(txt)"
   ]
  },
  {
   "cell_type": "code",
   "execution_count": 44,
   "id": "b9ccc8bc-8195-4ebd-951e-d61f61dcff7f",
   "metadata": {},
   "outputs": [
    {
     "name": "stdout",
     "output_type": "stream",
     "text": [
      "\n",
      "\u001b[43m\u001b[1mwhat is\u001b[0m your name?\n",
      "\u001b[43m\u001b[1mwho is\u001b[0m that guy?\n",
      "\n"
     ]
    }
   ],
   "source": [
    "highlight_regex_matches(pattern,txt)"
   ]
  },
  {
   "cell_type": "code",
   "execution_count": null,
   "id": "cd90c6aa-53e9-4fb3-bffe-cdca5520f2ce",
   "metadata": {},
   "outputs": [],
   "source": []
  }
 ],
 "metadata": {
  "kernelspec": {
   "display_name": "Python 3 (ipykernel)",
   "language": "python",
   "name": "python3"
  },
  "language_info": {
   "codemirror_mode": {
    "name": "ipython",
    "version": 3
   },
   "file_extension": ".py",
   "mimetype": "text/x-python",
   "name": "python",
   "nbconvert_exporter": "python",
   "pygments_lexer": "ipython3",
   "version": "3.9.16"
  }
 },
 "nbformat": 4,
 "nbformat_minor": 5
}

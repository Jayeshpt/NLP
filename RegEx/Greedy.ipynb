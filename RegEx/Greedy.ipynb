{
 "cells": [
  {
   "cell_type": "markdown",
   "id": "c8242af6-3c1d-419b-a94d-c40b27f407ff",
   "metadata": {},
   "source": [
    "### Greedy Behaviour"
   ]
  },
  {
   "cell_type": "code",
   "execution_count": 1,
   "id": "d34294b4-b93a-429b-a9a4-8bfc2c1fff56",
   "metadata": {},
   "outputs": [],
   "source": [
    "import re\n"
   ]
  },
  {
   "cell_type": "code",
   "execution_count": 2,
   "id": "0fa6f729-4378-4321-90f4-72f173953141",
   "metadata": {},
   "outputs": [],
   "source": [
    "txt = \"\"\"<!doctype html>\n",
    "<html data-test-id=\"brave-new-tab-page\" dir=\"ltr\">\n",
    "<head>\n",
    "<meta charset=\"utf-8\">\n",
    "<meta name=\"viewport\" content=\"width=device-width\">\n",
    "<title>New Tab</title>\n",
    "<link rel=\"stylesheet\" href=\"chrome://resources/brave/css/reset.css\">\n",
    "<link rel=\"stylesheet\" href=\"chrome://resources/css/text_defaults.css\">\n",
    "<link rel=\"stylesheet\" href=\"chrome://resources/brave/fonts/poppins.css\">\n",
    "<link rel=\"stylesheet\" href=\"chrome://resources/brave/fonts/crypto_fonts.css\">\n",
    "<script src=\"chrome://resources/js/load_time_data_deprecated.js\"></script>\n",
    "<script src=\"/strings.js\"></script>\n",
    "<script src=\"/brave_new_tab.bundle.js\"></script>\n",
    "<style>\n",
    "  body {\n",
    "    background: #000000ff;\n",
    "  }\n",
    "  #root {\n",
    "    height: 100%;\n",
    "  }\n",
    "</style>\n",
    "</head>\n",
    "<body>\n",
    "<div id=\"root\"></div>\n",
    "</body>\n",
    "</html>\"\"\""
   ]
  },
  {
   "cell_type": "code",
   "execution_count": 3,
   "id": "c604076a-6df6-4835-93c2-74829a519a5b",
   "metadata": {},
   "outputs": [],
   "source": [
    "pattern = re.compile(\"<.*>\")  \n",
    "#(. means any character * means many number of repeated)"
   ]
  },
  {
   "cell_type": "code",
   "execution_count": 4,
   "id": "651b304e-9d44-4878-97cf-dd5c4e6dccbd",
   "metadata": {},
   "outputs": [
    {
     "data": {
      "text/plain": [
       "['<!doctype html>',\n",
       " '<html data-test-id=\"brave-new-tab-page\" dir=\"ltr\">',\n",
       " '<head>',\n",
       " '<meta charset=\"utf-8\">',\n",
       " '<meta name=\"viewport\" content=\"width=device-width\">',\n",
       " '<title>New Tab</title>',\n",
       " '<link rel=\"stylesheet\" href=\"chrome://resources/brave/css/reset.css\">',\n",
       " '<link rel=\"stylesheet\" href=\"chrome://resources/css/text_defaults.css\">',\n",
       " '<link rel=\"stylesheet\" href=\"chrome://resources/brave/fonts/poppins.css\">',\n",
       " '<link rel=\"stylesheet\" href=\"chrome://resources/brave/fonts/crypto_fonts.css\">',\n",
       " '<script src=\"chrome://resources/js/load_time_data_deprecated.js\"></script>',\n",
       " '<script src=\"/strings.js\"></script>',\n",
       " '<script src=\"/brave_new_tab.bundle.js\"></script>',\n",
       " '<style>',\n",
       " '</style>',\n",
       " '</head>',\n",
       " '<body>',\n",
       " '<div id=\"root\"></div>',\n",
       " '</body>',\n",
       " '</html>']"
      ]
     },
     "execution_count": 4,
     "metadata": {},
     "output_type": "execute_result"
    }
   ],
   "source": [
    "pattern.findall(txt)"
   ]
  },
  {
   "cell_type": "code",
   "execution_count": 20,
   "id": "e866b377-0e7a-4003-8dcd-78c31ca547bb",
   "metadata": {},
   "outputs": [],
   "source": [
    "pattern = re.compile(\"href=\\\".*\\\"\")"
   ]
  },
  {
   "cell_type": "code",
   "execution_count": 21,
   "id": "5305b40f-ee36-497e-8dbd-319089412217",
   "metadata": {},
   "outputs": [
    {
     "data": {
      "text/plain": [
       "['href=\"chrome://resources/brave/css/reset.css\"',\n",
       " 'href=\"chrome://resources/css/text_defaults.css\"',\n",
       " 'href=\"chrome://resources/brave/fonts/poppins.css\"',\n",
       " 'href=\"chrome://resources/brave/fonts/crypto_fonts.css\"']"
      ]
     },
     "execution_count": 21,
     "metadata": {},
     "output_type": "execute_result"
    }
   ],
   "source": [
    "pattern.findall(txt)"
   ]
  },
  {
   "cell_type": "code",
   "execution_count": 22,
   "id": "b0bce9c3-8a04-43f9-ac05-f6280f67fdce",
   "metadata": {},
   "outputs": [
    {
     "data": {
      "text/plain": [
       "['script', 'script', 'script', 'script', 'script', 'script']"
      ]
     },
     "execution_count": 22,
     "metadata": {},
     "output_type": "execute_result"
    }
   ],
   "source": [
    "pattern = re.compile(\"script\")\n",
    "\n",
    "pattern.findall(txt)"
   ]
  },
  {
   "cell_type": "markdown",
   "id": "3399c970-0011-4116-89a2-5df1a1060bdd",
   "metadata": {},
   "source": [
    "This particular behaviour (to find longest match) is called greedy behaviour.\n",
    "\n",
    "The greedy behavior of the quantifiers is applied by default in the quantifiers. A greedy quantifier will try to match as much as possible to have the biggest match result possible."
   ]
  },
  {
   "cell_type": "markdown",
   "id": "b7661b43-4f05-4d30-8ee6-3e68358c035c",
   "metadata": {},
   "source": [
    "### Non-Greedy behaviour\n",
    "The non-greedy (or reluctant) behaviour can be requested by adding an extra question mark to the quantifier.\n",
    "\n",
    "For example, ??, *? or +?.\n",
    "\n",
    "A quantifier marked as reluctant will behave like the exact opposite of the greedy ones. They will try to have the smallest match possible."
   ]
  },
  {
   "cell_type": "code",
   "execution_count": 23,
   "id": "62311609-1ad0-4a64-83e8-27ce950a6f84",
   "metadata": {},
   "outputs": [],
   "source": [
    "pattern = re.compile(\"<.*?>\")"
   ]
  },
  {
   "cell_type": "code",
   "execution_count": 24,
   "id": "fdfd831f-cd49-45bc-869c-de5f8b90fd3e",
   "metadata": {},
   "outputs": [
    {
     "data": {
      "text/plain": [
       "['<!doctype html>',\n",
       " '<html data-test-id=\"brave-new-tab-page\" dir=\"ltr\">',\n",
       " '<head>',\n",
       " '<meta charset=\"utf-8\">',\n",
       " '<meta name=\"viewport\" content=\"width=device-width\">',\n",
       " '<title>',\n",
       " '</title>',\n",
       " '<link rel=\"stylesheet\" href=\"chrome://resources/brave/css/reset.css\">',\n",
       " '<link rel=\"stylesheet\" href=\"chrome://resources/css/text_defaults.css\">',\n",
       " '<link rel=\"stylesheet\" href=\"chrome://resources/brave/fonts/poppins.css\">',\n",
       " '<link rel=\"stylesheet\" href=\"chrome://resources/brave/fonts/crypto_fonts.css\">',\n",
       " '<script src=\"chrome://resources/js/load_time_data_deprecated.js\">',\n",
       " '</script>',\n",
       " '<script src=\"/strings.js\">',\n",
       " '</script>',\n",
       " '<script src=\"/brave_new_tab.bundle.js\">',\n",
       " '</script>',\n",
       " '<style>',\n",
       " '</style>',\n",
       " '</head>',\n",
       " '<body>',\n",
       " '<div id=\"root\">',\n",
       " '</div>',\n",
       " '</body>',\n",
       " '</html>']"
      ]
     },
     "execution_count": 24,
     "metadata": {},
     "output_type": "execute_result"
    }
   ],
   "source": [
    "pattern.findall(txt)"
   ]
  },
  {
   "cell_type": "code",
   "execution_count": null,
   "id": "fe184e82-32b0-4b11-9e56-542a9bd85a29",
   "metadata": {},
   "outputs": [],
   "source": [
    "['<!doctype html>',\n",
    " '<html data-test-id=\"brave-new-tab-page\" dir=\"ltr\">',\n",
    " '<head>',\n",
    " '<meta charset=\"utf-8\">',\n",
    " '<meta name=\"viewport\" content=\"width=device-width\">',\n",
    " '<title>New Tab</title>',\n",
    " '<link rel=\"stylesheet\" href=\"chrome://resources/brave/css/reset.css\">',\n",
    " '<link rel=\"stylesheet\" href=\"chrome://resources/css/text_defaults.css\">',\n",
    " '<link rel=\"stylesheet\" href=\"chrome://resources/brave/fonts/poppins.css\">',\n",
    " '<link rel=\"stylesheet\" href=\"chrome://resources/brave/fonts/crypto_fonts.css\">',\n",
    " '<script src=\"chrome://resources/js/load_time_data_deprecated.js\"></script>',\n",
    " '<script src=\"/strings.js\"></script>',\n",
    " '<script src=\"/brave_new_tab.bundle.js\"></script>',\n",
    " '<style>',\n",
    " '</style>',\n",
    " '</head>',\n",
    " '<body>',\n",
    " '<div id=\"root\"></div>',\n",
    " '</body>',\n",
    " '</html>']\n"
   ]
  }
 ],
 "metadata": {
  "kernelspec": {
   "display_name": "Python 3 (ipykernel)",
   "language": "python",
   "name": "python3"
  },
  "language_info": {
   "codemirror_mode": {
    "name": "ipython",
    "version": 3
   },
   "file_extension": ".py",
   "mimetype": "text/x-python",
   "name": "python",
   "nbconvert_exporter": "python",
   "pygments_lexer": "ipython3",
   "version": "3.9.16"
  }
 },
 "nbformat": 4,
 "nbformat_minor": 5
}

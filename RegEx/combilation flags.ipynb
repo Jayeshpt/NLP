{
 "cells": [
  {
   "cell_type": "markdown",
   "id": "88a485dc-5b89-4fa4-a428-71381e8760d8",
   "metadata": {},
   "source": [
    "### Compilation Flags\n",
    "\n",
    "* When compiling a pattern string into a pattern object, it's possible to modify the standard behavior of the patterns using Compilation Flags.\n",
    "\n",
    "* Multiple compilation flags can be combined using the bitwise OR \"|\".\n",
    "\n",
    "Here is a list of all the complation flags:\n",
    "\n"
   ]
  },
  {
   "cell_type": "markdown",
   "id": "f65c9a3e-9d97-4a80-9a0d-0824b9995b12",
   "metadata": {},
   "source": [
    "Syntax\t                Meaning\n",
    "\n",
    "re.IGNORECASE or re.I --\tignore case.\n",
    "\n",
    "re.MULTILINE or re.M --\tmake begin/end boundary matchers (^, $) consider each line.\n",
    "\n",
    "re.DOTALL or re.S\t--    make . match newline too.\n",
    "\n",
    "re.UNICODE or re.U\t --   make {\\w, \\W, \\b, \\B} follow Unicode rules.\n",
    "\n",
    "re.LOCALE or re.L\t --   make {\\w, \\W, \\b, \\B} follow locale.\n",
    "\n",
    "re.ASCII or re.A\t --   make {\\w, \\W, \\b, \\B} perform ASCII-only matching.\n",
    "\n",
    "re.VERBOSE or re.X\t --   allow comment in regex.\n",
    "\n",
    "re.DEBUG\t         --   get information about the compilation pattern."
   ]
  },
  {
   "cell_type": "markdown",
   "id": "73e8e0cc-074c-4207-819c-3d1c61eabdcd",
   "metadata": {},
   "source": [
    "Let's go through each one of them one by one.\n",
    "\n",
    "### 1. re.IGNORECASE or re.I\n",
    "This flag makes a regex pattern case-insensitive.\n",
    "\n",
    "Let's check out an example to find all occurances of the and The in the given text."
   ]
  },
  {
   "cell_type": "code",
   "execution_count": 1,
   "id": "8f1a6c73-3466-497f-888e-025bd575602d",
   "metadata": {},
   "outputs": [],
   "source": [
    "import re\n",
    "\n",
    "from colorama import Back, Style\n",
    "\n",
    "\n",
    "def highlight_regex_matches(pattern, text, print_output=True):\n",
    "\toutput = text\n",
    "\tlen_inc = 0\n",
    "\tfor match in pattern.finditer(text):\n",
    "\t\tstart, end = match.start() + len_inc, match.end() + len_inc\n",
    "\t\toutput = output[:start] + Back.YELLOW + Style.BRIGHT + output[start:end] + Style.RESET_ALL + output[end:]\n",
    "\t\tlen_inc = len(output) - len(text)  \n",
    "\n",
    "\tif print_output:\n",
    "\t\tprint(output)\n",
    "\telse:\n",
    "\t\treturn output"
   ]
  },
  {
   "cell_type": "code",
   "execution_count": 2,
   "id": "92c146f6-2aa2-4980-a2bb-43aa3c7ef743",
   "metadata": {},
   "outputs": [],
   "source": [
    "txt = \"\"\"\n",
    "The best thing about regex is that it makes the task of string manipulation so easy.\n",
    "\"\"\""
   ]
  },
  {
   "cell_type": "code",
   "execution_count": 4,
   "id": "03f09ae8-e069-468c-9ba2-d7031ac4c979",
   "metadata": {},
   "outputs": [],
   "source": [
    "pattern = re.compile(\"the\",flags=re.I)"
   ]
  },
  {
   "cell_type": "code",
   "execution_count": 5,
   "id": "671052f7-b90c-4dae-b4c1-fbdff525822c",
   "metadata": {},
   "outputs": [
    {
     "data": {
      "text/plain": [
       "re.compile(r'the', re.IGNORECASE|re.UNICODE)"
      ]
     },
     "execution_count": 5,
     "metadata": {},
     "output_type": "execute_result"
    }
   ],
   "source": [
    "pattern"
   ]
  },
  {
   "cell_type": "code",
   "execution_count": 6,
   "id": "841e83ef-827d-4275-8eda-529e0c28bf3a",
   "metadata": {},
   "outputs": [
    {
     "name": "stdout",
     "output_type": "stream",
     "text": [
      "\n",
      "\u001b[43m\u001b[1mThe\u001b[0m best thing about regex is that it makes \u001b[43m\u001b[1mthe\u001b[0m task of string manipulation so easy.\n",
      "\n"
     ]
    }
   ],
   "source": [
    "highlight_regex_matches(pattern,txt)"
   ]
  },
  {
   "cell_type": "markdown",
   "id": "93686ebf-c648-4573-8421-10142bb6562f",
   "metadata": {},
   "source": [
    "### 2. re.MULTILINE or re.M\n",
    "This flag is used to make begin/end boundary matchers (^, $) consider each line of the given text.\n",
    "\n",
    "Let's check out an example to find all lines starting with A."
   ]
  },
  {
   "cell_type": "code",
   "execution_count": 34,
   "id": "eb4e7a39-6155-4f07-9cf4-e272eb6dcc51",
   "metadata": {},
   "outputs": [],
   "source": [
    "txt = \"\"\"\n",
    "man was car crossing the road.\n",
    "Suddenly, a car passed before him in a very high speed.\n",
    "He was terrified\n",
    "And shocked.\n",
    "\"\"\""
   ]
  },
  {
   "cell_type": "code",
   "execution_count": 35,
   "id": "4ada05a1-38cc-47ed-974e-ba98348af211",
   "metadata": {},
   "outputs": [],
   "source": [
    "pattern = re.compile(\"^A.+\",flags = re.M)"
   ]
  },
  {
   "cell_type": "code",
   "execution_count": 36,
   "id": "5acf4faf-4e72-4860-bf2b-0aad9fee0be3",
   "metadata": {},
   "outputs": [
    {
     "name": "stdout",
     "output_type": "stream",
     "text": [
      "\n",
      "man was car crossing the road.\n",
      "Suddenly, a car passed before him in a very high speed.\n",
      "He was terrified\n",
      "\u001b[43m\u001b[1mAnd shocked.\u001b[0m\n",
      "\n"
     ]
    }
   ],
   "source": [
    "highlight_regex_matches(pattern,txt)"
   ]
  },
  {
   "cell_type": "markdown",
   "id": "a603538b-5ed6-468c-ab2a-945c0de50f54",
   "metadata": {},
   "source": [
    "### 3. re.DOTALL or re.S\n",
    "The . metacharacter matches everything except newline character. If we want to make . match newline too, we have to set this flag.\n",
    "\n",
    "Let's consider an examle to match all the text after (and including) car."
   ]
  },
  {
   "cell_type": "code",
   "execution_count": 41,
   "id": "dc06a462-6a13-4469-9a36-2d7c6835d7dc",
   "metadata": {},
   "outputs": [],
   "source": [
    "pattern = re.compile(\"car.+\",flags=re.S)"
   ]
  },
  {
   "cell_type": "code",
   "execution_count": 42,
   "id": "1d181623-e186-4d71-88bb-edc3ad180172",
   "metadata": {},
   "outputs": [
    {
     "name": "stdout",
     "output_type": "stream",
     "text": [
      "\n",
      "man was \u001b[43m\u001b[1mcar crossing the road.\n",
      "Suddenly, a car passed before him in a very high speed.\n",
      "He was terrified\n",
      "And shocked.\n",
      "\u001b[0m\n"
     ]
    }
   ],
   "source": [
    "highlight_regex_matches(pattern,txt)"
   ]
  },
  {
   "cell_type": "markdown",
   "id": "7c9def87-78b6-488e-9682-c61f02d2707c",
   "metadata": {},
   "source": [
    "### 4. re.UNICODE or re.U\n",
    "Using this flag, we can make the pattern characters {\\w, \\W, \\b, \\B} dependent on the Unicode character properties database.\n",
    "\n",
    "re.UNICODE is the default flag in Python 3 regex patterns.\n",
    "\n",
    "Let's consider an example where we try to work on hindi language."
   ]
  },
  {
   "cell_type": "code",
   "execution_count": 43,
   "id": "4ae2f377-12e4-4330-bec6-2e4305c1a048",
   "metadata": {},
   "outputs": [],
   "source": [
    "txt = \"मुझे किताबें पढ़ना बहुत पसंद है।\""
   ]
  },
  {
   "cell_type": "code",
   "execution_count": 44,
   "id": "74227556-3c8f-4529-9769-5990c4d602bf",
   "metadata": {},
   "outputs": [],
   "source": [
    "pattern = re.compile(\"\\w+\")"
   ]
  },
  {
   "cell_type": "code",
   "execution_count": 45,
   "id": "e5f8c6b9-b591-47a0-8c8e-6b3d6a2768de",
   "metadata": {},
   "outputs": [
    {
     "data": {
      "text/plain": [
       "['म', 'झ', 'क', 'त', 'ब', 'पढ', 'न', 'बह', 'त', 'पस', 'द', 'ह']"
      ]
     },
     "execution_count": 45,
     "metadata": {},
     "output_type": "execute_result"
    }
   ],
   "source": [
    "pattern.findall(txt)"
   ]
  },
  {
   "cell_type": "code",
   "execution_count": 48,
   "id": "e35f3e32-b95a-46ef-905f-bd352c181df3",
   "metadata": {},
   "outputs": [
    {
     "name": "stdout",
     "output_type": "stream",
     "text": [
      "Requirement already satisfied: regex in c:\\users\\jayes\\anaconda3\\envs\\env\\lib\\site-packages (2022.10.31)\n"
     ]
    }
   ],
   "source": [
    "!pip install regex\n",
    "import regex\n"
   ]
  },
  {
   "cell_type": "code",
   "execution_count": 49,
   "id": "bb0d5fa4-5398-4040-ad5d-90790c1301ba",
   "metadata": {},
   "outputs": [
    {
     "data": {
      "text/plain": [
       "['मुझे', 'किताबें', 'पढ़ना', 'बहुत', 'पसंद', 'है']"
      ]
     },
     "execution_count": 49,
     "metadata": {},
     "output_type": "execute_result"
    }
   ],
   "source": [
    "pattern = regex.compile(\"\\w+\")\n",
    "\n",
    "pattern.findall(txt)\n"
   ]
  },
  {
   "cell_type": "markdown",
   "id": "0c4d7401-e8b1-4241-a603-6d169934726d",
   "metadata": {},
   "source": [
    "### 5. re.LOCALE or re.L\n",
    "A locale is a set of environmental variables that defines the language, country, and character encoding settings (or any other special variant preferences) for your applications.\n",
    "\n",
    "This flag will make the word pattern {\\w, \\W} and boundary pattern {\\b, \\B}, dependent on the current locale.\n",
    "\n",
    "The use of this flag is discouraged in Python 3 as the locale mechanism is very unreliable, it only handles one “culture” at a time, and it only works with 8-bit locales. Unicode matching is already enabled by default in Python 3 for Unicode (str) patterns, and it is able to handle different locales/languages."
   ]
  },
  {
   "cell_type": "markdown",
   "id": "d9c61056-dcbc-43d2-a0ae-9b928270d28b",
   "metadata": {},
   "source": [
    "### 6. re.ASCII or re.A\n",
    "This flag will make the word pattern {\\w, \\W} and boundary pattern {\\b, \\B} perform ASCII-only matching, i.e. only A-Z, a-z, 0-9 will be considered alphanumeric characters.\n",
    "\n",
    "Let us see an example below:"
   ]
  },
  {
   "cell_type": "code",
   "execution_count": 51,
   "id": "9d884386-af6c-4a02-a7ed-ef1d7d2117cc",
   "metadata": {},
   "outputs": [],
   "source": [
    "pattern = re.compile(\"\\w\")"
   ]
  },
  {
   "cell_type": "code",
   "execution_count": 53,
   "id": "aa5b5fe6-2d29-406b-81fa-68e6045024b5",
   "metadata": {},
   "outputs": [],
   "source": [
    "chars = ''.join(chr(i) for i in range(256))"
   ]
  },
  {
   "cell_type": "code",
   "execution_count": 54,
   "id": "794c3082-daba-4ab9-9000-962b252f7921",
   "metadata": {},
   "outputs": [
    {
     "name": "stdout",
     "output_type": "stream",
     "text": [
      "\u0000\u0001\u0002\u0003\u0004\u0005\u0006\t\n",
      "\u000e\u000f\u0010\u0011\u0012\u0013\u0014\u0015\u0016\u0017\u0018\u0019\u001a\u001b\u001c",
      "\u001d",
      "\u001e",
      "\u001f !\"#$%&'()*+,-./0123456789:;<=>?@ABCDEFGHIJKLMNOPQRSTUVWXYZ[\\]^_`abcdefghijklmnopqrstuvwxyz{|}~",
      " ¡¢£¤¥¦§¨©ª«¬­®¯°±²³´µ¶·¸¹º»¼½¾¿ÀÁÂÃÄÅÆÇÈÉÊËÌÍÎÏÐÑÒÓÔÕÖ×ØÙÚÛÜÝÞßàáâãäåæçèéêëìíîïðñòóôõö÷øùúûüýþÿ\n"
     ]
    }
   ],
   "source": [
    "print(chars)"
   ]
  },
  {
   "cell_type": "code",
   "execution_count": 55,
   "id": "b5afc343-f2d6-4933-b07a-5a3950e0b630",
   "metadata": {},
   "outputs": [
    {
     "name": "stdout",
     "output_type": "stream",
     "text": [
      "\u0000\u0001\u0002\u0003\u0004\u0005\u0006\t\n",
      "\u000e\u000f\u0010\u0011\u0012\u0013\u0014\u0015\u0016\u0017\u0018\u0019\u001a\u001b\u001c",
      "\u001d",
      "\u001e",
      "\u001f !\"#$%&'()*+,-./\u001b[43m\u001b[1m0\u001b[0m\u001b[43m\u001b[1m1\u001b[0m\u001b[43m\u001b[1m2\u001b[0m\u001b[43m\u001b[1m3\u001b[0m\u001b[43m\u001b[1m4\u001b[0m\u001b[43m\u001b[1m5\u001b[0m\u001b[43m\u001b[1m6\u001b[0m\u001b[43m\u001b[1m7\u001b[0m\u001b[43m\u001b[1m8\u001b[0m\u001b[43m\u001b[1m9\u001b[0m:;<=>?@\u001b[43m\u001b[1mA\u001b[0m\u001b[43m\u001b[1mB\u001b[0m\u001b[43m\u001b[1mC\u001b[0m\u001b[43m\u001b[1mD\u001b[0m\u001b[43m\u001b[1mE\u001b[0m\u001b[43m\u001b[1mF\u001b[0m\u001b[43m\u001b[1mG\u001b[0m\u001b[43m\u001b[1mH\u001b[0m\u001b[43m\u001b[1mI\u001b[0m\u001b[43m\u001b[1mJ\u001b[0m\u001b[43m\u001b[1mK\u001b[0m\u001b[43m\u001b[1mL\u001b[0m\u001b[43m\u001b[1mM\u001b[0m\u001b[43m\u001b[1mN\u001b[0m\u001b[43m\u001b[1mO\u001b[0m\u001b[43m\u001b[1mP\u001b[0m\u001b[43m\u001b[1mQ\u001b[0m\u001b[43m\u001b[1mR\u001b[0m\u001b[43m\u001b[1mS\u001b[0m\u001b[43m\u001b[1mT\u001b[0m\u001b[43m\u001b[1mU\u001b[0m\u001b[43m\u001b[1mV\u001b[0m\u001b[43m\u001b[1mW\u001b[0m\u001b[43m\u001b[1mX\u001b[0m\u001b[43m\u001b[1mY\u001b[0m\u001b[43m\u001b[1mZ\u001b[0m[\\]^\u001b[43m\u001b[1m_\u001b[0m`\u001b[43m\u001b[1ma\u001b[0m\u001b[43m\u001b[1mb\u001b[0m\u001b[43m\u001b[1mc\u001b[0m\u001b[43m\u001b[1md\u001b[0m\u001b[43m\u001b[1me\u001b[0m\u001b[43m\u001b[1mf\u001b[0m\u001b[43m\u001b[1mg\u001b[0m\u001b[43m\u001b[1mh\u001b[0m\u001b[43m\u001b[1mi\u001b[0m\u001b[43m\u001b[1mj\u001b[0m\u001b[43m\u001b[1mk\u001b[0m\u001b[43m\u001b[1ml\u001b[0m\u001b[43m\u001b[1mm\u001b[0m\u001b[43m\u001b[1mn\u001b[0m\u001b[43m\u001b[1mo\u001b[0m\u001b[43m\u001b[1mp\u001b[0m\u001b[43m\u001b[1mq\u001b[0m\u001b[43m\u001b[1mr\u001b[0m\u001b[43m\u001b[1ms\u001b[0m\u001b[43m\u001b[1mt\u001b[0m\u001b[43m\u001b[1mu\u001b[0m\u001b[43m\u001b[1mv\u001b[0m\u001b[43m\u001b[1mw\u001b[0m\u001b[43m\u001b[1mx\u001b[0m\u001b[43m\u001b[1my\u001b[0m\u001b[43m\u001b[1mz\u001b[0m{|}~",
      " ¡¢£¤¥¦§¨©\u001b[43m\u001b[1mª\u001b[0m«¬­®¯°±\u001b[43m\u001b[1m²\u001b[0m\u001b[43m\u001b[1m³\u001b[0m´\u001b[43m\u001b[1mµ\u001b[0m¶·¸\u001b[43m\u001b[1m¹\u001b[0m\u001b[43m\u001b[1mº\u001b[0m»\u001b[43m\u001b[1m¼\u001b[0m\u001b[43m\u001b[1m½\u001b[0m\u001b[43m\u001b[1m¾\u001b[0m¿\u001b[43m\u001b[1mÀ\u001b[0m\u001b[43m\u001b[1mÁ\u001b[0m\u001b[43m\u001b[1mÂ\u001b[0m\u001b[43m\u001b[1mÃ\u001b[0m\u001b[43m\u001b[1mÄ\u001b[0m\u001b[43m\u001b[1mÅ\u001b[0m\u001b[43m\u001b[1mÆ\u001b[0m\u001b[43m\u001b[1mÇ\u001b[0m\u001b[43m\u001b[1mÈ\u001b[0m\u001b[43m\u001b[1mÉ\u001b[0m\u001b[43m\u001b[1mÊ\u001b[0m\u001b[43m\u001b[1mË\u001b[0m\u001b[43m\u001b[1mÌ\u001b[0m\u001b[43m\u001b[1mÍ\u001b[0m\u001b[43m\u001b[1mÎ\u001b[0m\u001b[43m\u001b[1mÏ\u001b[0m\u001b[43m\u001b[1mÐ\u001b[0m\u001b[43m\u001b[1mÑ\u001b[0m\u001b[43m\u001b[1mÒ\u001b[0m\u001b[43m\u001b[1mÓ\u001b[0m\u001b[43m\u001b[1mÔ\u001b[0m\u001b[43m\u001b[1mÕ\u001b[0m\u001b[43m\u001b[1mÖ\u001b[0m×\u001b[43m\u001b[1mØ\u001b[0m\u001b[43m\u001b[1mÙ\u001b[0m\u001b[43m\u001b[1mÚ\u001b[0m\u001b[43m\u001b[1mÛ\u001b[0m\u001b[43m\u001b[1mÜ\u001b[0m\u001b[43m\u001b[1mÝ\u001b[0m\u001b[43m\u001b[1mÞ\u001b[0m\u001b[43m\u001b[1mß\u001b[0m\u001b[43m\u001b[1mà\u001b[0m\u001b[43m\u001b[1má\u001b[0m\u001b[43m\u001b[1mâ\u001b[0m\u001b[43m\u001b[1mã\u001b[0m\u001b[43m\u001b[1mä\u001b[0m\u001b[43m\u001b[1må\u001b[0m\u001b[43m\u001b[1mæ\u001b[0m\u001b[43m\u001b[1mç\u001b[0m\u001b[43m\u001b[1mè\u001b[0m\u001b[43m\u001b[1mé\u001b[0m\u001b[43m\u001b[1mê\u001b[0m\u001b[43m\u001b[1më\u001b[0m\u001b[43m\u001b[1mì\u001b[0m\u001b[43m\u001b[1mí\u001b[0m\u001b[43m\u001b[1mî\u001b[0m\u001b[43m\u001b[1mï\u001b[0m\u001b[43m\u001b[1mð\u001b[0m\u001b[43m\u001b[1mñ\u001b[0m\u001b[43m\u001b[1mò\u001b[0m\u001b[43m\u001b[1mó\u001b[0m\u001b[43m\u001b[1mô\u001b[0m\u001b[43m\u001b[1mõ\u001b[0m\u001b[43m\u001b[1mö\u001b[0m÷\u001b[43m\u001b[1mø\u001b[0m\u001b[43m\u001b[1mù\u001b[0m\u001b[43m\u001b[1mú\u001b[0m\u001b[43m\u001b[1mû\u001b[0m\u001b[43m\u001b[1mü\u001b[0m\u001b[43m\u001b[1mý\u001b[0m\u001b[43m\u001b[1mþ\u001b[0m\u001b[43m\u001b[1mÿ\u001b[0m\n"
     ]
    }
   ],
   "source": [
    "highlight_regex_matches(pattern,chars)"
   ]
  },
  {
   "cell_type": "raw",
   "id": "1162a2de-c791-49b2-b2f7-6c463e9c9bc7",
   "metadata": {},
   "source": [
    "here we can see the function highlights the thins otherthan alphanumeric value\n",
    "thats only because of re.unicode we are using "
   ]
  },
  {
   "cell_type": "code",
   "execution_count": 56,
   "id": "56b05cc1-26ea-4575-b1ee-331be6931c44",
   "metadata": {},
   "outputs": [
    {
     "name": "stdout",
     "output_type": "stream",
     "text": [
      "\u0000\u0001\u0002\u0003\u0004\u0005\u0006\t\n",
      "\u000e\u000f\u0010\u0011\u0012\u0013\u0014\u0015\u0016\u0017\u0018\u0019\u001a\u001b\u001c",
      "\u001d",
      "\u001e",
      "\u001f !\"#$%&'()*+,-./\u001b[43m\u001b[1m0\u001b[0m\u001b[43m\u001b[1m1\u001b[0m\u001b[43m\u001b[1m2\u001b[0m\u001b[43m\u001b[1m3\u001b[0m\u001b[43m\u001b[1m4\u001b[0m\u001b[43m\u001b[1m5\u001b[0m\u001b[43m\u001b[1m6\u001b[0m\u001b[43m\u001b[1m7\u001b[0m\u001b[43m\u001b[1m8\u001b[0m\u001b[43m\u001b[1m9\u001b[0m:;<=>?@\u001b[43m\u001b[1mA\u001b[0m\u001b[43m\u001b[1mB\u001b[0m\u001b[43m\u001b[1mC\u001b[0m\u001b[43m\u001b[1mD\u001b[0m\u001b[43m\u001b[1mE\u001b[0m\u001b[43m\u001b[1mF\u001b[0m\u001b[43m\u001b[1mG\u001b[0m\u001b[43m\u001b[1mH\u001b[0m\u001b[43m\u001b[1mI\u001b[0m\u001b[43m\u001b[1mJ\u001b[0m\u001b[43m\u001b[1mK\u001b[0m\u001b[43m\u001b[1mL\u001b[0m\u001b[43m\u001b[1mM\u001b[0m\u001b[43m\u001b[1mN\u001b[0m\u001b[43m\u001b[1mO\u001b[0m\u001b[43m\u001b[1mP\u001b[0m\u001b[43m\u001b[1mQ\u001b[0m\u001b[43m\u001b[1mR\u001b[0m\u001b[43m\u001b[1mS\u001b[0m\u001b[43m\u001b[1mT\u001b[0m\u001b[43m\u001b[1mU\u001b[0m\u001b[43m\u001b[1mV\u001b[0m\u001b[43m\u001b[1mW\u001b[0m\u001b[43m\u001b[1mX\u001b[0m\u001b[43m\u001b[1mY\u001b[0m\u001b[43m\u001b[1mZ\u001b[0m[\\]^\u001b[43m\u001b[1m_\u001b[0m`\u001b[43m\u001b[1ma\u001b[0m\u001b[43m\u001b[1mb\u001b[0m\u001b[43m\u001b[1mc\u001b[0m\u001b[43m\u001b[1md\u001b[0m\u001b[43m\u001b[1me\u001b[0m\u001b[43m\u001b[1mf\u001b[0m\u001b[43m\u001b[1mg\u001b[0m\u001b[43m\u001b[1mh\u001b[0m\u001b[43m\u001b[1mi\u001b[0m\u001b[43m\u001b[1mj\u001b[0m\u001b[43m\u001b[1mk\u001b[0m\u001b[43m\u001b[1ml\u001b[0m\u001b[43m\u001b[1mm\u001b[0m\u001b[43m\u001b[1mn\u001b[0m\u001b[43m\u001b[1mo\u001b[0m\u001b[43m\u001b[1mp\u001b[0m\u001b[43m\u001b[1mq\u001b[0m\u001b[43m\u001b[1mr\u001b[0m\u001b[43m\u001b[1ms\u001b[0m\u001b[43m\u001b[1mt\u001b[0m\u001b[43m\u001b[1mu\u001b[0m\u001b[43m\u001b[1mv\u001b[0m\u001b[43m\u001b[1mw\u001b[0m\u001b[43m\u001b[1mx\u001b[0m\u001b[43m\u001b[1my\u001b[0m\u001b[43m\u001b[1mz\u001b[0m{|}~",
      " ¡¢£¤¥¦§¨©ª«¬­®¯°±²³´µ¶·¸¹º»¼½¾¿ÀÁÂÃÄÅÆÇÈÉÊËÌÍÎÏÐÑÒÓÔÕÖ×ØÙÚÛÜÝÞßàáâãäåæçèéêëìíîïðñòóôõö÷øùúûüýþÿ\n"
     ]
    }
   ],
   "source": [
    "pattern = re.compile(\"\\w\",flags=re.A)\n",
    "\n",
    "highlight_regex_matches(pattern,chars)"
   ]
  },
  {
   "cell_type": "markdown",
   "id": "a79ac7e7-5f9e-4f25-89f4-16b6f270f921",
   "metadata": {
    "tags": []
   },
   "source": [
    "### 7.re.VERBOSE OR re.X\n",
    "\n",
    "This flag changes the regex syntax.to allow you to add annotations in regex\n",
    "\n",
    "* whitespace within the pattern is ignored ,except when in a character class or proceded by an unescaped backslash.\n",
    "\n",
    "* when a line contains a # neither in a character class or proceded by an unescaped backslash all characters from the letfmost such # through the end of the line are ignored"
   ]
  },
  {
   "cell_type": "code",
   "execution_count": 59,
   "id": "92f464bb-94d4-4e76-8b0c-7481a6307e7b",
   "metadata": {},
   "outputs": [],
   "source": [
    "txt = \"\"\"this is a sample text q3142\"\"\""
   ]
  },
  {
   "cell_type": "code",
   "execution_count": 60,
   "id": "8f38fcac-69f6-4881-babf-4d375656f94a",
   "metadata": {},
   "outputs": [],
   "source": [
    "pattern = re.compile(\"\\w + # this is a comment\",flags=re.X)"
   ]
  },
  {
   "cell_type": "code",
   "execution_count": 61,
   "id": "5edbf090-38c6-43c0-ad1c-df8f3d230c7f",
   "metadata": {},
   "outputs": [
    {
     "data": {
      "text/plain": [
       "re.compile(r'\\w + # this is a comment', re.UNICODE|re.VERBOSE)"
      ]
     },
     "execution_count": 61,
     "metadata": {},
     "output_type": "execute_result"
    }
   ],
   "source": [
    "pattern"
   ]
  },
  {
   "cell_type": "code",
   "execution_count": 62,
   "id": "5941e39a-09f2-4d0e-a8c2-3a0696371a85",
   "metadata": {},
   "outputs": [
    {
     "data": {
      "text/plain": [
       "['this', 'is', 'a', 'sample', 'text', 'q3142']"
      ]
     },
     "execution_count": 62,
     "metadata": {},
     "output_type": "execute_result"
    }
   ],
   "source": [
    "pattern.findall(txt)"
   ]
  },
  {
   "cell_type": "markdown",
   "id": "4aa028bb-d3c1-4adf-b572-491afd6bd248",
   "metadata": {},
   "source": [
    "### 8.re.DEBUG\n",
    "\n",
    "This flag when set ,gives some information about the compilation pattern"
   ]
  },
  {
   "cell_type": "code",
   "execution_count": null,
   "id": "d15bb5e1-191d-4487-9bc1-11c9277e5b87",
   "metadata": {},
   "outputs": [],
   "source": []
  }
 ],
 "metadata": {
  "kernelspec": {
   "display_name": "Python 3 (ipykernel)",
   "language": "python",
   "name": "python3"
  },
  "language_info": {
   "codemirror_mode": {
    "name": "ipython",
    "version": 3
   },
   "file_extension": ".py",
   "mimetype": "text/x-python",
   "name": "python",
   "nbconvert_exporter": "python",
   "pygments_lexer": "ipython3",
   "version": "3.9.16"
  }
 },
 "nbformat": 4,
 "nbformat_minor": 5
}

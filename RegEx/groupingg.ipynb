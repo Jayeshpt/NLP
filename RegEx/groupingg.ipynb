{
 "cells": [
  {
   "cell_type": "markdown",
   "id": "bc1acea3-1b91-40ff-ad32-510ee21ef119",
   "metadata": {},
   "source": [
    "### Grouping\n",
    "Frequently you need to obtain more information than just whether the regex pattern matched or not.\n",
    "\n",
    "By placing part of a regular expression inside round brackets or parentheses (, ), you can group that part of the regex pattern together.\n",
    "\n",
    "### Applications of grouping:\n",
    "##### 1. apply a quantifier to the entire group.\n",
    "For example, (ab)+ will match one or more repetitions of ab."
   ]
  },
  {
   "cell_type": "code",
   "execution_count": 2,
   "id": "65bc9bca-6bea-409c-8c43-bdb1e616c437",
   "metadata": {},
   "outputs": [],
   "source": [
    "import re\n",
    "\n",
    "from colorama import Back, Style\n",
    "\n",
    "\n",
    "def highlight_regex_matches(pattern, text, print_output=True):\n",
    "\toutput = text\n",
    "\tlen_inc = 0\n",
    "\tfor match in pattern.finditer(text):\n",
    "\t\tstart, end = match.start() + len_inc, match.end() + len_inc\n",
    "\t\toutput = output[:start] + Back.YELLOW + Style.BRIGHT + output[start:end] + Style.RESET_ALL + output[end:]\n",
    "\t\tlen_inc = len(output) - len(text)  \n",
    "\n",
    "\tif print_output:\n",
    "\t\tprint(output)\n",
    "\telse:\n",
    "\t\treturn output"
   ]
  },
  {
   "cell_type": "code",
   "execution_count": 3,
   "id": "635422ee-a4c7-4e81-bf18-7880fc5d4939",
   "metadata": {},
   "outputs": [],
   "source": [
    "txt = \"abbbbbbabbbb\""
   ]
  },
  {
   "cell_type": "code",
   "execution_count": 7,
   "id": "eebd1801-ebd1-4b6f-8446-d01c340b0da3",
   "metadata": {},
   "outputs": [],
   "source": [
    "pattern1 = re.compile(\"ab+\")\n",
    "pattern2 = re.compile(\"(abb)+\")"
   ]
  },
  {
   "cell_type": "code",
   "execution_count": 8,
   "id": "902b6e76-56a4-4d65-8ef1-8be9e2885775",
   "metadata": {},
   "outputs": [
    {
     "name": "stdout",
     "output_type": "stream",
     "text": [
      "\u001b[43m\u001b[1mabbbbbb\u001b[0m\u001b[43m\u001b[1mabbbb\u001b[0m\n"
     ]
    }
   ],
   "source": [
    "highlight_regex_matches(pattern1,txt)"
   ]
  },
  {
   "cell_type": "code",
   "execution_count": 9,
   "id": "d3ec2f27-130d-4638-b8fc-79675c503404",
   "metadata": {},
   "outputs": [
    {
     "name": "stdout",
     "output_type": "stream",
     "text": [
      "\u001b[43m\u001b[1mabb\u001b[0mbbbb\u001b[43m\u001b[1mabb\u001b[0mbb\n"
     ]
    }
   ],
   "source": [
    "highlight_regex_matches(pattern2,txt)"
   ]
  },
  {
   "cell_type": "markdown",
   "id": "746aa7ca-35e6-42b2-bd44-41afcf538eea",
   "metadata": {},
   "source": [
    "### 2. restrict alternation to part of the regex.\n",
    "For example, my name is ram|sam will match my name is ram and sam whereas my name is (ram|sam) will match my name is ram and my name is sam."
   ]
  },
  {
   "cell_type": "code",
   "execution_count": 14,
   "id": "472d563f-2ec8-470b-ba0b-c61f582829fb",
   "metadata": {},
   "outputs": [],
   "source": [
    "txt = \"\"\"\n",
    "my name is ram\n",
    "my name is sam\n",
    "\"\"\""
   ]
  },
  {
   "cell_type": "code",
   "execution_count": 15,
   "id": "320e3d42-4498-4326-b2b3-e72861c77cdc",
   "metadata": {},
   "outputs": [],
   "source": [
    "pattern1 = re.compile(\"my name is ran|sam\")\n",
    "pattern2= re.compile(\"my name is (ran|sam)\")\n"
   ]
  },
  {
   "cell_type": "code",
   "execution_count": 16,
   "id": "6f6b0e4c-cd8d-4f2f-8c1f-b9abca81b69f",
   "metadata": {},
   "outputs": [
    {
     "name": "stdout",
     "output_type": "stream",
     "text": [
      "\n",
      "my name is ram\n",
      "my name is \u001b[43m\u001b[1msam\u001b[0m\n",
      "\n"
     ]
    }
   ],
   "source": [
    "highlight_regex_matches(pattern1,txt)"
   ]
  },
  {
   "cell_type": "code",
   "execution_count": 17,
   "id": "9f2dec88-6287-40f5-99ab-214d8114bd05",
   "metadata": {},
   "outputs": [
    {
     "name": "stdout",
     "output_type": "stream",
     "text": [
      "\n",
      "my name is ram\n",
      "my name is \u001b[43m\u001b[1msam\u001b[0m\n",
      "\n"
     ]
    }
   ],
   "source": [
    "highlight_regex_matches(pattern1,txt)"
   ]
  },
  {
   "cell_type": "markdown",
   "id": "20b93b9d-2785-4a26-a743-db1a1e0ae869",
   "metadata": {},
   "source": [
    "### 3. capture the text matched by group.\n",
    "\n",
    "* Groups indicated with (, ) also capture the starting and ending index of the text that they match.\n",
    "\n",
    "* Groups can be retrieved by passing an argument to group(), start(), end(), and span() of the Match object.\n",
    "\n",
    "* Groups are numbered starting with 0.\n",
    "\n",
    "* Group 0 is always present; it captures the whole regex pattern, so all Match object methods have group 0 as their default argument.\n",
    "\n",
    "Consider an example where we want to parse a date and determine day, month and year."
   ]
  },
  {
   "cell_type": "code",
   "execution_count": 28,
   "id": "73b85275-8fbc-499f-ad6d-fe02368fdb9c",
   "metadata": {},
   "outputs": [],
   "source": [
    "text = \"12/02/2012\""
   ]
  },
  {
   "cell_type": "code",
   "execution_count": 29,
   "id": "f22a469a-583c-4a68-bd06-9c8479d2ff26",
   "metadata": {},
   "outputs": [],
   "source": [
    "pattern = re.compile(\"(\\d{2})\\/(\\d{2})\\/(\\d{4})\")"
   ]
  },
  {
   "cell_type": "code",
   "execution_count": 34,
   "id": "c786f6db-fcbf-434a-b3b3-16627563dc10",
   "metadata": {},
   "outputs": [],
   "source": [
    "match = pattern.match(text)"
   ]
  },
  {
   "cell_type": "code",
   "execution_count": 35,
   "id": "d898043f-c044-4dcc-8663-560ec04dc3a0",
   "metadata": {},
   "outputs": [
    {
     "name": "stdout",
     "output_type": "stream",
     "text": [
      "\u001b[43m\u001b[1m12/02/2012\u001b[0m\n"
     ]
    }
   ],
   "source": [
    "highlight_regex_matches(pattern,text)"
   ]
  },
  {
   "cell_type": "code",
   "execution_count": 38,
   "id": "7c7d44d8-c468-4bc1-b7f6-2ac89fd81cf7",
   "metadata": {},
   "outputs": [
    {
     "data": {
      "text/plain": [
       "'12/02/2012'"
      ]
     },
     "execution_count": 38,
     "metadata": {},
     "output_type": "execute_result"
    }
   ],
   "source": [
    "match.group(0)"
   ]
  },
  {
   "cell_type": "code",
   "execution_count": 37,
   "id": "b6f85149-7aec-4d4e-8497-a45ae6b44425",
   "metadata": {},
   "outputs": [
    {
     "data": {
      "text/plain": [
       "'02'"
      ]
     },
     "execution_count": 37,
     "metadata": {},
     "output_type": "execute_result"
    }
   ],
   "source": [
    "match.group(2)"
   ]
  },
  {
   "cell_type": "code",
   "execution_count": 39,
   "id": "09f3c071-fe86-4d58-a9a8-ea95bbebabfd",
   "metadata": {},
   "outputs": [
    {
     "data": {
      "text/plain": [
       "'2012'"
      ]
     },
     "execution_count": 39,
     "metadata": {},
     "output_type": "execute_result"
    }
   ],
   "source": [
    "match.group(3)"
   ]
  },
  {
   "cell_type": "code",
   "execution_count": 41,
   "id": "7296301c-f1e8-4f83-87c7-56af0eafe419",
   "metadata": {},
   "outputs": [],
   "source": [
    "day,month,year = match.groups()"
   ]
  },
  {
   "cell_type": "code",
   "execution_count": 42,
   "id": "1e2ec7ec-9696-40be-b55a-9dcead8273f4",
   "metadata": {},
   "outputs": [
    {
     "data": {
      "text/plain": [
       "'12'"
      ]
     },
     "execution_count": 42,
     "metadata": {},
     "output_type": "execute_result"
    }
   ],
   "source": [
    "day"
   ]
  },
  {
   "cell_type": "code",
   "execution_count": 44,
   "id": "2eeb5376-3be3-48cc-973f-e9d42e9d652a",
   "metadata": {},
   "outputs": [
    {
     "data": {
      "text/plain": [
       "('12', '02', '2012')"
      ]
     },
     "execution_count": 44,
     "metadata": {},
     "output_type": "execute_result"
    }
   ],
   "source": [
    "day,month,year"
   ]
  },
  {
   "cell_type": "raw",
   "id": "36cc2175-4909-42c6-abc5-579f83a0dbef",
   "metadata": {},
   "source": [
    "Let's try one more example of group capturing.\n",
    "\n",
    "In the given text, find all the patterns with Name: <some-name> and extract <some-name>."
   ]
  },
  {
   "cell_type": "code",
   "execution_count": 45,
   "id": "86d30c7a-83b8-4ced-8f73-4dfdda22733c",
   "metadata": {},
   "outputs": [],
   "source": [
    "txt = \"\"\"\n",
    "Name: Nikhil\n",
    "Age: 0\n",
    "Roll No.: 15\n",
    "Grade: S\n",
    "\n",
    "Name: Ravi\n",
    "Age: -1\n",
    "Roll No.: 123\n",
    "Grade: K\n",
    "\n",
    "Name: Ram\n",
    "Age: N/A\n",
    "Roll No.: 1\n",
    "Grade: G\n",
    "\"\"\""
   ]
  },
  {
   "cell_type": "code",
   "execution_count": 46,
   "id": "30e06336-d235-43e9-8393-f67612934c5e",
   "metadata": {},
   "outputs": [],
   "source": [
    "pattern = re.compile(\"Name: (.+)\\n\")\n"
   ]
  },
  {
   "cell_type": "code",
   "execution_count": 47,
   "id": "0fa94848-f1df-4380-b42c-2ba925f7cebc",
   "metadata": {},
   "outputs": [
    {
     "data": {
      "text/plain": [
       "['Nikhil', 'Ravi', 'Ram']"
      ]
     },
     "execution_count": 47,
     "metadata": {},
     "output_type": "execute_result"
    }
   ],
   "source": [
    "pattern.findall(txt)"
   ]
  },
  {
   "cell_type": "code",
   "execution_count": null,
   "id": "3e0eb013-0912-4ea4-8466-7920358e7d28",
   "metadata": {},
   "outputs": [],
   "source": []
  }
 ],
 "metadata": {
  "kernelspec": {
   "display_name": "Python 3 (ipykernel)",
   "language": "python",
   "name": "python3"
  },
  "language_info": {
   "codemirror_mode": {
    "name": "ipython",
    "version": 3
   },
   "file_extension": ".py",
   "mimetype": "text/x-python",
   "name": "python",
   "nbconvert_exporter": "python",
   "pygments_lexer": "ipython3",
   "version": "3.9.16"
  }
 },
 "nbformat": 4,
 "nbformat_minor": 5
}

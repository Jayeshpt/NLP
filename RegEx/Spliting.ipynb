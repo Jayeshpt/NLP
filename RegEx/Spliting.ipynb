{
 "cells": [
  {
   "cell_type": "markdown",
   "id": "277d5d3c-2770-40c6-a421-e75af4765244",
   "metadata": {},
   "source": [
    "# Split using RegEx\n",
    "In almost every language, you can find the split operation in strings. The big difference is that the split in the re module is more powerful due to which you can use a regex. So, in this case, the string is split based on the matches of the pattern.\n",
    "\n",
    "### split(string[, maxsplit])\n",
    "* Every pattern object has a split() method which splits the input string at all positions where a match is found.\n",
    "\n",
    "* maxsplit is an optional argument (default value 0) which specifies the max no. of splits that can take place. 0 value means there is no limit on the no. of splits.\n",
    "\n",
    "* Pattern match is not included in any of the substrings obtained after splitting.\n",
    "\n",
    "#### Example 1\n",
    "Let us try to split a string to get individual lines in it."
   ]
  },
  {
   "cell_type": "code",
   "execution_count": 1,
   "id": "8f3336fe-e64c-4e68-91cd-853781751e67",
   "metadata": {},
   "outputs": [
    {
     "data": {
      "text/plain": [
       "['Beautiful is better than ugly.',\n",
       " 'Explicit is better than implicit.',\n",
       " 'Simple is better than complex.',\n",
       " 'Complex is better than complicated.']"
      ]
     },
     "execution_count": 1,
     "metadata": {},
     "output_type": "execute_result"
    }
   ],
   "source": [
    "import re\n",
    "\n",
    "txt = \"\"\"Beautiful is better than ugly.\n",
    "Explicit is better than implicit.\n",
    "Simple is better than complex.\n",
    "Complex is better than complicated.\"\"\"\n",
    "\n",
    "pattern = re.compile(\"\\n\")\n",
    "\n",
    "pattern.split(txt)"
   ]
  },
  {
   "cell_type": "markdown",
   "id": "3f14f275-458e-48b6-a9f1-3a24273c4239",
   "metadata": {},
   "source": [
    "#### Example 2\n",
    "Let us try one more example in which we want to get all the words in the given text."
   ]
  },
  {
   "cell_type": "code",
   "execution_count": 3,
   "id": "655a7053-75e0-420d-ba58-79643f80d29f",
   "metadata": {},
   "outputs": [
    {
     "data": {
      "text/plain": [
       "['Beautiful',\n",
       " 'is',\n",
       " 'better',\n",
       " 'than',\n",
       " 'ugly',\n",
       " '',\n",
       " 'Explicit',\n",
       " 'is',\n",
       " 'better',\n",
       " 'than',\n",
       " 'implicit',\n",
       " '',\n",
       " 'Simple',\n",
       " 'is',\n",
       " 'better',\n",
       " 'than',\n",
       " 'complex',\n",
       " '',\n",
       " 'Complex',\n",
       " 'is',\n",
       " 'better',\n",
       " 'than',\n",
       " 'complicated',\n",
       " '']"
      ]
     },
     "execution_count": 3,
     "metadata": {},
     "output_type": "execute_result"
    }
   ],
   "source": [
    "pattern = re.compile(\"\\W\")\n",
    "\n",
    "pattern.split(txt)"
   ]
  },
  {
   "cell_type": "markdown",
   "id": "0aa37efe-ca36-46a6-a119-0ba1f2530b4f",
   "metadata": {},
   "source": [
    "#### Example 3\n",
    "What is we want only first 3 words? We need to split only 3 times in this case, which can be done by setting the value of maxsplit as 3."
   ]
  },
  {
   "cell_type": "code",
   "execution_count": 4,
   "id": "fbafa594-6da3-4290-9b43-b8980dc7f893",
   "metadata": {},
   "outputs": [
    {
     "data": {
      "text/plain": [
       "['Beautiful',\n",
       " 'is',\n",
       " 'better',\n",
       " 'than',\n",
       " 'ugly.\\nExplicit is better than implicit.\\nSimple is better than complex.\\nComplex is better than complicated.']"
      ]
     },
     "execution_count": 4,
     "metadata": {},
     "output_type": "execute_result"
    }
   ],
   "source": [
    "pattern.split(txt,maxsplit=4)"
   ]
  },
  {
   "cell_type": "code",
   "execution_count": null,
   "id": "e5fa658f-53b8-4c85-aa7d-f3ca2d5585a5",
   "metadata": {},
   "outputs": [],
   "source": []
  }
 ],
 "metadata": {
  "kernelspec": {
   "display_name": "Python 3 (ipykernel)",
   "language": "python",
   "name": "python3"
  },
  "language_info": {
   "codemirror_mode": {
    "name": "ipython",
    "version": 3
   },
   "file_extension": ".py",
   "mimetype": "text/x-python",
   "name": "python",
   "nbconvert_exporter": "python",
   "pygments_lexer": "ipython3",
   "version": "3.9.16"
  }
 },
 "nbformat": 4,
 "nbformat_minor": 5
}

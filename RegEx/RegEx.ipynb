{
 "cells": [
  {
   "cell_type": "code",
   "execution_count": 1,
   "id": "bcb452bf-5ca9-4182-934b-192dbdbcf306",
   "metadata": {},
   "outputs": [],
   "source": [
    "import re"
   ]
  },
  {
   "cell_type": "markdown",
   "id": "5f4cd3b1-27eb-4d79-aca3-1c6545c5706c",
   "metadata": {},
   "source": [
    "### 1. Compiling Regular Expressions\n",
    "Regular expressions are compiled into Pattern objects, which have methods for various operations such as searching for pattern matches or performing string substitutions.\n",
    "\n",
    "re.compile(pattern, flags=0)\n",
    "Compile a regular expression pattern, returning a pattern object.\n",
    "\n",
    "The regular expression is passed to re.compile() as a string.\n",
    "Regular expressions are handled as strings because regular expressions aren’t part of the core Python language, and no special syntax was created for expressing them.\n",
    "\n",
    "Regular expression patterns are compiled into a series of bytecodes which are then executed by a matching engine written in C."
   ]
  },
  {
   "cell_type": "code",
   "execution_count": 2,
   "id": "46c787e4-1b6c-4da2-8e54-8f4b144230d1",
   "metadata": {},
   "outputs": [
    {
     "data": {
      "text/plain": [
       "re.compile(r'hello', re.UNICODE)"
      ]
     },
     "execution_count": 2,
     "metadata": {},
     "output_type": "execute_result"
    }
   ],
   "source": [
    "pattern = re.compile(\"hello\")\n",
    "pattern"
   ]
  },
  {
   "cell_type": "markdown",
   "id": "c80b368b-df73-425b-a4af-8e0482062bbc",
   "metadata": {},
   "source": [
    "re.compile() also accepts an optional flags argument, used to enable various special features and syntax variations. More about flags\n",
    "\n",
    "In the example below, we use the flag re.I (short for re.IGNORECASE) to ignore letter case in the regex pattern."
   ]
  },
  {
   "cell_type": "code",
   "execution_count": 3,
   "id": "1b72ec39-250b-41a9-8fea-10e202c1c578",
   "metadata": {},
   "outputs": [
    {
     "data": {
      "text/plain": [
       "re.compile(r'hello', re.IGNORECASE|re.UNICODE)"
      ]
     },
     "execution_count": 3,
     "metadata": {},
     "output_type": "execute_result"
    }
   ],
   "source": [
    "pattern = re.compile(\"hello\",flags=re.I)\n",
    "\n",
    "pattern"
   ]
  },
  {
   "cell_type": "code",
   "execution_count": 4,
   "id": "07d876bd-52d3-4282-a9f8-20c1ddb92679",
   "metadata": {},
   "outputs": [],
   "source": [
    "# here flag=re.I helps to match hello word in different manner like(HELLO,Hello,etc..)"
   ]
  },
  {
   "cell_type": "markdown",
   "id": "91a38aa5-9518-4d42-843c-808f4ff0c131",
   "metadata": {
    "tags": []
   },
   "source": [
    "### 2. Performing Matches\n",
    "So, we have created a Pattern object representing a compiled regular expression using re.compile() method.\n",
    "\n",
    "Pattern objects have several methods and attributes.\n",
    "\n",
    "Here is the list of different methods used for performing matches:"
   ]
  },
  {
   "cell_type": "markdown",
   "id": "3018dc8f-04a0-4e19-8f2c-69e3435f397b",
   "metadata": {},
   "source": [
    "Method/Attribute\t     Purpose\n",
    "\n",
    "match()   :-   \tDetermine if the RE matches at the beginning of the string.\n",
    "\n",
    "search()  :-\t   Scan through a string, looking for any location where this RE matches.\n",
    "\n",
    "findall() :-\tFind all substrings where the RE matches, and returns them as a list.\n",
    "\n",
    "finditer() :-\tFind all substrings where the RE matches, and returns them as an iterator."
   ]
  },
  {
   "cell_type": "markdown",
   "id": "65027b0e-0adc-47ce-8d67-8d183ca39b75",
   "metadata": {
    "tags": []
   },
   "source": [
    "Let us go through them one by one:\n",
    "\n",
    "### 2.1 : match(string[, pos[, endpos]])\n",
    "\n",
    "* A match is checked only at the beginning (by default).\n",
    "\n",
    "* Checking starts from pos index of the string. (default is 0)\n",
    "\n",
    "* Checking is done until endpos index of string. endpos is set as a very large   integer (by default).\n",
    "\n",
    "* Returns None if no match found.\n",
    "\n",
    "* If a match is found, a Match object is returned, containing information about the match: where it starts and ends, the substring it matched, and more."
   ]
  },
  {
   "cell_type": "code",
   "execution_count": 5,
   "id": "5a41ee20-e3be-49cb-a7ad-a65e62d1a3f2",
   "metadata": {},
   "outputs": [],
   "source": [
    "pattern = re.compile(\"hello\")\n",
    "match = pattern.match(\"hello world hello\")"
   ]
  },
  {
   "cell_type": "code",
   "execution_count": 6,
   "id": "7a3c3f1d-39fa-4261-a3e3-1ddbe2110f35",
   "metadata": {},
   "outputs": [
    {
     "data": {
      "text/plain": [
       "(0, 5)"
      ]
     },
     "execution_count": 6,
     "metadata": {},
     "output_type": "execute_result"
    }
   ],
   "source": [
    "match.span()"
   ]
  },
  {
   "cell_type": "code",
   "execution_count": 7,
   "id": "1323390c-7e71-4519-8f93-f49de18f49a4",
   "metadata": {},
   "outputs": [],
   "source": [
    "pattern1 = re.compile(\"good moring\")\n",
    "match1 = pattern1.match(\"hi good moring\")\n"
   ]
  },
  {
   "cell_type": "code",
   "execution_count": 8,
   "id": "61cae79b-82fc-462a-aee6-a55bdb0b0c6b",
   "metadata": {},
   "outputs": [
    {
     "data": {
      "text/plain": [
       "True"
      ]
     },
     "execution_count": 8,
     "metadata": {},
     "output_type": "execute_result"
    }
   ],
   "source": [
    "match1 == None\n"
   ]
  },
  {
   "cell_type": "code",
   "execution_count": 9,
   "id": "ae90bd89-92d7-43eb-aa83-d6d8bd850fdc",
   "metadata": {},
   "outputs": [],
   "source": [
    "pattern2 = re.compile(\"good evening\")\n",
    "match2 = pattern2.match(\"hi good evening\",pos=3)"
   ]
  },
  {
   "cell_type": "code",
   "execution_count": 10,
   "id": "6a6b81f7-97d5-40fa-8b3a-b4ecaad606a2",
   "metadata": {},
   "outputs": [
    {
     "data": {
      "text/plain": [
       "(3, 15)"
      ]
     },
     "execution_count": 10,
     "metadata": {},
     "output_type": "execute_result"
    }
   ],
   "source": [
    "match2.span()"
   ]
  },
  {
   "cell_type": "code",
   "execution_count": 11,
   "id": "12f63d09-4549-459e-8868-38e404f28d75",
   "metadata": {},
   "outputs": [],
   "source": [
    "pattern3 = re.compile(\"good bye\")\n",
    "match3 = pattern3.match(\"good bye\",pos=3,endpos=9)"
   ]
  },
  {
   "cell_type": "markdown",
   "id": "be775a40-ad22-4830-87e4-ddf1c87b8e74",
   "metadata": {},
   "source": [
    "### search(string[, pos[, endpos]])\n",
    "\n",
    "* A match is checked throughtout the string.\n",
    "\n",
    "* Same behaviour of pos and endpos as the match() function.\n",
    "\n",
    "* Returns None if no match found.\n",
    "\n",
    "* If a match is found, a Match object is returned."
   ]
  },
  {
   "cell_type": "code",
   "execution_count": 12,
   "id": "0548e7f2-1a49-4c41-ab77-6eac7f23683a",
   "metadata": {},
   "outputs": [
    {
     "data": {
      "text/plain": [
       "<re.Match object; span=(4, 9), match='hello'>"
      ]
     },
     "execution_count": 12,
     "metadata": {},
     "output_type": "execute_result"
    }
   ],
   "source": [
    "pattern.search(\"say hello\")"
   ]
  },
  {
   "cell_type": "code",
   "execution_count": 13,
   "id": "9a244be9-18a1-49b1-a9b3-56c88c19c139",
   "metadata": {},
   "outputs": [
    {
     "data": {
      "text/plain": [
       "<re.Match object; span=(7, 15), match='good bye'>"
      ]
     },
     "execution_count": 13,
     "metadata": {},
     "output_type": "execute_result"
    }
   ],
   "source": [
    "pattern3.search(\"HI bye good bye,ok good bye\")"
   ]
  },
  {
   "cell_type": "code",
   "execution_count": 14,
   "id": "32122679-2f5a-445b-8818-0e2fd31efe5d",
   "metadata": {},
   "outputs": [
    {
     "data": {
      "text/plain": [
       "<re.Match object; span=(0, 12), match='good evening'>"
      ]
     },
     "execution_count": 14,
     "metadata": {},
     "output_type": "execute_result"
    }
   ],
   "source": [
    "pattern2.search(\"good evening,bye good evening\")"
   ]
  },
  {
   "cell_type": "markdown",
   "id": "30666bbf-7d77-452c-941b-05134a890659",
   "metadata": {},
   "source": [
    "### findall(string[, pos[, endpos]])\n",
    "* Finds all non-overlapping substrings where the match is found, and returns     them as a list.\n",
    "\n",
    "* same behaviour of pos and endpos as the match() and search() function."
   ]
  },
  {
   "cell_type": "code",
   "execution_count": 15,
   "id": "20efa9aa-68db-4aba-8a37-bd18d74733c3",
   "metadata": {},
   "outputs": [],
   "source": [
    "pattern_findall=pattern.findall(\"hi hello ,my dear friends hello\")"
   ]
  },
  {
   "cell_type": "code",
   "execution_count": 16,
   "id": "33da7c2c-759e-47a7-b838-b1fd17369d8c",
   "metadata": {},
   "outputs": [
    {
     "data": {
      "text/plain": [
       "['hello', 'hello']"
      ]
     },
     "execution_count": 16,
     "metadata": {},
     "output_type": "execute_result"
    }
   ],
   "source": [
    "pattern_findall"
   ]
  },
  {
   "cell_type": "code",
   "execution_count": 17,
   "id": "7a52da27-9873-40fd-bfa2-767c8bd5405d",
   "metadata": {},
   "outputs": [
    {
     "data": {
      "text/plain": [
       "2"
      ]
     },
     "execution_count": 17,
     "metadata": {},
     "output_type": "execute_result"
    }
   ],
   "source": [
    "len(pattern_findall)"
   ]
  },
  {
   "cell_type": "code",
   "execution_count": 18,
   "id": "8692f3d7-701c-4e32-a98b-13c8233ee6fb",
   "metadata": {},
   "outputs": [
    {
     "data": {
      "text/plain": [
       "['2', '2', '4']"
      ]
     },
     "execution_count": 18,
     "metadata": {},
     "output_type": "execute_result"
    }
   ],
   "source": [
    "pattern4 = re.compile('\\d')\n",
    "\n",
    "pattern4.findall(\"hi im jayesh 22 years old 4\")"
   ]
  },
  {
   "cell_type": "markdown",
   "id": "b7697316-481a-4fc4-a8df-d1ce955f1b03",
   "metadata": {},
   "source": [
    "### finditer(string[, pos[, endpos]])\n",
    "\n",
    "* Finds all non-overlapping substrings where the match is found, and returns     them as an iterator of the Match objects.\n",
    "\n",
    "* Same behaviour of pos and endpos as the match(), search() and findall()         function."
   ]
  },
  {
   "cell_type": "code",
   "execution_count": 19,
   "id": "97f09aac-7bee-4e89-bf8c-4e04c0548928",
   "metadata": {},
   "outputs": [],
   "source": [
    "pattern6 = re.compile(\"good\")\n",
    "\n",
    "match6 = pattern6.finditer(\"hi all im good ,i wish that you all are good,toys are very good\")"
   ]
  },
  {
   "cell_type": "code",
   "execution_count": 20,
   "id": "2434ddde-17bd-43eb-8e16-8aef30c7a554",
   "metadata": {},
   "outputs": [],
   "source": [
    "lenof=[]\n",
    "\n",
    "for i in match6:\n",
    "    lenof.append(i)\n",
    "    \n",
    "    \n",
    "    "
   ]
  },
  {
   "cell_type": "code",
   "execution_count": 21,
   "id": "d491f89b-7abe-42f8-bf29-1041ae1e0a1e",
   "metadata": {},
   "outputs": [
    {
     "name": "stdout",
     "output_type": "stream",
     "text": [
      "Number of iteration 3\n"
     ]
    }
   ],
   "source": [
    "print(\"Number of iteration\",len(lenof))"
   ]
  },
  {
   "cell_type": "code",
   "execution_count": 22,
   "id": "724c22eb-a1c7-4c62-b59f-7a9471421b8b",
   "metadata": {},
   "outputs": [
    {
     "data": {
      "text/plain": [
       "[<re.Match object; span=(10, 14), match='good'>,\n",
       " <re.Match object; span=(40, 44), match='good'>,\n",
       " <re.Match object; span=(59, 63), match='good'>]"
      ]
     },
     "execution_count": 22,
     "metadata": {},
     "output_type": "execute_result"
    }
   ],
   "source": [
    "lenof\n"
   ]
  },
  {
   "cell_type": "markdown",
   "id": "a5fdd25c-1860-40ea-bdab-960c143b80ff",
   "metadata": {},
   "source": [
    "### Note:\n",
    "It is not mandatory to create a Pattern object explicitly using re.compile() method in order to perform a regex operation.\n",
    "\n",
    "* You can direclty use the module level functions such as:\n",
    "\n",
    "* re.match(pattern, string, flags=0)\n",
    "\n",
    "* re.search(pattern, string, flags=0)\n",
    "\n",
    "* re.findall(pattern, string, flags=0)\n",
    "\n",
    "* re.finditer(pattern, string, flags=0)\n",
    "\n",
    "and so on.\n",
    "\n",
    "In a module level function, you can simply pass a #string as your #regex pattern as shown in the examples below."
   ]
  },
  {
   "cell_type": "code",
   "execution_count": 23,
   "id": "3c8f9c6b-b92f-45ad-bbce-083756d3b351",
   "metadata": {},
   "outputs": [
    {
     "data": {
      "text/plain": [
       "<re.Match object; span=(0, 5), match='hello'>"
      ]
     },
     "execution_count": 23,
     "metadata": {},
     "output_type": "execute_result"
    }
   ],
   "source": [
    "re.match(\"hello\",\"hello\")"
   ]
  },
  {
   "cell_type": "code",
   "execution_count": 24,
   "id": "3b7911e2-4e23-4867-8e11-67f87c35b8bc",
   "metadata": {},
   "outputs": [
    {
     "data": {
      "text/plain": [
       "<re.Match object; span=(6, 9), match='bye'>"
      ]
     },
     "execution_count": 24,
     "metadata": {},
     "output_type": "execute_result"
    }
   ],
   "source": [
    "re.search('bye',\"hi ok bye, good bye\")"
   ]
  },
  {
   "cell_type": "code",
   "execution_count": 25,
   "id": "f13a53f9-af71-40c5-8901-31e2acec62d1",
   "metadata": {},
   "outputs": [
    {
     "data": {
      "text/plain": [
       "['you', 'you']"
      ]
     },
     "execution_count": 25,
     "metadata": {},
     "output_type": "execute_result"
    }
   ],
   "source": [
    "re.findall('you',\"you are very good,you need to bring\")"
   ]
  },
  {
   "cell_type": "code",
   "execution_count": 26,
   "id": "828504cf-6d31-4de9-8c05-0ec838ad45c7",
   "metadata": {},
   "outputs": [
    {
     "data": {
      "text/plain": [
       "<callable_iterator at 0x28ca18ce1c0>"
      ]
     },
     "execution_count": 26,
     "metadata": {},
     "output_type": "execute_result"
    }
   ],
   "source": [
    "re.finditer('good','good boy ,good girl')"
   ]
  },
  {
   "cell_type": "code",
   "execution_count": 27,
   "id": "43b703e5-fa99-4860-9bea-9a9f1705c939",
   "metadata": {},
   "outputs": [
    {
     "data": {
      "text/plain": [
       "True"
      ]
     },
     "execution_count": 27,
     "metadata": {},
     "output_type": "execute_result"
    }
   ],
   "source": [
    "text = \" this is book costs $20\"\n",
    "\n",
    "pattern = re.compile(\"$20\")\n",
    "pattern.search(text) == None\n"
   ]
  },
  {
   "cell_type": "code",
   "execution_count": 28,
   "id": "603daee9-9da8-4036-ab9d-79b3e259c7e4",
   "metadata": {},
   "outputs": [
    {
     "data": {
      "text/plain": [
       "False"
      ]
     },
     "execution_count": 28,
     "metadata": {},
     "output_type": "execute_result"
    }
   ],
   "source": [
    "text = \"\"\" this is book costs $20\"\"\"\n",
    "\n",
    "pattern = re.compile(\"\\$20\")\n",
    "\n",
    "pattern.search(text) == None"
   ]
  },
  {
   "cell_type": "markdown",
   "id": "d7d5be28-6511-464c-9ca7-fe155a1c41eb",
   "metadata": {},
   "source": [
    "### The Backslash Plague\n",
    "Let's start with an example.\n",
    "\n",
    "Consider a text containing some Windows style directory addresses in which we have to find C:\\Windows\\System32 substring."
   ]
  },
  {
   "cell_type": "code",
   "execution_count": 29,
   "id": "377e1881-4571-4df9-ba11-7c0d81326849",
   "metadata": {},
   "outputs": [],
   "source": [
    "import re"
   ]
  },
  {
   "cell_type": "code",
   "execution_count": 30,
   "id": "c6e75dd0-d30c-47ca-809f-db7fa9f42080",
   "metadata": {},
   "outputs": [],
   "source": [
    "text = \"\"\"\n",
    "c:\\windows\n",
    "c:\\python\n",
    "c:\\windows\\system32\n",
    "\"\"\""
   ]
  },
  {
   "cell_type": "code",
   "execution_count": 31,
   "id": "2bd1b432-b094-457c-b5dc-561e4b158558",
   "metadata": {},
   "outputs": [
    {
     "data": {
      "text/plain": [
       "False"
      ]
     },
     "execution_count": 31,
     "metadata": {},
     "output_type": "execute_result"
    }
   ],
   "source": [
    "pattern = re.compile(\"c:\\windows\")\n",
    "\n",
    "pattern.search(text) == True"
   ]
  },
  {
   "cell_type": "markdown",
   "id": "1412e233-03d1-435e-9487-6e7699983783",
   "metadata": {},
   "source": [
    "### Why are no matches found for above pattern?\n",
    "Regex Engine is treateing \\ as metacharacters, whereas we intend to treat it like a literal.\n",
    "\n",
    "### Solution???\n",
    "We need to escape the metacharacters. A metacharacter can be escaped by putting a \\ before it."
   ]
  },
  {
   "cell_type": "code",
   "execution_count": 32,
   "id": "430f19c4-c80f-4734-b9a7-9e305c7f7f91",
   "metadata": {},
   "outputs": [
    {
     "data": {
      "text/plain": [
       "True"
      ]
     },
     "execution_count": 32,
     "metadata": {},
     "output_type": "execute_result"
    }
   ],
   "source": [
    "pattern = re.compile(\"c:\\\\windows\")\n",
    "\n",
    "pattern.search(text) == None"
   ]
  },
  {
   "cell_type": "markdown",
   "id": "2087b120-2006-43bf-9791-0794287a0d36",
   "metadata": {},
   "source": [
    "### Still no match found. Why???\n",
    "\\ is used as an escape at two different levels.\n",
    "\n",
    "* First, the Python interpreter itself performs substitutions for \\ before the   re module ever sees the pattern string. For instance, \\n is converted to a  v newline character, \\t is converted to a tab character, etc.\n",
    "\n",
    "* Finally, re reads the substituted pattern string and will apply its own       substitutions for \\ character.\n",
    "\n",
    "Hence, to use \\ as a literal, we first escape \\ with \\\\ for python interpreter and then escape \\\\ as \\\\\\\\ for regex engine."
   ]
  },
  {
   "cell_type": "code",
   "execution_count": 33,
   "id": "48a38b80-505e-4272-9612-d57237ea48e1",
   "metadata": {},
   "outputs": [
    {
     "data": {
      "text/plain": [
       "False"
      ]
     },
     "execution_count": 33,
     "metadata": {},
     "output_type": "execute_result"
    }
   ],
   "source": [
    "pattern = re.compile(\"c:\\\\\\\\windows\")\n",
    "\n",
    "pattern.search(text) == None"
   ]
  },
  {
   "cell_type": "markdown",
   "id": "17ea141d-f561-4deb-a438-6842c624ae75",
   "metadata": {},
   "source": [
    "### Can we use 2 backslashes instead of 4 here?\n",
    "Yes. By using raw-strings, we do not need to put escapes at first level.\n",
    "\n",
    "Python raw strings are represented as *r\"your string\"*. In raw strings, no escaping is required as escape sequences like \\n, \\t, etc are not processed."
   ]
  },
  {
   "cell_type": "code",
   "execution_count": 34,
   "id": "93e2e02f-edee-46f6-ba42-9c43ed647403",
   "metadata": {},
   "outputs": [
    {
     "data": {
      "text/plain": [
       "False"
      ]
     },
     "execution_count": 34,
     "metadata": {},
     "output_type": "execute_result"
    }
   ],
   "source": [
    "pattern = re.compile(r\"c:\\\\windows\")\n",
    "\n",
    "pattern.search(text) == None"
   ]
  },
  {
   "cell_type": "markdown",
   "id": "239accc2-23a3-4733-a4d6-37272d187798",
   "metadata": {},
   "source": [
    "### Do we really need to use 2 backslashes?\n",
    "If you are not using any metacharacters in your regex pattern, you can use re.escape() method to escape all the characters in pattern except ASCII letters, numbers and '_'."
   ]
  },
  {
   "cell_type": "code",
   "execution_count": 35,
   "id": "1ba82022-a846-455b-a983-5d59cca46308",
   "metadata": {},
   "outputs": [
    {
     "data": {
      "text/plain": [
       "<re.Match object; span=(1, 11), match='c:\\\\windows'>"
      ]
     },
     "execution_count": 35,
     "metadata": {},
     "output_type": "execute_result"
    }
   ],
   "source": [
    "re.search(re.escape('c:\\windows'),text)"
   ]
  },
  {
   "cell_type": "code",
   "execution_count": null,
   "id": "312c99e8-3891-4fbc-b123-b3a7cd1068b5",
   "metadata": {},
   "outputs": [],
   "source": []
  }
 ],
 "metadata": {
  "kernelspec": {
   "display_name": "Python 3 (ipykernel)",
   "language": "python",
   "name": "python3"
  },
  "language_info": {
   "codemirror_mode": {
    "name": "ipython",
    "version": 3
   },
   "file_extension": ".py",
   "mimetype": "text/x-python",
   "name": "python",
   "nbconvert_exporter": "python",
   "pygments_lexer": "ipython3",
   "version": "3.9.16"
  }
 },
 "nbformat": 4,
 "nbformat_minor": 5
}

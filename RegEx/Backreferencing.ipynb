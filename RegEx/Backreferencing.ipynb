{
 "cells": [
  {
   "cell_type": "markdown",
   "id": "5b4a0723-5f09-4c69-9bbe-053539ebd000",
   "metadata": {},
   "source": [
    "### Backreferencing\n",
    "Backreferences in a pattern allow you to specify that the contents of an earlier capturing group must also be found at the current location in the string.\n",
    "\n",
    "* For example, \\1 will succeed if the exact contents of group 1 can be found at the current position, and fails otherwise.\n",
    "\n",
    "#### Example 1\n",
    "Consider a scenario where we want to find all the duplicated words in the given text."
   ]
  },
  {
   "cell_type": "code",
   "execution_count": 1,
   "id": "1f6207d2-c9c7-4cfa-a184-a8732126a350",
   "metadata": {},
   "outputs": [],
   "source": [
    "import re"
   ]
  },
  {
   "cell_type": "code",
   "execution_count": 30,
   "id": "6bc32b3e-f149-42f4-92f2-2f6fef36c751",
   "metadata": {},
   "outputs": [],
   "source": [
    "txt = \"\"\"\n",
    "hello  hello\n",
    "how are you are\n",
    "bye bye\n",
    "\"\"\""
   ]
  },
  {
   "cell_type": "code",
   "execution_count": 31,
   "id": "f0eeac9f-603e-4ea9-bcf5-3a7dd5934efb",
   "metadata": {},
   "outputs": [],
   "source": [
    "pattern = re.compile(\"(\\w+) \\\\1\")\n",
    "\n",
    "# pattern = re.compile(r\"(\\w+) \\1\")  other way"
   ]
  },
  {
   "cell_type": "code",
   "execution_count": 32,
   "id": "5077fd34-db20-42b5-8550-da2bda5508da",
   "metadata": {},
   "outputs": [
    {
     "data": {
      "text/plain": [
       "['bye']"
      ]
     },
     "execution_count": 32,
     "metadata": {},
     "output_type": "execute_result"
    }
   ],
   "source": [
    "pattern.findall(txt)"
   ]
  },
  {
   "cell_type": "markdown",
   "id": "c5ac393f-a7ac-485d-bb53-460f37175e25",
   "metadata": {},
   "source": [
    "### Example 2\n",
    "Consider a scenario where we want to find all dates with the format dd/mm/yyy and change them to yyyy-mm-dd format."
   ]
  },
  {
   "cell_type": "code",
   "execution_count": 33,
   "id": "6ccf56db-0eef-446a-8bc3-229c06f5d7ca",
   "metadata": {},
   "outputs": [],
   "source": [
    "txt = \"\"\"\n",
    "today is 23/02/2019.\n",
    "yesterday was 22/02/2019.\n",
    "tomorrow is 24/02/2019.\n",
    "\"\"\""
   ]
  },
  {
   "cell_type": "code",
   "execution_count": 34,
   "id": "f68b21d6-038d-4dbf-af77-b6983483f69a",
   "metadata": {},
   "outputs": [
    {
     "name": "stdout",
     "output_type": "stream",
     "text": [
      "\n",
      "today is 2019-02-23.\n",
      "yesterday was 2019-02-22.\n",
      "tomorrow is 2019-02-24.\n",
      "\n"
     ]
    }
   ],
   "source": [
    "pattern = re.compile(\"(\\d{2})\\/(\\d{2})\\/(\\d{4})\")\n",
    "newtxt = pattern.sub(r\"\\3-\\2-\\1\", txt)\n",
    "print(newtxt)"
   ]
  },
  {
   "cell_type": "code",
   "execution_count": null,
   "id": "f48776a8-dff5-478e-b403-e06c8f9b5f60",
   "metadata": {},
   "outputs": [],
   "source": []
  }
 ],
 "metadata": {
  "kernelspec": {
   "display_name": "Python 3 (ipykernel)",
   "language": "python",
   "name": "python3"
  },
  "language_info": {
   "codemirror_mode": {
    "name": "ipython",
    "version": 3
   },
   "file_extension": ".py",
   "mimetype": "text/x-python",
   "name": "python",
   "nbconvert_exporter": "python",
   "pygments_lexer": "ipython3",
   "version": "3.9.16"
  }
 },
 "nbformat": 4,
 "nbformat_minor": 5
}

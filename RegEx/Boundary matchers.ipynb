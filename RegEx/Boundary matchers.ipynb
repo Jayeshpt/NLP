{
 "cells": [
  {
   "cell_type": "markdown",
   "id": "82b088e9-8e14-43c4-ace1-bad13d2b38bb",
   "metadata": {},
   "source": [
    "### Boundary Matchers\n",
    "Consider a scenario where you want to find all occurances of and, or and the in the given text."
   ]
  },
  {
   "cell_type": "code",
   "execution_count": 11,
   "id": "90aeeaaa-511b-4087-8625-87e2ed3ea7cc",
   "metadata": {},
   "outputs": [],
   "source": [
    "import re \n",
    "from colorama import Back, Style\n",
    "\n",
    "\n",
    "def highlight_regex_matches(pattern, text, print_output=True):\n",
    "\toutput = text\n",
    "\tlen_inc = 0\n",
    "\tfor match in pattern.finditer(text):\n",
    "\t\tstart, end = match.start() + len_inc, match.end() + len_inc\n",
    "\t\toutput = output[:start] + Back.YELLOW + Style.BRIGHT + output[start:end] + Style.RESET_ALL + output[end:]\n",
    "\t\tlen_inc = len(output) - len(text)  \n",
    "\n",
    "\tif print_output:\n",
    "\t\tprint(output)\n",
    "\telse:\n",
    "\t\treturn output\n"
   ]
  },
  {
   "cell_type": "code",
   "execution_count": 12,
   "id": "617ac122-07ee-4df3-a36e-6593241577b5",
   "metadata": {},
   "outputs": [],
   "source": [
    "txt = \"\"\"\n",
    "Lorem Ipsum is simply dummy text of the printing and typesetting industry. \n",
    "Lorem Ipsum has been the industry's standard dummy text ever since the 1500s, \n",
    "when an unknown printer took a galley of type and scrambled it to make a type specimen book. \n",
    "It has survived not only five centuries, but also the leap into electronic typesetting, \n",
    "remaining essentially unchanged. \n",
    "It was popularised in the 1960s with the release of Letraset sheets containing Lorem Ipsum passages, \n",
    "and more recently with desktop publishing software like Aldus PageMaker including versions of Lorem Ipsum.\n",
    "\"\"\""
   ]
  },
  {
   "cell_type": "code",
   "execution_count": 13,
   "id": "91de6865-20ab-4e91-82b5-5e00ec94eb4b",
   "metadata": {},
   "outputs": [],
   "source": [
    "pattern = re.compile(\"and|or|the\")\n"
   ]
  },
  {
   "cell_type": "code",
   "execution_count": 14,
   "id": "6ecbccb5-e5c7-4e7e-9353-04894f34a00f",
   "metadata": {},
   "outputs": [
    {
     "data": {
      "text/plain": [
       "['or',\n",
       " 'the',\n",
       " 'and',\n",
       " 'or',\n",
       " 'the',\n",
       " 'and',\n",
       " 'the',\n",
       " 'and',\n",
       " 'the',\n",
       " 'the',\n",
       " 'the',\n",
       " 'or',\n",
       " 'and',\n",
       " 'or',\n",
       " 'or']"
      ]
     },
     "execution_count": 14,
     "metadata": {},
     "output_type": "execute_result"
    }
   ],
   "source": [
    "pattern.findall(txt)"
   ]
  },
  {
   "cell_type": "code",
   "execution_count": 15,
   "id": "731f0488-b38a-430e-b948-1b9d0b1dfd54",
   "metadata": {},
   "outputs": [
    {
     "name": "stdout",
     "output_type": "stream",
     "text": [
      "\n",
      "L\u001b[43m\u001b[1mor\u001b[0mem Ipsum is simply dummy text of \u001b[43m\u001b[1mthe\u001b[0m printing \u001b[43m\u001b[1mand\u001b[0m typesetting industry. \n",
      "L\u001b[43m\u001b[1mor\u001b[0mem Ipsum has been \u001b[43m\u001b[1mthe\u001b[0m industry's st\u001b[43m\u001b[1mand\u001b[0mard dummy text ever since \u001b[43m\u001b[1mthe\u001b[0m 1500s, \n",
      "when an unknown printer took a galley of type \u001b[43m\u001b[1mand\u001b[0m scrambled it to make a type specimen book. \n",
      "It has survived not only five centuries, but also \u001b[43m\u001b[1mthe\u001b[0m leap into electronic typesetting, \n",
      "remaining essentially unchanged. \n",
      "It was popularised in \u001b[43m\u001b[1mthe\u001b[0m 1960s with \u001b[43m\u001b[1mthe\u001b[0m release of Letraset sheets containing L\u001b[43m\u001b[1mor\u001b[0mem Ipsum passages, \n",
      "\u001b[43m\u001b[1mand\u001b[0m m\u001b[43m\u001b[1mor\u001b[0me recently with desktop publishing software like Aldus PageMaker including versions of L\u001b[43m\u001b[1mor\u001b[0mem Ipsum.\n",
      "\n"
     ]
    }
   ],
   "source": [
    "highlight_regex_matches(pattern,txt)"
   ]
  },
  {
   "cell_type": "markdown",
   "id": "e8368144-20f0-42eb-999f-993a6ca1da57",
   "metadata": {},
   "source": [
    "There is a slight problem with the above pattern. and, or, the inside the words are also counted as a match where as we want to find individual strings containing and, or, the only.\n",
    "\n",
    "### What is the solution?\n",
    "Solution is to use this pattern:\n",
    "\n",
    "\\b(and|or|the)\\b\n",
    "\n",
    "where \\b is a metacharacter that matches at a position that is called a word boundary.\n",
    "\n",
    "Such identifiers that correspond to a particular position inside of the input are called Boundary Matchers.\n",
    "\n",
    "Note: Since \\b is also an escape sequence for strings in Python, we need to escape it using \\, i.e. \\\\b, in order to treat it like a metacharacter for regex matching."
   ]
  },
  {
   "cell_type": "code",
   "execution_count": 16,
   "id": "7a13aff0-f493-43bd-ada7-a3d44c23b58e",
   "metadata": {},
   "outputs": [],
   "source": [
    "pattern = re.compile (\"\\\\b(and|or|the)\\\\b\")"
   ]
  },
  {
   "cell_type": "code",
   "execution_count": 17,
   "id": "00c860be-98c5-4f6c-940a-cb9291f4e72c",
   "metadata": {},
   "outputs": [
    {
     "name": "stdout",
     "output_type": "stream",
     "text": [
      "\n",
      "Lorem Ipsum is simply dummy text of \u001b[43m\u001b[1mthe\u001b[0m printing \u001b[43m\u001b[1mand\u001b[0m typesetting industry. \n",
      "Lorem Ipsum has been \u001b[43m\u001b[1mthe\u001b[0m industry's standard dummy text ever since \u001b[43m\u001b[1mthe\u001b[0m 1500s, \n",
      "when an unknown printer took a galley of type \u001b[43m\u001b[1mand\u001b[0m scrambled it to make a type specimen book. \n",
      "It has survived not only five centuries, but also \u001b[43m\u001b[1mthe\u001b[0m leap into electronic typesetting, \n",
      "remaining essentially unchanged. \n",
      "It was popularised in \u001b[43m\u001b[1mthe\u001b[0m 1960s with \u001b[43m\u001b[1mthe\u001b[0m release of Letraset sheets containing Lorem Ipsum passages, \n",
      "\u001b[43m\u001b[1mand\u001b[0m more recently with desktop publishing software like Aldus PageMaker including versions of Lorem Ipsum.\n",
      "\n"
     ]
    }
   ],
   "source": [
    "highlight_regex_matches(pattern,txt)"
   ]
  },
  {
   "cell_type": "markdown",
   "id": "5fb1b5a6-11ff-475b-94ea-30f461ac0500",
   "metadata": {},
   "source": [
    "Here is a table which shows the list of all boundary matchers available in Python:\n",
    "\n",
    "Matcher         \tDescription\n",
    "* ^\tMatches at the beginning of a line\n",
    "* $\tMatches at the end of a line\n",
    "* \\b\tMatches a word boundary\n",
    "* \\B\tMatches the opposite of \\b. Anything that is not a word boundary\n",
    "* \\A\tMatches the beginning of the input\n",
    "* \\Z\tMatches the end of the input"
   ]
  },
  {
   "cell_type": "markdown",
   "id": "9d9f5418-dd59-4302-93ba-71582349d346",
   "metadata": {},
   "source": [
    "### Example 1\n",
    "Consider a scenario where we want to find all the lines in the given text which start with the pattern Name:.\n"
   ]
  },
  {
   "cell_type": "code",
   "execution_count": 30,
   "id": "4dbf4b88-e44c-4875-bb9d-252e5a8ef30e",
   "metadata": {},
   "outputs": [],
   "source": [
    "txt = \"\"\"\n",
    "Name: 123\n",
    "Age: 0\n",
    "Roll No.: 15\n",
    "Grade: S\n",
    "\n",
    "Name: jayesh123\n",
    "Age: 0\n",
    "Roll No.: 15\n",
    "Grade: S\n",
    "\n",
    "Name: Ravi\n",
    "Age: -1\n",
    "Roll No.: 123 Name: ABC\n",
    "Grade: K\n",
    "\n",
    "Name: Ram\n",
    "Age: N/A\n",
    "Roll No.: 1\n",
    "Grade: G\n",
    "\"\"\""
   ]
  },
  {
   "cell_type": "code",
   "execution_count": 31,
   "id": "db97047e-ce66-408e-a00b-20840b5c32d9",
   "metadata": {},
   "outputs": [],
   "source": [
    "pattern = re.compile(\"^Name: \\w+\",flags=re.M)"
   ]
  },
  {
   "cell_type": "code",
   "execution_count": 32,
   "id": "1f28894b-3d82-4228-835d-25ba9dc0d022",
   "metadata": {},
   "outputs": [
    {
     "data": {
      "text/plain": [
       "['Name: 123', 'Name: jayesh123', 'Name: Ravi', 'Name: Ram']"
      ]
     },
     "execution_count": 32,
     "metadata": {},
     "output_type": "execute_result"
    }
   ],
   "source": [
    "pattern.findall(txt)"
   ]
  },
  {
   "cell_type": "markdown",
   "id": "5d53a4ab-1516-4864-8dc5-3d0b9c860434",
   "metadata": {},
   "source": [
    "re.M (short for re.MULTILINE) is a flag which is used to make begin/end (^, $) consider each line.\n",
    "\n",
    "### Example 2\n",
    "Find all the sentences which do not end with a full stop (.) in the given text."
   ]
  },
  {
   "cell_type": "code",
   "execution_count": 33,
   "id": "1bc31803-3b28-4e9c-96f9-028229ec73f1",
   "metadata": {},
   "outputs": [],
   "source": [
    "txt = \"\"\"\n",
    "Lorem Ipsum is simply dummy text of the printing and typesetting industry.\n",
    "Lorem Ipsum has been the industry's standard dummy text ever since the 1500s!\n",
    "It has survived not only five centuries, but also the leap into electronic typesetting, remaining essentially unchanged.\n",
    "It was popularised in the 1960s with the release of Letraset sheets containing Lorem Ipsum passages\n",
    "More recently with desktop publishing software like Aldus PageMaker including versions of Lorem Ipsum.\"\"\"\n"
   ]
  },
  {
   "cell_type": "code",
   "execution_count": 34,
   "id": "f6c3397c-bcdb-409b-924f-059969cde56a",
   "metadata": {},
   "outputs": [],
   "source": [
    "pattern = re.compile(\"^.+[^\\.]$\", flags=re.M)\n"
   ]
  },
  {
   "cell_type": "code",
   "execution_count": 35,
   "id": "739fd3dd-21cd-44db-a196-1aa6e78056bc",
   "metadata": {},
   "outputs": [
    {
     "data": {
      "text/plain": [
       "[\"Lorem Ipsum has been the industry's standard dummy text ever since the 1500s!\",\n",
       " 'It was popularised in the 1960s with the release of Letraset sheets containing Lorem Ipsum passages']"
      ]
     },
     "execution_count": 35,
     "metadata": {},
     "output_type": "execute_result"
    }
   ],
   "source": [
    "pattern.findall(txt)"
   ]
  },
  {
   "cell_type": "code",
   "execution_count": null,
   "id": "45084785-0360-40c5-a4f4-cfd6d1cbc0e7",
   "metadata": {},
   "outputs": [],
   "source": []
  }
 ],
 "metadata": {
  "kernelspec": {
   "display_name": "Python 3 (ipykernel)",
   "language": "python",
   "name": "python3"
  },
  "language_info": {
   "codemirror_mode": {
    "name": "ipython",
    "version": 3
   },
   "file_extension": ".py",
   "mimetype": "text/x-python",
   "name": "python",
   "nbconvert_exporter": "python",
   "pygments_lexer": "ipython3",
   "version": "3.9.16"
  }
 },
 "nbformat": 4,
 "nbformat_minor": 5
}

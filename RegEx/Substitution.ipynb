{
 "cells": [
  {
   "cell_type": "markdown",
   "id": "e68e4d30-d7cd-42f9-8bd9-f3e7bcf46740",
   "metadata": {},
   "source": [
    "## Substitution\n",
    "Now, we are going to look at a method which will replace all the leftmost non-overlapping occurrences of a pattern in a given string and return the new string as result.\n",
    "\n",
    "### sub(repl, string[, count=0])\n",
    "* repl is the replacement string which gets substituted in the place of match\n",
    "\n",
    "* string is the input text on which substitution takes place.\n",
    "\n",
    "* count is an optional argument (default is 0) which specifies the max no. of substitutions that can take place. 0 means there is no limit on substitution count.\n",
    "\n",
    "Let us consider a case where we want to replace all occurances of numbers with a - in the given text."
   ]
  },
  {
   "cell_type": "code",
   "execution_count": 2,
   "id": "b201beef-1e0b-44fa-8449-15142f7ba67c",
   "metadata": {},
   "outputs": [],
   "source": [
    "import re"
   ]
  },
  {
   "cell_type": "code",
   "execution_count": 3,
   "id": "63d14ba3-c81b-4748-8c3e-b9e835a46947",
   "metadata": {},
   "outputs": [],
   "source": [
    "txt = \"100 cats,23 cats,3 rabbit\""
   ]
  },
  {
   "cell_type": "code",
   "execution_count": 4,
   "id": "96d2a9b4-623f-49b1-9d7c-10a2e45b4087",
   "metadata": {},
   "outputs": [],
   "source": [
    "pattern = re.compile(\"\\d+\")"
   ]
  },
  {
   "cell_type": "code",
   "execution_count": 5,
   "id": "6e0201ae-0d46-4afc-ba89-e54cd689d7eb",
   "metadata": {},
   "outputs": [
    {
     "data": {
      "text/plain": [
       "' cats, cats, rabbit'"
      ]
     },
     "execution_count": 5,
     "metadata": {},
     "output_type": "execute_result"
    }
   ],
   "source": [
    "pattern.sub('',txt)"
   ]
  },
  {
   "cell_type": "markdown",
   "id": "848df2ad-24c7-4bce-830a-0d127e3bf7e3",
   "metadata": {},
   "source": [
    "### subn(repl, string[, count=0])\n",
    "* Returns the substituted string as well as the no. of substitutions.\n",
    "\n",
    "* Can be thought of as a utility function over sub()."
   ]
  },
  {
   "cell_type": "code",
   "execution_count": 5,
   "id": "b396c91b-c73e-4c1a-9e43-562afe2a724c",
   "metadata": {},
   "outputs": [
    {
     "data": {
      "text/plain": [
       "('-- cats,-- cats,-- rabbit', 3)"
      ]
     },
     "execution_count": 5,
     "metadata": {},
     "output_type": "execute_result"
    }
   ],
   "source": [
    "pattern.subn(\"--\",txt)"
   ]
  },
  {
   "cell_type": "code",
   "execution_count": null,
   "id": "a44f085a-4026-4499-804b-c629540656b6",
   "metadata": {},
   "outputs": [],
   "source": []
  }
 ],
 "metadata": {
  "kernelspec": {
   "display_name": "Python 3 (ipykernel)",
   "language": "python",
   "name": "python3"
  },
  "language_info": {
   "codemirror_mode": {
    "name": "ipython",
    "version": 3
   },
   "file_extension": ".py",
   "mimetype": "text/x-python",
   "name": "python",
   "nbconvert_exporter": "python",
   "pygments_lexer": "ipython3",
   "version": "3.9.16"
  }
 },
 "nbformat": 4,
 "nbformat_minor": 5
}

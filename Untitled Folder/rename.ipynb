{
 "cells": [
  {
   "cell_type": "code",
   "execution_count": 1,
   "id": "00ae0f65-9e50-4ce9-99ee-cb115c39232d",
   "metadata": {},
   "outputs": [],
   "source": [
    "text = \"\"\"According to consensus in modern genetics, anatomically modern humans first arrived on the Indian subcontinent from Africa between 73,000 and 55,000 years ago.[1] However, the earliest known human remains in South Asia date to 30,000 years ago. Sedentariness, which involves the transition from foraging to farming and pastoralism, began in South Asia around 7000 BCE. At the site of Mehrgarh, its presence can be documented, with evidence of domestication of wheat and barley, rapidly followed by that of goats, sheep, and cattle.[2] By 4500 BCE, such settled life had increasingly spread, [2] and began to gradually evolve into the Indus Valley civilisation, which was contemporaneous with Ancient Egypt and Mesopotamia. This civilisation flourished between 2500 BCE and 1900 BCE in present-day Pakistan and north-western India, and was noted for its urban planning, baked brick houses, elaborate drainage, and water supply.[3]\"\"\""
   ]
  },
  {
   "cell_type": "code",
   "execution_count": 2,
   "id": "361177e2-1622-4818-a26e-34e46d8071b1",
   "metadata": {},
   "outputs": [],
   "source": [
    "with open ('text.txt','w') as file:\n",
    "    file.write(text)"
   ]
  },
  {
   "cell_type": "code",
   "execution_count": 3,
   "id": "0acc44da-b640-45f8-9a97-5dd4f8c4cc31",
   "metadata": {},
   "outputs": [
    {
     "name": "stdout",
     "output_type": "stream",
     "text": [
      "According to consensus in modern genetics, anatomically modern humans first arrived on the Indian subcontinent from Africa between 73,000 and 55,000 years ago.[1] However, the earliest known human remains in South Asia date to 30,000 years ago. Sedentariness, which involves the transition from foraging to farming and pastoralism, began in South Asia around 7000 BCE. At the site of Mehrgarh, its presence can be documented, with evidence of domestication of wheat and barley, rapidly followed by that of goats, sheep, and cattle.[2] By 4500 BCE, such settled life had increasingly spread, [2] and began to gradually evolve into the Indus Valley civilisation, which was contemporaneous with Ancient Egypt and Mesopotamia. This civilisation flourished between 2500 BCE and 1900 BCE in present-day Pakistan and north-western India, and was noted for its urban planning, baked brick houses, elaborate drainage, and water supply.[3]\n"
     ]
    }
   ],
   "source": [
    "with open ('text.txt','r') as file:\n",
    "    text_data = file.read()\n",
    "    print(text_data)"
   ]
  },
  {
   "cell_type": "code",
   "execution_count": 4,
   "id": "51e37f76-db5d-4b11-92a5-eadd20b45ede",
   "metadata": {},
   "outputs": [],
   "source": [
    "import spacy"
   ]
  },
  {
   "cell_type": "code",
   "execution_count": 5,
   "id": "4a8a8e48-3d65-46d3-b726-d6be0774ffac",
   "metadata": {},
   "outputs": [],
   "source": [
    "nlp = spacy.load('en_core_web_sm')\n",
    "\n",
    "doc = nlp(text_data)"
   ]
  },
  {
   "cell_type": "code",
   "execution_count": 6,
   "id": "a70c4523-043f-4c1b-8880-0102a270a34f",
   "metadata": {},
   "outputs": [
    {
     "data": {
      "text/plain": [
       "According to consensus in modern genetics, anatomically modern humans first arrived on the Indian subcontinent from Africa between 73,000 and 55,000 years ago.[1] However, the earliest known human remains in South Asia date to 30,000 years ago. Sedentariness, which involves the transition from foraging to farming and pastoralism, began in South Asia around 7000 BCE. At the site of Mehrgarh, its presence can be documented, with evidence of domestication of wheat and barley, rapidly followed by that of goats, sheep, and cattle.[2] By 4500 BCE, such settled life had increasingly spread, [2] and began to gradually evolve into the Indus Valley civilisation, which was contemporaneous with Ancient Egypt and Mesopotamia. This civilisation flourished between 2500 BCE and 1900 BCE in present-day Pakistan and north-western India, and was noted for its urban planning, baked brick houses, elaborate drainage, and water supply.[3]"
      ]
     },
     "execution_count": 6,
     "metadata": {},
     "output_type": "execute_result"
    }
   ],
   "source": [
    "doc"
   ]
  },
  {
   "cell_type": "code",
   "execution_count": 7,
   "id": "743c0853-8594-4343-a3b0-9577fc5da357",
   "metadata": {},
   "outputs": [
    {
     "name": "stdout",
     "output_type": "stream",
     "text": [
      "According to consensus in modern genetics, anatomically modern humans first arrived on the Indian subcontinent from Africa between 73,000 and 55,000 years ago.[1]\n",
      "However, the earliest known human remains in South Asia date to 30,000 years ago.\n",
      "Sedentariness, which involves the transition from foraging to farming and pastoralism, began in South Asia around 7000 BCE.\n",
      "At the site of Mehrgarh, its presence can be documented, with evidence of domestication of wheat and barley, rapidly followed by that of goats, sheep, and cattle.[2]\n",
      "By 4500 BCE, such settled life had increasingly spread, [2] and began to gradually evolve into the Indus Valley civilisation, which was contemporaneous with Ancient Egypt and Mesopotamia.\n",
      "This civilisation flourished between 2500 BCE and 1900 BCE in present-day Pakistan and north-western India, and was noted for its urban planning, baked brick houses, elaborate drainage, and water supply.[3]\n"
     ]
    }
   ],
   "source": [
    "# sentence tokenization\n",
    "\n",
    "for token in doc.sents:\n",
    "    print(token)"
   ]
  },
  {
   "cell_type": "code",
   "execution_count": 8,
   "id": "fe15bb5e-8391-4f97-a684-9c68b661402a",
   "metadata": {
    "scrolled": true,
    "tags": []
   },
   "outputs": [
    {
     "name": "stdout",
     "output_type": "stream",
     "text": [
      "According\n",
      "to\n",
      "consensus\n",
      "in\n",
      "modern\n",
      "genetics\n",
      ",\n",
      "anatomically\n",
      "modern\n",
      "humans\n",
      "first\n",
      "arrived\n",
      "on\n",
      "the\n",
      "Indian\n",
      "subcontinent\n",
      "from\n",
      "Africa\n",
      "between\n",
      "73,000\n",
      "and\n",
      "55,000\n",
      "years\n",
      "ago.[1\n",
      "]\n",
      "However\n",
      ",\n",
      "the\n",
      "earliest\n",
      "known\n",
      "human\n",
      "remains\n",
      "in\n",
      "South\n",
      "Asia\n",
      "date\n",
      "to\n",
      "30,000\n",
      "years\n",
      "ago\n",
      ".\n",
      "Sedentariness\n",
      ",\n",
      "which\n",
      "involves\n",
      "the\n",
      "transition\n",
      "from\n",
      "foraging\n",
      "to\n",
      "farming\n",
      "and\n",
      "pastoralism\n",
      ",\n",
      "began\n",
      "in\n",
      "South\n",
      "Asia\n",
      "around\n",
      "7000\n",
      "BCE\n",
      ".\n",
      "At\n",
      "the\n",
      "site\n",
      "of\n",
      "Mehrgarh\n",
      ",\n",
      "its\n",
      "presence\n",
      "can\n",
      "be\n",
      "documented\n",
      ",\n",
      "with\n",
      "evidence\n",
      "of\n",
      "domestication\n",
      "of\n",
      "wheat\n",
      "and\n",
      "barley\n",
      ",\n",
      "rapidly\n",
      "followed\n",
      "by\n",
      "that\n",
      "of\n",
      "goats\n",
      ",\n",
      "sheep\n",
      ",\n",
      "and\n",
      "cattle.[2\n",
      "]\n",
      "By\n",
      "4500\n",
      "BCE\n",
      ",\n",
      "such\n",
      "settled\n",
      "life\n",
      "had\n",
      "increasingly\n",
      "spread\n",
      ",\n",
      "[\n",
      "2\n",
      "]\n",
      "and\n",
      "began\n",
      "to\n",
      "gradually\n",
      "evolve\n",
      "into\n",
      "the\n",
      "Indus\n",
      "Valley\n",
      "civilisation\n",
      ",\n",
      "which\n",
      "was\n",
      "contemporaneous\n",
      "with\n",
      "Ancient\n",
      "Egypt\n",
      "and\n",
      "Mesopotamia\n",
      ".\n",
      "This\n",
      "civilisation\n",
      "flourished\n",
      "between\n",
      "2500\n",
      "BCE\n",
      "and\n",
      "1900\n",
      "BCE\n",
      "in\n",
      "present\n",
      "-\n",
      "day\n",
      "Pakistan\n",
      "and\n",
      "north\n",
      "-\n",
      "western\n",
      "India\n",
      ",\n",
      "and\n",
      "was\n",
      "noted\n",
      "for\n",
      "its\n",
      "urban\n",
      "planning\n",
      ",\n",
      "baked\n",
      "brick\n",
      "houses\n",
      ",\n",
      "elaborate\n",
      "drainage\n",
      ",\n",
      "and\n",
      "water\n",
      "supply.[3\n",
      "]\n"
     ]
    }
   ],
   "source": [
    "# word token\n",
    "\n",
    "for token in doc:\n",
    "    print(token)"
   ]
  },
  {
   "cell_type": "code",
   "execution_count": 9,
   "id": "d08a97fd-c46f-40e2-b468-47c3ae7983ca",
   "metadata": {},
   "outputs": [
    {
     "data": {
      "text/plain": [
       "'According to consensus in modern genetics  anatomically modern humans first arrived on the Indian subcontinent from Africa between 73 000 and 55 000 years ago.[1] However  the earliest known human remains in South Asia date to 30 000 years ago. Sedentariness  which involves the transition from foraging to farming and pastoralism  began in South Asia around 7000 BCE. At the site of Mehrgarh  its presence can be documented  with evidence of domestication of wheat and barley  rapidly followed by that of goats  sheep  and cattle.[2] By 4500 BCE  such settled life had increasingly spread  [2] and began to gradually evolve into the Indus Valley civilisation  which was contemporaneous with Ancient Egypt and Mesopotamia. This civilisation flourished between 2500 BCE and 1900 BCE in present-day Pakistan and north-western India  and was noted for its urban planning  baked brick houses  elaborate drainage  and water supply.[3]'"
      ]
     },
     "execution_count": 9,
     "metadata": {},
     "output_type": "execute_result"
    }
   ],
   "source": [
    "# remove , from text\n",
    "\n",
    "import re\n",
    "\n",
    "pattern = re.compile(r'\\,')\n",
    "\n",
    "clean_text = pattern.sub(' ',text_data)\n",
    "clean_text"
   ]
  },
  {
   "cell_type": "code",
   "execution_count": 10,
   "id": "fa87eaa8-0e62-464f-b25c-ea63dbdb0ff0",
   "metadata": {},
   "outputs": [
    {
     "data": {
      "text/plain": [
       "'According to consensus in modern genetics  anatomically modern humans first arrived on the Indian subcontinent from Africa between 73 000 and 55 000 years ago.  However  the earliest known human remains in South Asia date to 30 000 years ago. Sedentariness  which involves the transition from foraging to farming and pastoralism  began in South Asia around 7000 BCE. At the site of Mehrgarh  its presence can be documented  with evidence of domestication of wheat and barley  rapidly followed by that of goats  sheep  and cattle.  By 4500 BCE  such settled life had increasingly spread    and began to gradually evolve into the Indus Valley civilisation  which was contemporaneous with Ancient Egypt and Mesopotamia. This civilisation flourished between 2500 BCE and 1900 BCE in present-day Pakistan and north-western India  and was noted for its urban planning  baked brick houses  elaborate drainage  and water supply. '"
      ]
     },
     "execution_count": 10,
     "metadata": {},
     "output_type": "execute_result"
    }
   ],
   "source": [
    "pattern = re.compile('\\[\\d]')\n",
    "\n",
    "clean_text = pattern.sub(' ',clean_text)\n",
    "clean_text"
   ]
  },
  {
   "cell_type": "code",
   "execution_count": 11,
   "id": "20215845-f258-4866-973b-5f93264acd49",
   "metadata": {},
   "outputs": [],
   "source": [
    "# remove stopwords \n",
    "\n",
    "clean_text = [token.text for token in doc if not token.is_stop]\n",
    "\n",
    "clean_text = ' '.join(clean_text)"
   ]
  },
  {
   "cell_type": "code",
   "execution_count": 12,
   "id": "92e84440-b621-4da5-88c7-535bb0a05f36",
   "metadata": {},
   "outputs": [
    {
     "data": {
      "text/plain": [
       "'According consensus modern genetics , anatomically modern humans arrived Indian subcontinent Africa 73,000 55,000 years ago.[1 ] , earliest known human remains South Asia date 30,000 years ago . Sedentariness , involves transition foraging farming pastoralism , began South Asia 7000 BCE . site Mehrgarh , presence documented , evidence domestication wheat barley , rapidly followed goats , sheep , cattle.[2 ] 4500 BCE , settled life increasingly spread , [ 2 ] began gradually evolve Indus Valley civilisation , contemporaneous Ancient Egypt Mesopotamia . civilisation flourished 2500 BCE 1900 BCE present - day Pakistan north - western India , noted urban planning , baked brick houses , elaborate drainage , water supply.[3 ]'"
      ]
     },
     "execution_count": 12,
     "metadata": {},
     "output_type": "execute_result"
    }
   ],
   "source": [
    "clean_text"
   ]
  },
  {
   "cell_type": "code",
   "execution_count": 13,
   "id": "39864d14-b92b-4fe5-afb8-515e1c04d0b8",
   "metadata": {},
   "outputs": [
    {
     "name": "stdout",
     "output_type": "stream",
     "text": [
      "accord to consensu in modern genet , anatom modern human first arriv on the indian subcontin from africa between 73,000 and 55,000 year ago.[1 ] howev , the earliest known human remain in south asia date to 30,000 year ago . sedentari , which involv the transit from forag to farm and pastor , began in south asia around 7000 bce . at the site of mehrgarh , it presenc can be document , with evid of domest of wheat and barley , rapidli follow by that of goat , sheep , and cattle.[2 ] by 4500 bce , such settl life had increasingli spread , [ 2 ] and began to gradual evolv into the indu valley civilis , which wa contemporan with ancient egypt and mesopotamia . thi civilis flourish between 2500 bce and 1900 bce in present - day pakistan and north - western india , and wa note for it urban plan , bake brick hous , elabor drainag , and water supply.[3 ]\n"
     ]
    }
   ],
   "source": [
    "import nltk\n",
    "\n",
    "from nltk.stem import PorterStemmer\n",
    "\n",
    "stemm = PorterStemmer()\n",
    "\n",
    "stemmed_tokens = []\n",
    "\n",
    "for token in doc:\n",
    "    stemmed_token = stemm.stem(str(token))\n",
    "    stemmed_tokens.append(stemmed_token)\n",
    "\n",
    "clean_text = ' '.join(stemmed_tokens)\n",
    "# remove non-alphanumeric characters\n",
    "\n",
    "print(clean_text)"
   ]
  },
  {
   "cell_type": "code",
   "execution_count": 14,
   "id": "ef672968-a336-4aa3-a55e-a821c00d4a0f",
   "metadata": {},
   "outputs": [
    {
     "name": "stdout",
     "output_type": "stream",
     "text": [
      "accord to consensu in modern genet , anatom modern human first arriv on the indian subcontin from africa between 73,000 and 55,000 year ago.[1 ] howev , the earliest known human remain in south asia date to 30,000 year ago . sedentari , which involv the transit from forag to farm and pastor , began in south asia around 7000 bce . at the site of mehrgarh , it presenc can be document , with evid of domest of wheat and barley , rapidli follow by that of goat , sheep , and cattle.[2 ] by 4500 bce , such settl life had increasingli spread , [ 2 ] and began to gradual evolv into the indu valley civilis , which wa contemporan with ancient egypt and mesopotamia . thi civilis flourish between 2500 bce and 1900 bce in present - day pakistan and north - western india , and wa note for it urban plan , bake brick hous , elabor drainag , and water supply.[3 ]\n"
     ]
    }
   ],
   "source": [
    "# lemmatization \n",
    "\n",
    "from nltk.stem import WordNetLemmatizer\n",
    "\n",
    "lemma = WordNetLemmatizer()\n",
    "\n",
    "final = []\n",
    "\n",
    "for words in clean_text:\n",
    "    lem = lemma.lemmatize(str(clean_text))\n",
    "final.append(lem)  \n",
    "filnalre = ''.join(final)   \n",
    "print(filnalre)"
   ]
  },
  {
   "cell_type": "code",
   "execution_count": 15,
   "id": "0b49b4d7-6a02-4163-a64c-7cb672807f3c",
   "metadata": {},
   "outputs": [
    {
     "name": "stdout",
     "output_type": "stream",
     "text": [
      "accord to consensu in modern genet , anatom modern human first arriv on the indian subcontin from africa between 73,000 and 55,000 year ago.[1 ] howev , the early know human remain in south asia date to 30,000 year ago . sedentari , which involv the transit from forag to farm and pastor , begin in south asia around 7000 bce . at the site of mehrgarh , it presenc can be document , with evid of domest of wheat and barley , rapidli follow by that of goat , sheep , and cattle.[2 ] by 4500 bce , such settl life have increasingli spread , [ 2 ] and begin to gradual evolv into the indu valley civilis , which wa contemporan with ancient egypt and mesopotamia . thi civilis flourish between 2500 bce and 1900 bce in present - day pakistan and north - western india , and wa note for it urban plan , bake brick hous , elabor drainag , and water supply.[3 ]\n"
     ]
    }
   ],
   "source": [
    "# Lemmatize with spacy\n",
    "\n",
    "import spacy\n",
    "\n",
    "nlp = spacy.load('en_core_web_sm')\n",
    "\n",
    "doc = nlp(filnalre)\n",
    "\n",
    "f =[]\n",
    "for lem in doc:\n",
    "    f.append(lem.lemma_)\n",
    "    \n",
    "finaly = ' '.join(f)\n",
    "    \n",
    "print(finaly)"
   ]
  },
  {
   "cell_type": "code",
   "execution_count": 16,
   "id": "cbb48806-c8fc-4430-aefb-68da60355f59",
   "metadata": {
    "scrolled": true,
    "tags": []
   },
   "outputs": [
    {
     "name": "stdout",
     "output_type": "stream",
     "text": [
      "accord | noun\n",
      "to | adposition\n",
      "consensu | noun\n",
      "in | adposition\n",
      "modern | adjective\n",
      "genet | noun\n",
      ", | punctuation\n",
      "anatom | proper noun\n",
      "modern | adjective\n",
      "human | proper noun\n",
      "first | adjective\n",
      "arriv | noun\n",
      "on | adposition\n",
      "the | determiner\n",
      "indian | adjective\n",
      "subcontin | proper noun\n",
      "from | adposition\n",
      "africa | proper noun\n",
      "between | adposition\n",
      "73,000 | numeral\n",
      "and | coordinating conjunction\n",
      "55,000 | numeral\n",
      "year | noun\n",
      "ago.[1 | other\n",
      "] | other\n",
      "howev | noun\n",
      ", | punctuation\n",
      "the | determiner\n",
      "earliest | adjective\n",
      "known | verb\n",
      "human | noun\n",
      "remain | verb\n",
      "in | adposition\n",
      "south | proper noun\n",
      "asia | proper noun\n",
      "date | noun\n",
      "to | adposition\n",
      "30,000 | numeral\n",
      "year | noun\n",
      "ago | adverb\n",
      ". | punctuation\n",
      "sedentari | proper noun\n",
      ", | punctuation\n",
      "which | pronoun\n",
      "involv | verb\n",
      "the | determiner\n",
      "transit | noun\n",
      "from | adposition\n",
      "forag | noun\n",
      "to | adposition\n",
      "farm | noun\n",
      "and | coordinating conjunction\n",
      "pastor | noun\n",
      ", | punctuation\n",
      "began | verb\n",
      "in | adposition\n",
      "south | proper noun\n",
      "asia | proper noun\n",
      "around | adposition\n",
      "7000 | numeral\n",
      "bce | noun\n",
      ". | punctuation\n",
      "at | adposition\n",
      "the | determiner\n",
      "site | noun\n",
      "of | adposition\n",
      "mehrgarh | noun\n",
      ", | punctuation\n",
      "it | pronoun\n",
      "presenc | noun\n",
      "can | auxiliary\n",
      "be | auxiliary\n",
      "document | noun\n",
      ", | punctuation\n",
      "with | adposition\n",
      "evid | noun\n",
      "of | adposition\n",
      "domest | noun\n",
      "of | adposition\n",
      "wheat | noun\n",
      "and | coordinating conjunction\n",
      "barley | noun\n",
      ", | punctuation\n",
      "rapidli | proper noun\n",
      "follow | noun\n",
      "by | adposition\n",
      "that | pronoun\n",
      "of | adposition\n",
      "goat | proper noun\n",
      ", | punctuation\n",
      "sheep | noun\n",
      ", | punctuation\n",
      "and | coordinating conjunction\n",
      "cattle.[2 | punctuation\n",
      "] | punctuation\n",
      "by | adposition\n",
      "4500 | numeral\n",
      "bce | noun\n",
      ", | punctuation\n",
      "such | adjective\n",
      "settl | noun\n",
      "life | noun\n",
      "had | verb\n",
      "increasingli | proper noun\n",
      "spread | noun\n",
      ", | punctuation\n",
      "[ | punctuation\n",
      "2 | numeral\n",
      "] | punctuation\n",
      "and | coordinating conjunction\n",
      "began | verb\n",
      "to | adposition\n",
      "gradual | adjective\n",
      "evolv | noun\n",
      "into | adposition\n",
      "the | determiner\n",
      "indu | noun\n",
      "valley | noun\n",
      "civilis | proper noun\n",
      ", | punctuation\n",
      "which | pronoun\n",
      "wa | adposition\n",
      "contemporan | noun\n",
      "with | adposition\n",
      "ancient | adjective\n",
      "egypt | proper noun\n",
      "and | coordinating conjunction\n",
      "mesopotamia | noun\n",
      ". | punctuation\n",
      "thi | auxiliary\n",
      "civilis | proper noun\n",
      "flourish | verb\n",
      "between | adposition\n",
      "2500 | numeral\n",
      "bce | noun\n",
      "and | coordinating conjunction\n",
      "1900 | numeral\n",
      "bce | verb\n",
      "in | adposition\n",
      "present | adjective\n",
      "- | punctuation\n",
      "day | noun\n",
      "pakistan | proper noun\n",
      "and | coordinating conjunction\n",
      "north | noun\n",
      "- | punctuation\n",
      "western | adjective\n",
      "india | proper noun\n",
      ", | punctuation\n",
      "and | coordinating conjunction\n",
      "wa | adverb\n",
      "note | verb\n",
      "for | adposition\n",
      "it | pronoun\n",
      "urban | adjective\n",
      "plan | noun\n",
      ", | punctuation\n",
      "bake | noun\n",
      "brick | noun\n",
      "hous | adjective\n",
      ", | punctuation\n",
      "elabor | noun\n",
      "drainag | noun\n",
      ", | punctuation\n",
      "and | coordinating conjunction\n",
      "water | noun\n",
      "supply.[3 | verb\n",
      "] | punctuation\n"
     ]
    }
   ],
   "source": [
    "for ps in doc:\n",
    "    print(ps,'|',spacy.explain(ps.pos_))"
   ]
  },
  {
   "cell_type": "code",
   "execution_count": 22,
   "id": "c6a54847-180d-4de2-971c-17362541afec",
   "metadata": {},
   "outputs": [
    {
     "name": "stdout",
     "output_type": "stream",
     "text": [
      "first  |  \"first\", \"second\", etc.\n",
      "indian  |  Nationalities or religious or political groups\n",
      "africa  |  Non-GPE locations, mountain ranges, bodies of water\n",
      "between 73,000 and 55,000 year  |  Numerals that do not fall under another type\n",
      "south asia  |  Non-GPE locations, mountain ranges, bodies of water\n",
      "30,000 year ago  |  Absolute or relative dates or periods\n",
      "sedentari  |  People, including fictional\n",
      "south asia  |  Non-GPE locations, mountain ranges, bodies of water\n",
      "around 7000  |  Numerals that do not fall under another type\n",
      "4500  |  Numerals that do not fall under another type\n",
      "2  |  Numerals that do not fall under another type\n",
      "the indu valley  |  Non-GPE locations, mountain ranges, bodies of water\n",
      "egypt  |  Countries, cities, states\n",
      "2500  |  Numerals that do not fall under another type\n",
      "1900  |  Numerals that do not fall under another type\n",
      "present - day  |  Absolute or relative dates or periods\n",
      "pakistan  |  Countries, cities, states\n",
      "north - western  |  Countries, cities, states\n",
      "bake brick hous  |  Companies, agencies, institutions, etc.\n"
     ]
    }
   ],
   "source": [
    "for ps in doc.ents:\n",
    "    print(ps.text,\" | \",spacy.explain(ps.label_))"
   ]
  },
  {
   "cell_type": "code",
   "execution_count": null,
   "id": "d0d79253-92cb-4d89-a450-88453ed6f4f2",
   "metadata": {},
   "outputs": [],
   "source": []
  }
 ],
 "metadata": {
  "kernelspec": {
   "display_name": "Python 3 (ipykernel)",
   "language": "python",
   "name": "python3"
  },
  "language_info": {
   "codemirror_mode": {
    "name": "ipython",
    "version": 3
   },
   "file_extension": ".py",
   "mimetype": "text/x-python",
   "name": "python",
   "nbconvert_exporter": "python",
   "pygments_lexer": "ipython3",
   "version": "3.9.16"
  }
 },
 "nbformat": 4,
 "nbformat_minor": 5
}

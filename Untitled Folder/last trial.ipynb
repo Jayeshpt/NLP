{
 "cells": [
  {
   "cell_type": "code",
   "execution_count": 2,
   "id": "a6b62957-a6ac-4c14-8ef4-b4b67d9cfbb9",
   "metadata": {},
   "outputs": [],
   "source": [
    "text = \"\"\"IPO, Model S, and Model X (2010–2015)\n",
    "First deliveries of Model S at the Tesla Fremont Factory in California, in June 2012\n",
    "In May 2010, Tesla purchased what would later become the Tesla Factory in Fremont, California, from Toyota for $42 million,[34] and opened the facility in October 2010 to start production of the Model S.[35] On June 29, 2010, the company became a public company via an initial public offering (IPO) on NASDAQ, the first American car company to do so since the Ford Motor Company had its IPO in 1956.[36] The company issued 13.3 million shares of common stock at a price of $17.00 per share, raising $226 million.\"\"\""
   ]
  },
  {
   "cell_type": "code",
   "execution_count": 3,
   "id": "7cddb0c5-89ed-4529-9051-c35690ded734",
   "metadata": {},
   "outputs": [],
   "source": [
    "with open(\"textfile.txt\",'w') as file:\n",
    "    file.write(text)"
   ]
  },
  {
   "cell_type": "code",
   "execution_count": 5,
   "id": "edc609dd-efd3-4aa4-84e8-51867eb63fd4",
   "metadata": {},
   "outputs": [
    {
     "name": "stdout",
     "output_type": "stream",
     "text": [
      "IPO, Model S, and Model X (2010–2015)\n",
      "First deliveries of Model S at the Tesla Fremont Factory in California, in June 2012\n",
      "In May 2010, Tesla purchased what would later become the Tesla Factory in Fremont, California, from Toyota for $42 million,[34] and opened the facility in October 2010 to start production of the Model S.[35] On June 29, 2010, the company became a public company via an initial public offering (IPO) on NASDAQ, the first American car company to do so since the Ford Motor Company had its IPO in 1956.[36] The company issued 13.3 million shares of common stock at a price of $17.00 per share, raising $226 million.\n"
     ]
    }
   ],
   "source": [
    "with open('textfile.txt','r')as file:\n",
    "    data= file.read()\n",
    "    print(data)"
   ]
  },
  {
   "cell_type": "code",
   "execution_count": 6,
   "id": "f3d3da4c-5747-4fb3-9067-a4db83e96db4",
   "metadata": {},
   "outputs": [],
   "source": [
    "import spacy\n",
    "\n",
    "nlp = spacy.load('en_core_web_sm')\n",
    "\n",
    "doc = nlp(data)"
   ]
  },
  {
   "cell_type": "code",
   "execution_count": 7,
   "id": "3d896be0-8428-48a0-95cf-cad1367f4256",
   "metadata": {},
   "outputs": [
    {
     "data": {
      "text/plain": [
       "IPO, Model S, and Model X (2010–2015)\n",
       "First deliveries of Model S at the Tesla Fremont Factory in California, in June 2012\n",
       "In May 2010, Tesla purchased what would later become the Tesla Factory in Fremont, California, from Toyota for $42 million,[34] and opened the facility in October 2010 to start production of the Model S.[35] On June 29, 2010, the company became a public company via an initial public offering (IPO) on NASDAQ, the first American car company to do so since the Ford Motor Company had its IPO in 1956.[36] The company issued 13.3 million shares of common stock at a price of $17.00 per share, raising $226 million."
      ]
     },
     "execution_count": 7,
     "metadata": {},
     "output_type": "execute_result"
    }
   ],
   "source": [
    "doc"
   ]
  },
  {
   "cell_type": "code",
   "execution_count": 8,
   "id": "b0520fb1-ddfd-43bb-b87e-09584cb31687",
   "metadata": {},
   "outputs": [
    {
     "name": "stdout",
     "output_type": "stream",
     "text": [
      "IPO\n",
      ",\n",
      "Model\n",
      "S\n",
      ",\n",
      "and\n",
      "Model\n",
      "X\n",
      "(\n",
      "2010–2015\n",
      ")\n",
      "\n",
      "\n",
      "First\n",
      "deliveries\n",
      "of\n",
      "Model\n",
      "S\n",
      "at\n",
      "the\n",
      "Tesla\n",
      "Fremont\n",
      "Factory\n",
      "in\n",
      "California\n",
      ",\n",
      "in\n",
      "June\n",
      "2012\n",
      "\n",
      "\n",
      "In\n",
      "May\n",
      "2010\n",
      ",\n",
      "Tesla\n",
      "purchased\n",
      "what\n",
      "would\n",
      "later\n",
      "become\n",
      "the\n",
      "Tesla\n",
      "Factory\n",
      "in\n",
      "Fremont\n",
      ",\n",
      "California\n",
      ",\n",
      "from\n",
      "Toyota\n",
      "for\n",
      "$\n",
      "42\n",
      "million,[34\n",
      "]\n",
      "and\n",
      "opened\n",
      "the\n",
      "facility\n",
      "in\n",
      "October\n",
      "2010\n",
      "to\n",
      "start\n",
      "production\n",
      "of\n",
      "the\n",
      "Model\n",
      "S.[35\n",
      "]\n",
      "On\n",
      "June\n",
      "29\n",
      ",\n",
      "2010\n",
      ",\n",
      "the\n",
      "company\n",
      "became\n",
      "a\n",
      "public\n",
      "company\n",
      "via\n",
      "an\n",
      "initial\n",
      "public\n",
      "offering\n",
      "(\n",
      "IPO\n",
      ")\n",
      "on\n",
      "NASDAQ\n",
      ",\n",
      "the\n",
      "first\n",
      "American\n",
      "car\n",
      "company\n",
      "to\n",
      "do\n",
      "so\n",
      "since\n",
      "the\n",
      "Ford\n",
      "Motor\n",
      "Company\n",
      "had\n",
      "its\n",
      "IPO\n",
      "in\n",
      "1956.[36\n",
      "]\n",
      "The\n",
      "company\n",
      "issued\n",
      "13.3\n",
      "million\n",
      "shares\n",
      "of\n",
      "common\n",
      "stock\n",
      "at\n",
      "a\n",
      "price\n",
      "of\n",
      "$\n",
      "17.00\n",
      "per\n",
      "share\n",
      ",\n",
      "raising\n",
      "$\n",
      "226\n",
      "million\n",
      ".\n"
     ]
    }
   ],
   "source": [
    "for token in doc:\n",
    "    print(token)"
   ]
  },
  {
   "cell_type": "code",
   "execution_count": null,
   "id": "22822b10-2620-4058-9a6d-4a0bc31d2e29",
   "metadata": {},
   "outputs": [],
   "source": []
  }
 ],
 "metadata": {
  "kernelspec": {
   "display_name": "Python 3 (ipykernel)",
   "language": "python",
   "name": "python3"
  },
  "language_info": {
   "codemirror_mode": {
    "name": "ipython",
    "version": 3
   },
   "file_extension": ".py",
   "mimetype": "text/x-python",
   "name": "python",
   "nbconvert_exporter": "python",
   "pygments_lexer": "ipython3",
   "version": "3.9.16"
  }
 },
 "nbformat": 4,
 "nbformat_minor": 5
}

{
 "cells": [
  {
   "cell_type": "code",
   "execution_count": null,
   "id": "b1035833-9691-4a0a-94b5-ec0be9a55911",
   "metadata": {},
   "outputs": [],
   "source": []
  },
  {
   "cell_type": "code",
   "execution_count": 1,
   "id": "064acc68-eae1-4bbf-9168-cb30b92afff0",
   "metadata": {},
   "outputs": [],
   "source": [
    "from autoscraper import AutoScraper"
   ]
  },
  {
   "cell_type": "code",
   "execution_count": 2,
   "id": "6ed2bdcc-95b6-4b88-8add-fcfe9d15fd1a",
   "metadata": {},
   "outputs": [],
   "source": [
    "amazon_url = \"https://www.flipkart.com/search?q=samsung+watch&as=on&as-show=on&otracker=AS_Query_PredictiveAutoSuggest_8_0_na_na_na&otracker1=AS_Query_PredictiveAutoSuggest_8_0_na_na_na&as-pos=8&as-type=PREDICTIVE&suggestionId=samsung+watch&requestId=09e6dc03-5312-46ec-abe6-cc1fbc133d10&as-backfill=on\""
   ]
  },
  {
   "cell_type": "code",
   "execution_count": 3,
   "id": "8570502f-53bf-4870-aeb6-47d084f32647",
   "metadata": {},
   "outputs": [],
   "source": [
    "wanted_list = [\"SAMSUNG Galaxy Watch4 LTE (4.4cm)\",\"₹18,999\",\"608 Ratings & 65 Reviews\"]"
   ]
  },
  {
   "cell_type": "code",
   "execution_count": 4,
   "id": "54aacd39-66d0-4a5b-b976-a00d1a487de9",
   "metadata": {},
   "outputs": [
    {
     "name": "stdout",
     "output_type": "stream",
     "text": [
      "['SAMSUNG Watch 4, 44mmSuper AMOLED bluetooth calling function & body composition tracking', 'SAMSUNG Watch 5 40mmSuper AMOLED displayBluetooth calling & body composition tracking', 'SAMSUNG Watch 5 44mmSuper AMOLED displayLTE calling & body composition tracking', 'SAMSUNG Watch 5 pro 45mmSuper AMOLED displayBluetooth callingwith advanced GPS tracking', 'SAMSUNG Watch 5 pro45mmSuper AMOLED displayLTE callingwith advanced GPS tracking', 'SAMSUNG Watch 5 40mmSuper AMOLED display LTE calling & body composition tracking', 'SAMSUNG Galaxy Watch4 Classic Bluetooth (4.6cm)', 'Remaxa Waterproof Digital SmartWatch For Men & Women Smartwatch', 'Auto Ryde 4G Calling Bluetooth Camera SIM Card Support Phone Smartwatch Smartwatch', 'SAMSUNG Galaxy Watch4 LTE (4.4cm)', 'SAMSUNG Galaxy Watch4 Classic Bluetooth (4.2cm)', 'SAMSUNG Galaxy Watch4 Bluetooth (4.0cm)', 'Nemo Y6 Smart Watch for Android/iOS Phones |Waterproof & Touch Screen|(Pack of 1) Smartwatch', 'Octomate OD4 BT Smart watch | Call reminder, SpO2 | Fitness Tracker & Sleep Monitor Smartwatch', '₹31,999', '₹44,999', '₹18,999', '₹769', '₹24,999', '₹27,999', '₹18,990', '₹35,999', '₹49,999', '₹32,999', '₹22,869', '₹999', '₹34,999', '₹568', '₹699', '36,214 Ratings & 3,244 Reviews', '459 Ratings & 51 Reviews', '90 Ratings & 11 Reviews', '608 Ratings & 65 Reviews', '450 Ratings & 24 Reviews', '281 Ratings & 12 Reviews', '41 Ratings & 4 Reviews', '94 Ratings & 11 Reviews', '20 Ratings & 0 Reviews', '3 Ratings & 0 Reviews']\n"
     ]
    }
   ],
   "source": [
    "scraper = AutoScraper()\n",
    "result=scraper.build(amazon_url,wanted_list)\n",
    "print(result)"
   ]
  },
  {
   "cell_type": "markdown",
   "id": "6a901251-5142-4392-88ac-586075c2c5d8",
   "metadata": {},
   "source": [
    "Groping all the datas"
   ]
  },
  {
   "cell_type": "code",
   "execution_count": 5,
   "id": "93a907f1-6bb6-431c-82d7-3f7de355f72d",
   "metadata": {},
   "outputs": [
    {
     "data": {
      "text/plain": [
       "{'rule_69ng': ['GARMIN Vivomove Luxe Smartwatch',\n",
       "  'SAMSUNG Watch 5 40mmSuper AMOLED displayBluetooth calling & body composition tracking',\n",
       "  'SAMSUNG Watch 4, 44mmSuper AMOLED bluetooth calling function & body composition tracking',\n",
       "  'SAMSUNG Watch 5 44mmSuper AMOLED displayLTE calling & body composition tracking',\n",
       "  'SAMSUNG Watch 5 40mmSuper AMOLED display LTE calling & body composition tracking',\n",
       "  'SAMSUNG Watch 5 pro 45mmSuper AMOLED displayBluetooth callingwith advanced GPS tracking',\n",
       "  'SAMSUNG Watch 5 40mmSuper AMOLED displayBluetooth calling & body composition tracking',\n",
       "  'SAMSUNG Watch 5 pro45mmSuper AMOLED displayLTE callingwith advanced GPS tracking',\n",
       "  'SAMSUNG Galaxy Watch4 Classic Bluetooth (4.6cm)',\n",
       "  'SAMSUNG Watch 5 40mmSuper AMOLED display LTE calling & body composition tracking',\n",
       "  'SAMSUNG Watch 5 pro 45mmSuper AMOLED displayBluetooth callingwith advanced GPS tracking',\n",
       "  'SAMSUNG Watch 5 44mmSuper AMOLED displayLTE calling & body composition tracking',\n",
       "  'Auto Ryde 4G Calling Bluetooth Camera SIM Card Support Phone Smartwatch Smartwatch',\n",
       "  'Remaxa Waterproof Digital SmartWatch For Men & Women Smartwatch',\n",
       "  'SAMSUNG Watch 5 40mmSuper AMOLED displayBluetooth calling & body composition tracking',\n",
       "  'SAMSUNG Watch 5 44mmSuper AMOLED displayLTE calling & body composition tracking',\n",
       "  'SAMSUNG Galaxy Watch4 Classic Bluetooth (4.2cm)',\n",
       "  'SAMSUNG Galaxy Watch4 Bluetooth (4.0cm)',\n",
       "  'SAMSUNG Watch 5 pro45mmSuper AMOLED displayLTE callingwith advanced GPS tracking',\n",
       "  'SAMSUNG Galaxy Watch4 Classic Bluetooth (4.6cm)',\n",
       "  'SAMSUNG Galaxy Watch 3 45 mm LTE',\n",
       "  'SAMSUNG Galaxy Watch4 Classic LTE (4.6cm)',\n",
       "  'SAMSUNG Galaxy Watch4 Classic LTE (4.2cm)',\n",
       "  'SAMSUNG Galaxy Watch4 Classic LTE (4.2cm)'],\n",
       " 'rule_shyo': ['GARMIN Vivomove Luxe Smartwatch',\n",
       "  'SAMSUNG Watch 5 40mmSuper AMOLED displayBluetooth calling & body composition tracking',\n",
       "  'SAMSUNG Watch 4, 44mmSuper AMOLED bluetooth calling function & body composition tracking',\n",
       "  'SAMSUNG Watch 5 44mmSuper AMOLED displayLTE calling & body composition tracking',\n",
       "  'SAMSUNG Watch 5 40mmSuper AMOLED display LTE calling & body composition tracking',\n",
       "  'SAMSUNG Watch 5 pro 45mmSuper AMOLED displayBluetooth callingwith advanced GPS tracking',\n",
       "  'SAMSUNG Watch 5 40mmSuper AMOLED displayBluetooth calling & body composition tracking',\n",
       "  'SAMSUNG Watch 5 pro45mmSuper AMOLED displayLTE callingwith advanced GPS tracking',\n",
       "  'SAMSUNG Galaxy Watch4 Classic Bluetooth (4.6cm)',\n",
       "  'SAMSUNG Watch 5 40mmSuper AMOLED display LTE calling & body composition tracking',\n",
       "  'SAMSUNG Watch 5 pro 45mmSuper AMOLED displayBluetooth callingwith advanced GPS tracking',\n",
       "  'SAMSUNG Watch 5 44mmSuper AMOLED displayLTE calling & body composition tracking',\n",
       "  'Auto Ryde 4G Calling Bluetooth Camera SIM Card Support Phone Smartwatch Smartwatch',\n",
       "  'Remaxa Waterproof Digital SmartWatch For Men & Women Smartwatch',\n",
       "  'SAMSUNG Watch 5 40mmSuper AMOLED displayBluetooth calling & body composition tracking',\n",
       "  'SAMSUNG Watch 5 44mmSuper AMOLED displayLTE calling & body composition tracking',\n",
       "  'SAMSUNG Galaxy Watch4 Classic Bluetooth (4.2cm)',\n",
       "  'SAMSUNG Galaxy Watch4 Bluetooth (4.0cm)',\n",
       "  'SAMSUNG Watch 5 pro45mmSuper AMOLED displayLTE callingwith advanced GPS tracking',\n",
       "  'SAMSUNG Galaxy Watch4 Classic Bluetooth (4.6cm)',\n",
       "  'SAMSUNG Galaxy Watch 3 45 mm LTE',\n",
       "  'SAMSUNG Galaxy Watch4 Classic LTE (4.6cm)',\n",
       "  'SAMSUNG Galaxy Watch4 Classic LTE (4.2cm)',\n",
       "  'SAMSUNG Galaxy Watch4 Classic LTE (4.2cm)'],\n",
       " 'rule_dzcg': ['₹39,490', '₹31,999', '₹18,990', '₹44,999', '₹32,999'],\n",
       " 'rule_hqah': ['₹34,896',\n",
       "  '₹27,999',\n",
       "  '₹18,990',\n",
       "  '₹35,999',\n",
       "  '₹32,999',\n",
       "  '₹44,999',\n",
       "  '₹27,999',\n",
       "  '₹49,999',\n",
       "  '₹22,869',\n",
       "  '₹32,999',\n",
       "  '₹44,999',\n",
       "  '₹35,999',\n",
       "  '₹999',\n",
       "  '₹730',\n",
       "  '₹27,999',\n",
       "  '₹35,999',\n",
       "  '₹31,999',\n",
       "  '₹24,999',\n",
       "  '₹49,999',\n",
       "  '₹34,999',\n",
       "  '₹39,490',\n",
       "  '₹34,999',\n",
       "  '₹36,999',\n",
       "  '₹36,999'],\n",
       " 'rule_pu0v': ['₹34,896',\n",
       "  '₹27,999',\n",
       "  '₹18,990',\n",
       "  '₹35,999',\n",
       "  '₹32,999',\n",
       "  '₹44,999',\n",
       "  '₹27,999',\n",
       "  '₹49,999',\n",
       "  '₹22,869',\n",
       "  '₹32,999',\n",
       "  '₹44,999',\n",
       "  '₹35,999',\n",
       "  '₹999',\n",
       "  '₹730',\n",
       "  '₹27,999',\n",
       "  '₹35,999',\n",
       "  '₹31,999',\n",
       "  '₹24,999',\n",
       "  '₹49,999',\n",
       "  '₹34,999',\n",
       "  '₹39,490',\n",
       "  '₹34,999',\n",
       "  '₹36,999',\n",
       "  '₹36,999'],\n",
       " 'rule_aocu': ['459 Ratings & 51 Reviews',\n",
       "  '36,214 Ratings & 3,244 Reviews',\n",
       "  '459 Ratings & 51 Reviews',\n",
       "  '459 Ratings & 51 Reviews',\n",
       "  '90 Ratings & 11 Reviews',\n",
       "  '459 Ratings & 51 Reviews',\n",
       "  '90 Ratings & 11 Reviews',\n",
       "  '608 Ratings & 65 Reviews',\n",
       "  '459 Ratings & 51 Reviews',\n",
       "  '90 Ratings & 11 Reviews',\n",
       "  '459 Ratings & 51 Reviews',\n",
       "  '281 Ratings & 12 Reviews',\n",
       "  '450 Ratings & 24 Reviews',\n",
       "  '459 Ratings & 51 Reviews',\n",
       "  '459 Ratings & 51 Reviews',\n",
       "  '41 Ratings & 4 Reviews',\n",
       "  '94 Ratings & 11 Reviews',\n",
       "  '90 Ratings & 11 Reviews',\n",
       "  '608 Ratings & 65 Reviews',\n",
       "  '1,496 Ratings & 179 Reviews',\n",
       "  '608 Ratings & 65 Reviews',\n",
       "  '608 Ratings & 65 Reviews',\n",
       "  '608 Ratings & 65 Reviews'],\n",
       " 'rule_4wav': ['459 Ratings & 51 Reviews',\n",
       "  '36,214 Ratings & 3,244 Reviews',\n",
       "  '459 Ratings & 51 Reviews',\n",
       "  '459 Ratings & 51 Reviews',\n",
       "  '90 Ratings & 11 Reviews',\n",
       "  '459 Ratings & 51 Reviews',\n",
       "  '90 Ratings & 11 Reviews',\n",
       "  '608 Ratings & 65 Reviews',\n",
       "  '459 Ratings & 51 Reviews',\n",
       "  '90 Ratings & 11 Reviews',\n",
       "  '459 Ratings & 51 Reviews',\n",
       "  '281 Ratings & 12 Reviews',\n",
       "  '450 Ratings & 24 Reviews',\n",
       "  '459 Ratings & 51 Reviews',\n",
       "  '459 Ratings & 51 Reviews',\n",
       "  '41 Ratings & 4 Reviews',\n",
       "  '94 Ratings & 11 Reviews',\n",
       "  '90 Ratings & 11 Reviews',\n",
       "  '608 Ratings & 65 Reviews',\n",
       "  '1,496 Ratings & 179 Reviews',\n",
       "  '608 Ratings & 65 Reviews',\n",
       "  '608 Ratings & 65 Reviews',\n",
       "  '608 Ratings & 65 Reviews'],\n",
       " 'rule_ks0o': ['459 Ratings & 51 Reviews',\n",
       "  '36,214 Ratings & 3,244 Reviews',\n",
       "  '459 Ratings & 51 Reviews',\n",
       "  '459 Ratings & 51 Reviews',\n",
       "  '90 Ratings & 11 Reviews',\n",
       "  '459 Ratings & 51 Reviews',\n",
       "  '90 Ratings & 11 Reviews',\n",
       "  '608 Ratings & 65 Reviews',\n",
       "  '459 Ratings & 51 Reviews',\n",
       "  '90 Ratings & 11 Reviews',\n",
       "  '459 Ratings & 51 Reviews',\n",
       "  '281 Ratings & 12 Reviews',\n",
       "  '450 Ratings & 24 Reviews',\n",
       "  '459 Ratings & 51 Reviews',\n",
       "  '459 Ratings & 51 Reviews',\n",
       "  '41 Ratings & 4 Reviews',\n",
       "  '94 Ratings & 11 Reviews',\n",
       "  '90 Ratings & 11 Reviews',\n",
       "  '608 Ratings & 65 Reviews',\n",
       "  '1,496 Ratings & 179 Reviews',\n",
       "  '608 Ratings & 65 Reviews',\n",
       "  '608 Ratings & 65 Reviews',\n",
       "  '608 Ratings & 65 Reviews']}"
      ]
     },
     "execution_count": 5,
     "metadata": {},
     "output_type": "execute_result"
    }
   ],
   "source": [
    "scraper.get_result_similar(amazon_url,grouped=True)"
   ]
  },
  {
   "cell_type": "code",
   "execution_count": 8,
   "id": "a7c3d247-364b-41c3-a5cb-676474a87425",
   "metadata": {},
   "outputs": [
    {
     "data": {
      "text/plain": [
       "<bound method AutoScraper.save of <autoscraper.auto_scraper.AutoScraper object at 0x000002CD9B632310>>"
      ]
     },
     "execution_count": 8,
     "metadata": {},
     "output_type": "execute_result"
    }
   ],
   "source": [
    "scraper.set_rule_aliases({'rule_69ng':'Title','rule_hqah':'Price'})\n",
    "scraper.keep_rules(['rule_69ng','rule_hqah'])\n",
    "scraper.save"
   ]
  },
  {
   "cell_type": "code",
   "execution_count": 9,
   "id": "a548265b-4dcf-4909-9c8a-bd215e6bb607",
   "metadata": {},
   "outputs": [],
   "source": [
    "result=scraper.get_result_similar('https://www.flipkart.com/search?q=dizo+watch+r&sid=ajy%2Cbuh&as=on&as-show=on&otracker=AS_QueryStore_OrganicAutoSuggest_1_3_na_na_ps&otracker1=AS_QueryStore_OrganicAutoSuggest_1_3_na_na_ps&as-pos=1&as-type=RECENT&suggestionId=dizo+watch+r%7CSmart+Watches&requestId=29e0b64a-0d2d-447d-af01-7af73ff94178&as-backfill=on',group_by_alias=True)"
   ]
  },
  {
   "cell_type": "code",
   "execution_count": 11,
   "id": "2da3c92c-4043-450c-9b68-3da5d0343408",
   "metadata": {},
   "outputs": [
    {
     "data": {
      "text/plain": [
       "['₹2,999',\n",
       " '₹2,999',\n",
       " '₹2,999',\n",
       " '₹3,799',\n",
       " '₹3,799',\n",
       " '₹3,999',\n",
       " '₹3,999',\n",
       " '₹3,999',\n",
       " '₹3,399',\n",
       " '₹6,499',\n",
       " '₹599',\n",
       " '₹1,519',\n",
       " '₹568',\n",
       " '₹5,999',\n",
       " '₹568',\n",
       " '₹730',\n",
       " '₹568',\n",
       " '₹699',\n",
       " '₹568',\n",
       " '₹1,739',\n",
       " '₹568',\n",
       " '₹1,599',\n",
       " '₹568',\n",
       " '₹568']"
      ]
     },
     "execution_count": 11,
     "metadata": {},
     "output_type": "execute_result"
    }
   ],
   "source": [
    "result['Price']"
   ]
  },
  {
   "cell_type": "code",
   "execution_count": null,
   "id": "91af5c48-64c2-4334-8d99-405cd08cf2f2",
   "metadata": {},
   "outputs": [],
   "source": []
  }
 ],
 "metadata": {
  "kernelspec": {
   "display_name": "Python 3 (ipykernel)",
   "language": "python",
   "name": "python3"
  },
  "language_info": {
   "codemirror_mode": {
    "name": "ipython",
    "version": 3
   },
   "file_extension": ".py",
   "mimetype": "text/x-python",
   "name": "python",
   "nbconvert_exporter": "python",
   "pygments_lexer": "ipython3",
   "version": "3.9.16"
  }
 },
 "nbformat": 4,
 "nbformat_minor": 5
}
